{
 "cells": [
  {
   "cell_type": "code",
   "execution_count": 2,
   "metadata": {
    "collapsed": true
   },
   "outputs": [
    {
     "data": {
      "text/plain": "4"
     },
     "execution_count": 2,
     "metadata": {},
     "output_type": "execute_result"
    }
   ],
   "source": [
    "import numpy as np\n",
    "from scipy import stats\n"
   ]
  },
  {
   "cell_type": "code",
   "execution_count": 3,
   "outputs": [
    {
     "name": "stdout",
     "output_type": "stream",
     "text": [
      "1.791759469228055\n",
      "0.9162907318741551\n"
     ]
    }
   ],
   "source": [
    "a = 10\n",
    "b = 4\n",
    "print(np.log(a-b))\n",
    "print(np.log(a/b))"
   ],
   "metadata": {
    "collapsed": false,
    "pycharm": {
     "name": "#%%\n"
    }
   }
  },
  {
   "cell_type": "markdown",
   "source": [
    "# Notes log forward probs\n",
    "\n",
    "For $t=0$:\n",
    "\n",
    "$$\\alpha_{0} = \\delta \\cdot P(x_0)$$\n",
    "\n",
    "$$w_0 = \\alpha_0 \\cdot \\textbf{1'} $$\n",
    "\n",
    "$$\\phi_0 = \\frac{\\alpha_0}{w_0}  $$\n",
    "\n",
    "$$log L_0 = log(\\phi_0)  $$\n",
    "\n"
   ],
   "metadata": {
    "collapsed": false,
    "pycharm": {
     "name": "#%% md\n"
    }
   }
  },
  {
   "cell_type": "code",
   "source": [
    "def _log_forward_probs(self, observations):\n",
    "    ''' Compute log forward probabilities in scaled form. P(M=i , X=x)\n",
    "    Follows the method by Zucchini A.1.8 p 334. '''\n",
    "    N = len(observations)\n",
    "    log_alphas = np.zeros((N, self.n_states))  # initialize matrix with zeros\n",
    "\n",
    "    # a0, compute first forward as dot product of initial dist and state-dependent dist\n",
    "    # Each element is scaled to sum to 1 in order to handle numerical underflow\n",
    "    alpha_t = self.delta @ self.P(observations[0])\n",
    "    sum_alpha_t = np.sum(alpha_t)\n",
    "    alpha_t_scaled = alpha_t / sum_alpha_t\n",
    "    llk = np.log(sum_alpha_t)  # Scalar to store the log likelihood\n",
    "    log_alphas[0, :] = llk + np.log(alpha_t_scaled)\n",
    "\n",
    "    # a1 to at, compute recursively\n",
    "    for t in range(1, N):\n",
    "        alpha_t = alpha_t_scaled @ self.T @ self.P(observations[t])\n",
    "        sum_alpha_t = np.sum(alpha_t)\n",
    "        alpha_t_scaled = alpha_t / sum_alpha_t\n",
    "        llk = llk + np.log(sum_alpha_t) # Scalar to store likelihoods\n",
    "        log_alphas[t, :] = llk + np.log(alpha_t_scaled)  # alpha_t = previous likelihoods plus logarithm of regular\n",
    "                                                    # alpha - RESEARCH WHY YOU ADD THE PREVIOUS LIKELIHOOD\n",
    "\n",
    "    return log_alphas"
   ],
   "metadata": {
    "collapsed": false,
    "pycharm": {
     "name": "#%%\n"
    }
   },
   "execution_count": null,
   "outputs": []
  }
 ],
 "metadata": {
  "kernelspec": {
   "display_name": "Python 3",
   "language": "python",
   "name": "python3"
  },
  "language_info": {
   "codemirror_mode": {
    "name": "ipython",
    "version": 2
   },
   "file_extension": ".py",
   "mimetype": "text/x-python",
   "name": "python",
   "nbconvert_exporter": "python",
   "pygments_lexer": "ipython2",
   "version": "2.7.6"
  }
 },
 "nbformat": 4,
 "nbformat_minor": 0
}