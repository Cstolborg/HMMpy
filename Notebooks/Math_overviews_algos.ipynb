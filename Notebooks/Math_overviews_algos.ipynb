{
 "cells": [
  {
   "cell_type": "code",
   "execution_count": 1,
   "metadata": {
    "collapsed": true
   },
   "outputs": [],
   "source": [
    "import numpy as np\n",
    "from scipy import stats"
   ]
  },
  {
   "cell_type": "markdown",
   "source": [
    "### Forward algorithm scaling explained\n",
    "See p. 48 in Zucchini\n",
    "\n",
    "Let $\\alpha_t = (\\alpha_t(1)..\\alpha_t(m))$ be the forward probability vector at time t with m denoting the amount\n",
    "of states. Then the likelihood can be calculated recursively as:\n",
    "\n",
    "For $t=0$:\n",
    "\n",
    "- $\\alpha_{0} = \\delta \\cdot P(x_0)$\n",
    "- $w_0 = \\sum_{j=1}^m \\alpha_0(j) =  \\alpha_0 \\cdot \\textbf{1'} $\n",
    "- $$\\phi_0 = \\frac{\\alpha_0}{w_0}  $$\n",
    "- $$log L_0 = log(w_0)  $$\n",
    "- $$ log (\\alpha_0) = logL_0 + log(\\phi_0) $$\n",
    "\n",
    "For $t\\in 1..T$.\n",
    "- $\\alpha_t = \\phi_{t-1} \\cdot \\Gamma \\cdot P(x_t)$\n",
    "- $w_t = \\sum_{j=1}^m \\alpha_t(j) =  \\alpha_t \\cdot \\textbf{1'} $\n",
    "- $$\\phi_t = \\frac{\\alpha_t}{w_t}  $$\n",
    "- $$log L_t = L_{t-1} +  log(w_t)  $$\n",
    "- $$ log (\\alpha_t) = logL_t + log(\\phi_t) $$\n",
    "\n",
    "From this it is clear that:\n",
    "\n",
    "$logL_T = \\sum_{t=1}^T log(w_t) = \\sum_{t=1}^T log(\\alpha_t\\cdot \\textbf{1}^T) =\n",
    " \\sum_{t=1}^T log(\\phi_{t-1} \\cdot \\Gamma \\cdot P(x_t)\\cdot \\textbf{1}^T) $\n",
    "\n",
    " Thus the log likelihood follows directly from p. 48 in Zucchini.\n",
    "\n",
    " TODO $\\alpha_T$ however doesn't seem to match as:\n",
    "\n",
    "$log(\\alpha_T) = \\sum_{t=0}^T [log(w_t)] + log(\\frac{\\alpha_T}{w_T}) $\n",
    "\n",
    "Since $log(x)+log(y)=log(x*y)$ then:\n",
    "\n",
    "$log(\\alpha_T) = log(w_0*w_1*...*w_{t-1}*w_T*\\frac{\\alpha_T}{w_T}) $\n",
    "\n",
    "$log(\\alpha_T) = log(w_0*w_1*...*w_{t-1}*\\alpha_T) $\n",
    "\n",
    "$\\alpha_T = \\prod_{t=0}^T (\\alpha_t\\cdot \\textbf{1}) * \\alpha_T  $\n",
    "\n",
    "WHICH DOESn't MATCH P. 48 !!"
   ],
   "metadata": {
    "collapsed": false,
    "pycharm": {
     "name": "#%% md\n"
    }
   }
  },
  {
   "cell_type": "markdown",
   "source": [
    "### Rewriting $f_{jk} = \\hat v_{jk}(t) $\n",
    "To make the code more efficient\n",
    "\n",
    "From the definition on p. 71 we have\n",
    "\n",
    "$f_{jk} = \\sum_{t=2}^T \\hat v_{jk}(t)$\n",
    "\n",
    "$ \\hat v_{jk}(t) = \\gamma_{jk}\\alpha_{t-1}(j)p_k(x_t)\\beta_t(k)/L_T $\n",
    "\n",
    "Since $\\gamma_{jk}$ doesn't depend on t we can move it outside expression in $f_{jk}$\n",
    "\n",
    "$f_{jk} = \\gamma_{jk} \\sum_{t=2}^T \\alpha_{t-1}(j)p_k(x_t)\\beta_t(k)/L_T $\n",
    "\n",
    "We can then denote $\\alpha_j$, $\\beta_k$ and $P_k(x)$ as 1 x T vectors containing all time-dependent values given the state j and k to obtain:\n",
    "$f_{jk} = \\gamma_{jk} \\sum_{jk} \\alpha_{j}P_k(x)\\beta_k/L_T $\n",
    "\n",
    "Which now only only requires looping through possible values of j and k."
   ],
   "metadata": {
    "collapsed": false,
    "pycharm": {
     "name": "#%% md\n"
    }
   }
  },
  {
   "cell_type": "code",
   "source": [
    "from scipy import stats\n",
    "\n",
    "obs = [0.1, 0.15, 0.2, 1]\n",
    "print(obs)\n",
    "print(stats.norm.pdf(obs, loc=0, scale=0.5, ))\n",
    "print(stats.norm.pdf(obs, loc=1, scale=3, ))\n",
    "\n",
    "\n",
    "#print(stats.norm.pdf(0, loc=[0,1], scale=[0.5,3], ))\n",
    "\n"
   ],
   "metadata": {
    "collapsed": false,
    "pycharm": {
     "name": "#%%\n"
    }
   },
   "execution_count": 4,
   "outputs": [
    {
     "name": "stdout",
     "output_type": "stream",
     "text": [
      "[0.1, 0.15, 0.2, 1]\n",
      "[0.78208539 0.76277563 0.73654028 0.10798193]\n",
      "[0.12712927 0.12774877 0.12833562 0.13298076]\n"
     ]
    }
   ]
  },
  {
   "cell_type": "code",
   "execution_count": 29,
   "outputs": [
    {
     "ename": "AttributeError",
     "evalue": "'list' object has no attribute 'shape'",
     "output_type": "error",
     "traceback": [
      "\u001B[0;31m---------------------------------------------------------------------------\u001B[0m",
      "\u001B[0;31mAttributeError\u001B[0m                            Traceback (most recent call last)",
      "\u001B[0;32m<ipython-input-29-88dad6320369>\u001B[0m in \u001B[0;36m<module>\u001B[0;34m\u001B[0m\n\u001B[1;32m     10\u001B[0m                        + ((X[:, None, :] - means) ** 2 / covars).sum(axis=-1))\n\u001B[1;32m     11\u001B[0m \u001B[0;34m\u001B[0m\u001B[0m\n\u001B[0;32m---> 12\u001B[0;31m \u001B[0m_log_multivariate_normal_density_diag\u001B[0m\u001B[0;34m(\u001B[0m\u001B[0;34m[\u001B[0m\u001B[0;36m0\u001B[0m\u001B[0;34m,\u001B[0m\u001B[0;36m1\u001B[0m\u001B[0;34m,\u001B[0m\u001B[0;36m2\u001B[0m\u001B[0;34m,\u001B[0m\u001B[0;36m3\u001B[0m\u001B[0;34m,\u001B[0m\u001B[0;36m4\u001B[0m\u001B[0;34m]\u001B[0m\u001B[0;34m,\u001B[0m \u001B[0;36m2\u001B[0m\u001B[0;34m,\u001B[0m \u001B[0;36m3\u001B[0m\u001B[0;34m)\u001B[0m\u001B[0;34m\u001B[0m\u001B[0;34m\u001B[0m\u001B[0m\n\u001B[0m",
      "\u001B[0;32m<ipython-input-29-88dad6320369>\u001B[0m in \u001B[0;36m_log_multivariate_normal_density_diag\u001B[0;34m(X, means, covars)\u001B[0m\n\u001B[1;32m      2\u001B[0m     \u001B[0;34m\"\"\"Compute Gaussian log-density at X for a diagonal model.\"\"\"\u001B[0m\u001B[0;34m\u001B[0m\u001B[0;34m\u001B[0m\u001B[0m\n\u001B[1;32m      3\u001B[0m     \u001B[0;31m# X: (ns, nf); means: (nc, nf); covars: (nc, nf) -> (ns, nc)\u001B[0m\u001B[0;34m\u001B[0m\u001B[0;34m\u001B[0m\u001B[0;34m\u001B[0m\u001B[0m\n\u001B[0;32m----> 4\u001B[0;31m     \u001B[0mn_samples\u001B[0m\u001B[0;34m,\u001B[0m \u001B[0mn_dim\u001B[0m \u001B[0;34m=\u001B[0m \u001B[0mX\u001B[0m\u001B[0;34m.\u001B[0m\u001B[0mshape\u001B[0m\u001B[0;34m\u001B[0m\u001B[0;34m\u001B[0m\u001B[0m\n\u001B[0m\u001B[1;32m      5\u001B[0m     \u001B[0;31m# Avoid 0 log 0 = nan in degenerate covariance case.\u001B[0m\u001B[0;34m\u001B[0m\u001B[0;34m\u001B[0m\u001B[0;34m\u001B[0m\u001B[0m\n\u001B[1;32m      6\u001B[0m     \u001B[0mcovars\u001B[0m \u001B[0;34m=\u001B[0m \u001B[0mnp\u001B[0m\u001B[0;34m.\u001B[0m\u001B[0mmaximum\u001B[0m\u001B[0;34m(\u001B[0m\u001B[0mcovars\u001B[0m\u001B[0;34m,\u001B[0m \u001B[0mnp\u001B[0m\u001B[0;34m.\u001B[0m\u001B[0mfinfo\u001B[0m\u001B[0;34m(\u001B[0m\u001B[0mfloat\u001B[0m\u001B[0;34m)\u001B[0m\u001B[0;34m.\u001B[0m\u001B[0mtiny\u001B[0m\u001B[0;34m)\u001B[0m\u001B[0;34m\u001B[0m\u001B[0;34m\u001B[0m\u001B[0m\n",
      "\u001B[0;31mAttributeError\u001B[0m: 'list' object has no attribute 'shape'"
     ]
    }
   ],
   "source": [],
   "metadata": {
    "collapsed": false,
    "pycharm": {
     "name": "#%%\n"
    }
   }
  },
  {
   "cell_type": "code",
   "execution_count": null,
   "outputs": [],
   "source": [],
   "metadata": {
    "collapsed": false,
    "pycharm": {
     "name": "#%%\n"
    }
   }
  }
 ],
 "metadata": {
  "kernelspec": {
   "display_name": "Python 3",
   "language": "python",
   "name": "python3"
  },
  "language_info": {
   "codemirror_mode": {
    "name": "ipython",
    "version": 2
   },
   "file_extension": ".py",
   "mimetype": "text/x-python",
   "name": "python",
   "nbconvert_exporter": "python",
   "pygments_lexer": "ipython2",
   "version": "2.7.6"
  }
 },
 "nbformat": 4,
 "nbformat_minor": 0
}