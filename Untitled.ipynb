{
 "cells": [
  {
   "cell_type": "code",
   "execution_count": 87,
   "id": "designing-saint",
   "metadata": {},
   "outputs": [],
   "source": [
    "import numpy as np\n",
    "import pandas as pd\n",
    "import functools"
   ]
  },
  {
   "cell_type": "code",
   "execution_count": 107,
   "id": "abroad-brand",
   "metadata": {},
   "outputs": [],
   "source": [
    "Weights = np.array([[0.30,0.5,0,0.20],[0.3,0.4,0.1,0.2],[0.30,0.5,0,0.20],[0.3,0.4,0.1,0.2]])\n",
    "Cov = np.array([0.1,-0.1,0.2,0.5,-0.2,-0.4,0.4,0.7,0.1,-0.1,0.2,0.5,-0.2,-0.4,0.4,0.7]).reshape(4,4)"
   ]
  },
  {
   "cell_type": "code",
   "execution_count": null,
   "id": "neural-devices",
   "metadata": {},
   "outputs": [],
   "source": []
  },
  {
   "cell_type": "code",
   "execution_count": 131,
   "id": "breeding-string",
   "metadata": {},
   "outputs": [],
   "source": [
    "port_var = np.sum(Weights.T @ Cov @ Weights)"
   ]
  },
  {
   "cell_type": "code",
   "execution_count": null,
   "id": "manufactured-taiwan",
   "metadata": {},
   "outputs": [],
   "source": []
  },
  {
   "cell_type": "code",
   "execution_count": 132,
   "id": "antique-promise",
   "metadata": {},
   "outputs": [
    {
     "data": {
      "text/plain": [
       "2.4"
      ]
     },
     "execution_count": 132,
     "metadata": {},
     "output_type": "execute_result"
    }
   ],
   "source": [
    "port_var"
   ]
  },
  {
   "cell_type": "code",
   "execution_count": 91,
   "id": "celtic-gauge",
   "metadata": {},
   "outputs": [],
   "source": [
    "a = np.array([[1,1,1], [1,1,1], [1,1,1]])\n",
    "mat = np.array([[a,a,a,a], [a*2,a*2,a*2,a*2], [a*3,a*3,a*3,a*3]])"
   ]
  },
  {
   "cell_type": "code",
   "execution_count": 92,
   "id": "hollywood-hammer",
   "metadata": {},
   "outputs": [],
   "source": [
    "mat = mat.swapaxes(0, 1)\n",
    "result = functools.reduce(lambda a, b: np.einsum('ijk,ikl->ijl', a, b), mat[:])"
   ]
  },
  {
   "cell_type": "markdown",
   "id": "recovered-fairy",
   "metadata": {},
   "source": [
    "The einsum notation 'jk,kl->jl' expresses matrix multiplication, and the index i indicates it should be done over each value of 1st index. The first index of mat[0] or mat[1] is actually the second index of mat (column index), so as written, multiplication takes place in each column of mat. You wanted it to be done in each row, hence the use of swapaxes"
   ]
  },
  {
   "cell_type": "code",
   "execution_count": 93,
   "id": "pointed-sculpture",
   "metadata": {},
   "outputs": [
    {
     "data": {
      "text/plain": [
       "array([[[  27,   27,   27],\n",
       "        [  27,   27,   27],\n",
       "        [  27,   27,   27]],\n",
       "\n",
       "       [[ 432,  432,  432],\n",
       "        [ 432,  432,  432],\n",
       "        [ 432,  432,  432]],\n",
       "\n",
       "       [[2187, 2187, 2187],\n",
       "        [2187, 2187, 2187],\n",
       "        [2187, 2187, 2187]]])"
      ]
     },
     "execution_count": 93,
     "metadata": {},
     "output_type": "execute_result"
    }
   ],
   "source": [
    "result"
   ]
  },
  {
   "cell_type": "code",
   "execution_count": null,
   "id": "residential-pipeline",
   "metadata": {},
   "outputs": [],
   "source": []
  },
  {
   "cell_type": "code",
   "execution_count": null,
   "id": "legislative-antarctica",
   "metadata": {},
   "outputs": [],
   "source": []
  }
 ],
 "metadata": {
  "kernelspec": {
   "display_name": "Python 3",
   "language": "python",
   "name": "python3"
  },
  "language_info": {
   "codemirror_mode": {
    "name": "ipython",
    "version": 3
   },
   "file_extension": ".py",
   "mimetype": "text/x-python",
   "name": "python",
   "nbconvert_exporter": "python",
   "pygments_lexer": "ipython3",
   "version": "3.8.5"
  }
 },
 "nbformat": 4,
 "nbformat_minor": 5
}
