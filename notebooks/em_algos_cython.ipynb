{
 "cells": [
  {
   "cell_type": "code",
   "execution_count": 1,
   "metadata": {},
   "outputs": [],
   "source": [
    "%load_ext cython"
   ]
  },
  {
   "cell_type": "code",
   "execution_count": 2,
   "metadata": {},
   "outputs": [
    {
     "data": {
      "text/plain": [
       "'C:\\\\Users\\\\chris\\\\PycharmProjects\\\\hmm-master'"
      ]
     },
     "execution_count": 2,
     "metadata": {},
     "output_type": "execute_result"
    }
   ],
   "source": [
    "import os\n",
    "os.chdir(\"C:\\\\Users\\\\chris\\\\PycharmProjects\\\\hmm-master\")\n",
    "os.getcwd()"
   ]
  },
  {
   "cell_type": "code",
   "execution_count": 3,
   "metadata": {
    "pycharm": {
     "name": "#%%\n"
    }
   },
   "outputs": [],
   "source": [
    "from utils.simulate_returns import simulate_2state_gaussian\n",
    "from models.hmm_cython import _log_forward_probs\n",
    "from models.hmm_gaussian_em import EMHiddenMarkov"
   ]
  },
  {
   "cell_type": "markdown",
   "metadata": {},
   "source": [
    "# HMMLEARN speed"
   ]
  },
  {
   "cell_type": "code",
   "execution_count": 4,
   "metadata": {},
   "outputs": [
    {
     "data": {
      "text/plain": [
       "GaussianHMM(n_components=2)"
      ]
     },
     "execution_count": 4,
     "metadata": {},
     "output_type": "execute_result"
    }
   ],
   "source": [
    "from utils.simulate_returns import simulate_2state_gaussian\n",
    "\n",
    "from hmmlearn import hmm\n",
    "from hmmlearn import _hmmc\n",
    "\n",
    "\n",
    "model = hmm.GaussianHMM(n_components=2)\n",
    "\n",
    "returns, true_regimes = simulate_2state_gaussian(plotting=False)  # Simulate some data from two normal distributions\n",
    "returns = returns.reshape(-1,1)\n",
    "\n",
    "model.fit(returns)"
   ]
  },
  {
   "cell_type": "code",
   "execution_count": 5,
   "metadata": {},
   "outputs": [
    {
     "name": "stdout",
     "output_type": "stream",
     "text": [
      "179 µs ± 15.1 µs per loop (mean ± std. dev. of 10 runs, 100 loops each)\n"
     ]
    }
   ],
   "source": [
    "%%timeit -n100 -r10\n",
    "framelogprob = model._compute_log_likelihood(returns)\n",
    "logprob, fwdlattice = model._do_forward_pass(framelogprob)"
   ]
  },
  {
   "cell_type": "markdown",
   "metadata": {},
   "source": [
    "# Init data and variables"
   ]
  },
  {
   "cell_type": "code",
   "execution_count": 8,
   "metadata": {
    "pycharm": {
     "name": "#%%\n"
    },
    "scrolled": true
   },
   "outputs": [
    {
     "name": "stdout",
     "output_type": "stream",
     "text": [
      "emissions [[3.61951205 1.25613906]\n",
      " [4.09890793 1.61612958]\n",
      " [3.29657387 1.1658601 ]\n",
      " [1.18219783 0.67703196]\n",
      " [4.02197665 1.66433172]\n",
      " [4.0219931  1.66432367]\n",
      " [1.07613723 0.64960506]\n",
      " [3.00809264 1.09449702]\n",
      " [3.68147914 1.77165268]\n",
      " [3.52737752 1.22874097]]\n",
      "init dist:  [1.00000000e+00 9.80619485e-21]\n",
      "TPM :  [[0.99656988 0.00343012]\n",
      " [0.00528727 0.99471273]]\n"
     ]
    }
   ],
   "source": [
    "# Generate some data\n",
    "returns, true_regimes = simulate_2state_gaussian(plotting=False)  # Simulate some data from two normal distributions\n",
    "\n",
    "# Init model\n",
    "model = EMHiddenMarkov(n_states=2, init=\"random\", random_state=42)\n",
    "model.fit(returns)\n",
    "\n",
    "emission_probs = model.emission_probs_\n",
    "delta = model.delta\n",
    "TPM = model.T\n",
    "n_states = 2\n",
    "\n",
    "print(\"emissions\",emission_probs[:10])\n",
    "print('init dist: ', delta)\n",
    "print(\"TPM : \", TPM)"
   ]
  },
  {
   "cell_type": "markdown",
   "metadata": {},
   "source": [
    "# Pure python function to compare speeds"
   ]
  },
  {
   "cell_type": "code",
   "execution_count": 9,
   "metadata": {
    "pycharm": {
     "name": "#%%\n"
    }
   },
   "outputs": [],
   "source": [
    "import numpy as np\n",
    "\n",
    "def _log_forward_proba(n_states, X, emission_probs, delta, TPM):  # TODO not working yet\n",
    "    T = len(X)\n",
    "    log_alphas = np.zeros((T, n_states))  # initialize matrix with zeros\n",
    "\n",
    "    # a0, compute first forward as dot product of initial dist and state-dependent dist\n",
    "    # Each element is scaled to sum to 1 in order to handle numerical underflow\n",
    "    alpha_t = delta * emission_probs[0, :]\n",
    "    sum_alpha_t = np.sum(alpha_t)\n",
    "    alpha_t_scaled = alpha_t / sum_alpha_t\n",
    "    llk = np.log(sum_alpha_t)  # Scalar to store the log likelihood\n",
    "    log_alphas[0, :] = llk + np.log(alpha_t_scaled)\n",
    "\n",
    "    # a1 to at, compute recursively\n",
    "    for t in range(1, T):\n",
    "        alpha_t = (alpha_t_scaled @ TPM) * emission_probs[t, :]  # Dot product of previous forward_prob, transition matrix and emmission probablitites\n",
    "        sum_alpha_t = np.sum(alpha_t)\n",
    "\n",
    "        alpha_t_scaled = alpha_t / sum_alpha_t  # Scale forward_probs to sum to 1\n",
    "        llk = llk + np.log(sum_alpha_t)  # Scalar to store likelihoods\n",
    "        log_alphas[t, :] = llk + np.log(alpha_t_scaled)\n",
    "\n",
    "    return log_alphas\n",
    "\n",
    "#_log_forward_proba(n_states, returns, emission_probs, delta, TPM)"
   ]
  },
  {
   "cell_type": "code",
   "execution_count": 10,
   "metadata": {
    "pycharm": {
     "name": "#%%\n"
    }
   },
   "outputs": [
    {
     "name": "stdout",
     "output_type": "stream",
     "text": [
      "10.3 ms ± 220 µs per loop (mean ± std. dev. of 10 runs, 100 loops each)\n"
     ]
    }
   ],
   "source": [
    "%%timeit -n100 -r10\n",
    "_log_forward_proba(n_states, returns, emission_probs, delta, TPM)"
   ]
  },
  {
   "cell_type": "markdown",
   "metadata": {},
   "source": [
    "# Cython versions"
   ]
  },
  {
   "cell_type": "code",
   "execution_count": 11,
   "metadata": {
    "pycharm": {
     "name": "#%%\n"
    }
   },
   "outputs": [],
   "source": [
    "%%cython\n",
    "\n",
    "import numpy as np\n",
    "\n",
    "def log_forward_proba_c(n_states, X, emission_probs, delta, TPM):  # TODO not working yet\n",
    "    T = len(X)\n",
    "    log_alphas = np.zeros((T, n_states))  # initialize matrix with zeros\n",
    "\n",
    "    # a0, compute first forward as dot product of initial dist and state-dependent dist\n",
    "    # Each element is scaled to sum to 1 in order to handle numerical underflow\n",
    "    alpha_t = delta * emission_probs[0, :]\n",
    "    sum_alpha_t = np.sum(alpha_t)\n",
    "    alpha_t_scaled = alpha_t / sum_alpha_t\n",
    "    llk = np.log(sum_alpha_t)  # Scalar to store the log likelihood\n",
    "    log_alphas[0, :] = llk + np.log(alpha_t_scaled)\n",
    "\n",
    "    # a1 to at, compute recursively\n",
    "    for t in range(1, T):\n",
    "        alpha_t = np.dot(alpha_t_scaled, TPM) * emission_probs[t, :]  # Dot product of previous forward_prob, transition matrix and emmission probablitites\n",
    "        sum_alpha_t = np.sum(alpha_t)\n",
    "\n",
    "        alpha_t_scaled = alpha_t / sum_alpha_t  # Scale forward_probs to sum to 1\n",
    "        llk = llk + np.log(sum_alpha_t)  # Scalar to store likelihoods\n",
    "        log_alphas[t, :] = llk + np.log(alpha_t_scaled) \n",
    "\n",
    "    return log_alphas"
   ]
  },
  {
   "cell_type": "code",
   "execution_count": 12,
   "metadata": {
    "pycharm": {
     "name": "#%%\n"
    }
   },
   "outputs": [
    {
     "name": "stdout",
     "output_type": "stream",
     "text": [
      "9.83 ms ± 126 µs per loop (mean ± std. dev. of 10 runs, 100 loops each)\n"
     ]
    }
   ],
   "source": [
    "%%timeit -n100 -r10\n",
    "log_forward_proba_c(n_states, returns, emission_probs, delta, TPM)"
   ]
  },
  {
   "cell_type": "code",
   "execution_count": 13,
   "metadata": {
    "pycharm": {
     "name": "#%%\n"
    }
   },
   "outputs": [],
   "source": [
    "%%cython\n",
    "\n",
    "import numpy as np\n",
    "cimport numpy as np\n",
    "\n",
    "\n",
    "\n",
    "def log_forward_proba_c(int n_states, np.ndarray[double, ndim=1] X, np.ndarray[double, ndim=2] emission_probs,\n",
    "                        np.ndarray[double, ndim=1] delta, np.ndarray[double, ndim=2] TPM):  # TODO not working yet\n",
    "    cdef int T = len(X)\n",
    "    cdef np.ndarray[double, ndim=2] log_alphas = np.zeros((T, n_states), dtype=np.float)  # initialize matrix with zeros\n",
    "\n",
    "    # a0, compute first forward as dot product of initial dist and state-dependent dist\n",
    "    # Each element is scaled to sum to 1 in order to handle numerical underflow\n",
    "    cdef np.ndarray[double, ndim=1] alpha_t = delta * emission_probs[0, :]\n",
    "    cdef double sum_alpha_t = np.sum(alpha_t)\n",
    "    cdef np.ndarray[double, ndim=1] alpha_t_scaled = alpha_t / sum_alpha_t\n",
    "    cdef double llk = np.log(sum_alpha_t)  # Scalar to store the log likelihood\n",
    "    log_alphas[0, :] = llk + np.log(alpha_t_scaled)\n",
    "\n",
    "    # a1 to at, compute recursively\n",
    "    cdef int t\n",
    "    \n",
    "    for t in range(1, T):\n",
    "        alpha_t = np.dot(alpha_t_scaled, TPM) * emission_probs[t, :]  # Dot product of previous forward_prob, transition matrix and emmission probablitites\n",
    "        sum_alpha_t = np.sum(alpha_t)\n",
    "\n",
    "        alpha_t_scaled = alpha_t / sum_alpha_t  # Scale forward_probs to sum to 1\n",
    "        llk = llk + np.log(sum_alpha_t)  # Scalar to store likelihoods\n",
    "        log_alphas[t, :] = llk + np.log(alpha_t_scaled) \n",
    "\n",
    "    return log_alphas"
   ]
  },
  {
   "cell_type": "code",
   "execution_count": 14,
   "metadata": {},
   "outputs": [
    {
     "name": "stdout",
     "output_type": "stream",
     "text": [
      "10.3 ms ± 149 µs per loop (mean ± std. dev. of 10 runs, 100 loops each)\n"
     ]
    }
   ],
   "source": [
    "%%timeit -n100 -r10\n",
    "log_forward_proba_c(n_states, returns, emission_probs, delta, TPM)"
   ]
  },
  {
   "cell_type": "code",
   "execution_count": null,
   "metadata": {},
   "outputs": [],
   "source": []
  },
  {
   "cell_type": "code",
   "execution_count": null,
   "metadata": {},
   "outputs": [],
   "source": []
  },
  {
   "cell_type": "code",
   "execution_count": null,
   "metadata": {},
   "outputs": [],
   "source": []
  },
  {
   "cell_type": "code",
   "execution_count": null,
   "metadata": {},
   "outputs": [],
   "source": []
  },
  {
   "cell_type": "code",
   "execution_count": null,
   "metadata": {},
   "outputs": [],
   "source": []
  }
 ],
 "metadata": {
  "kernelspec": {
   "display_name": "Python 3",
   "language": "python",
   "name": "python3"
  },
  "language_info": {
   "codemirror_mode": {
    "name": "ipython",
    "version": 3
   },
   "file_extension": ".py",
   "mimetype": "text/x-python",
   "name": "python",
   "nbconvert_exporter": "python",
   "pygments_lexer": "ipython3",
   "version": "3.9.1"
  }
 },
 "nbformat": 4,
 "nbformat_minor": 1
}
