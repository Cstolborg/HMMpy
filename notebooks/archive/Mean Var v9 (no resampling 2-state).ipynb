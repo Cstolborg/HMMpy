{
 "cells": [
  {
   "cell_type": "code",
   "execution_count": null,
   "metadata": {
    "colab": {
     "base_uri": "https://localhost:8080/",
     "height": 101
    },
    "colab_type": "code",
    "executionInfo": {
     "elapsed": 3395,
     "status": "ok",
     "timestamp": 1592487779458,
     "user": {
      "displayName": "Nikolaj Abrahamsen",
      "photoUrl": "https://lh6.googleusercontent.com/-wmQUuA-e1Jc/AAAAAAAAAAI/AAAAAAAAB_g/09HiaPQYM_o/s64/photo.jpg",
      "userId": "03078334218243735435"
     },
     "user_tz": -120
    },
    "id": "STz8YEyr1UYv",
    "outputId": "f0ab2e5c-4629-4d0a-feb7-772209e1bd22"
   },
   "outputs": [
    {
     "name": "stdout",
     "output_type": "stream",
     "text": [
      "Requirement already satisfied: hmmlearn in /usr/local/lib/python3.6/dist-packages (0.2.3)\n",
      "Requirement already satisfied: scikit-learn>=0.16 in /usr/local/lib/python3.6/dist-packages (from hmmlearn) (0.22.2.post1)\n",
      "Requirement already satisfied: numpy>=1.10 in /usr/local/lib/python3.6/dist-packages (from hmmlearn) (1.18.5)\n",
      "Requirement already satisfied: scipy>=0.15 in /usr/local/lib/python3.6/dist-packages (from hmmlearn) (1.4.1)\n",
      "Requirement already satisfied: joblib>=0.11 in /usr/local/lib/python3.6/dist-packages (from scikit-learn>=0.16->hmmlearn) (0.15.1)\n"
     ]
    }
   ],
   "source": [
    "!pip install hmmlearn"
   ]
  },
  {
   "cell_type": "code",
   "execution_count": null,
   "metadata": {
    "colab": {},
    "colab_type": "code",
    "id": "C896Jx4L1p3G"
   },
   "outputs": [],
   "source": [
    "# Install the PyDrive wrapper & import libraries.\n",
    "# This only needs to be done once per notebook.\n",
    "!pip install -U -q PyDrive\n",
    "from pydrive.auth import GoogleAuth\n",
    "from pydrive.drive import GoogleDrive\n",
    "from google.colab import auth\n",
    "from oauth2client.client import GoogleCredentials\n",
    "\n",
    "# Authenticate and create the PyDrive client.\n",
    "# This only needs to be done once per notebook.\n",
    "auth.authenticate_user()\n",
    "gauth = GoogleAuth()\n",
    "gauth.credentials = GoogleCredentials.get_application_default()\n",
    "drive = GoogleDrive(gauth)\n",
    "\n",
    "# Import HMM model\n",
    "file_id = '1g1oFUsiGewS48FEjK_fSsBxrPGKAZqr2'\n",
    "downloaded = drive.CreateFile({'id': file_id})\n",
    "downloaded.GetContentFile('HMM_model.pkl')\n",
    "\n",
    "# Import predicted states for 2-state model\n",
    "file_id = '1GkgdECPAE6IYo--HqNNktBROd6Jd73ww'\n",
    "downloaded = drive.CreateFile({'id': file_id})\n",
    "downloaded.GetContentFile('2-state predictions.csv')\n",
    "\n",
    "# Asset classes\n",
    "file_id = '1MiP5SOVOAYp2dfS9jyc8ETIyIbLp-1K4'\n",
    "downloaded = drive.CreateFile({'id': file_id})\n",
    "downloaded.GetContentFile('Asset Classes.xlsx')\n",
    "\n",
    "# New 3M bill\n",
    "file_id = '1y82lxkcwWPUXc8nCOUVTiVkxh8hJt1AB'\n",
    "downloaded = drive.CreateFile({'id': file_id})\n",
    "downloaded.GetContentFile('3M.xlsx')\n"
   ]
  },
  {
   "cell_type": "code",
   "execution_count": 1,
   "metadata": {
    "colab": {},
    "colab_type": "code",
    "id": "IJT05W331OL-"
   },
   "outputs": [],
   "source": [
    " import warnings\n",
    "warnings.filterwarnings(\"ignore\")\n",
    "\n",
    "#import packages for use later in the HMM code\n",
    "from hmmlearn import hmm\n",
    "import pandas as pd; pd.set_option('precision', 10)\n",
    "import numpy as np; np.set_printoptions(precision=10, suppress=True)\n",
    "from scipy import stats\n",
    "\n",
    "import matplotlib.pyplot as plt\n",
    "fontsize = 15 # Set fontsize for all figures\n",
    "plt.rc('font', size=fontsize)          # controls default text sizes\n",
    "plt.rc('axes', titlesize=fontsize)     # fontsize of the axes title\n",
    "plt.rc('axes', labelsize=fontsize)    # fontsize of the x and y labels\n",
    "plt.rc('xtick', labelsize=fontsize)    # fontsize of the tick labels\n",
    "plt.rc('ytick', labelsize=fontsize)    # fontsize of the tick labels\n",
    "plt.rc('legend', fontsize=fontsize)    # legend fontsize\n",
    "plt.rc('figure', titlesize=fontsize)  # fontsize of the figure title\n",
    "\n",
    "import scipy.optimize as opt\n",
    "import datetime as dt\n",
    "import pickle\n",
    "\n",
    "def printf(text, value, pct=False):\n",
    "    if pct == True:\n",
    "        print(text, f\"{value*100:.8f}%\")\n",
    "    else:\n",
    "        print(text, f\"{value:.8f}\")"
   ]
  },
  {
   "cell_type": "markdown",
   "metadata": {
    "colab_type": "text",
    "id": "bE-EIfbA1OMD"
   },
   "source": [
    "# Load and visualize data"
   ]
  },
  {
   "cell_type": "code",
   "execution_count": 5,
   "metadata": {
    "colab": {
     "base_uri": "https://localhost:8080/",
     "height": 322
    },
    "colab_type": "code",
    "executionInfo": {
     "elapsed": 13794,
     "status": "ok",
     "timestamp": 1592487789896,
     "user": {
      "displayName": "Nikolaj Abrahamsen",
      "photoUrl": "https://lh6.googleusercontent.com/-wmQUuA-e1Jc/AAAAAAAAAAI/AAAAAAAAB_g/09HiaPQYM_o/s64/photo.jpg",
      "userId": "03078334218243735435"
     },
     "user_tz": -120
    },
    "id": "9w4ZsdAA1OMD",
    "outputId": "95c5a7d2-7a09-42d7-bddc-c1674123df1d"
   },
   "outputs": [
    {
     "data": {
      "text/html": [
       "<div>\n",
       "<style scoped>\n",
       "    .dataframe tbody tr th:only-of-type {\n",
       "        vertical-align: middle;\n",
       "    }\n",
       "\n",
       "    .dataframe tbody tr th {\n",
       "        vertical-align: top;\n",
       "    }\n",
       "\n",
       "    .dataframe thead th {\n",
       "        text-align: right;\n",
       "    }\n",
       "</style>\n",
       "<table border=\"1\" class=\"dataframe\">\n",
       "  <thead>\n",
       "    <tr style=\"text-align: right;\">\n",
       "      <th></th>\n",
       "      <th>states</th>\n",
       "      <th>log returns</th>\n",
       "      <th>Notes</th>\n",
       "      <th>Global HY</th>\n",
       "      <th>EMD</th>\n",
       "      <th>ACWI</th>\n",
       "      <th>Gold</th>\n",
       "      <th>Private Equity</th>\n",
       "      <th>Investment Grade</th>\n",
       "      <th>Commodities</th>\n",
       "      <th>Long bonds</th>\n",
       "      <th>rf</th>\n",
       "    </tr>\n",
       "    <tr>\n",
       "      <th>Date</th>\n",
       "      <th></th>\n",
       "      <th></th>\n",
       "      <th></th>\n",
       "      <th></th>\n",
       "      <th></th>\n",
       "      <th></th>\n",
       "      <th></th>\n",
       "      <th></th>\n",
       "      <th></th>\n",
       "      <th></th>\n",
       "      <th></th>\n",
       "      <th></th>\n",
       "    </tr>\n",
       "  </thead>\n",
       "  <tbody>\n",
       "    <tr>\n",
       "      <th>2015-05-19</th>\n",
       "      <td>0</td>\n",
       "      <td>-0.0026139017</td>\n",
       "      <td>100.0000000000</td>\n",
       "      <td>100.0000000000</td>\n",
       "      <td>100.0000000000</td>\n",
       "      <td>100.0000000000</td>\n",
       "      <td>100.0000000000</td>\n",
       "      <td>100.0000000000</td>\n",
       "      <td>100.0000000000</td>\n",
       "      <td>100.0000000000</td>\n",
       "      <td>100.0000000000</td>\n",
       "      <td>0.0000002767</td>\n",
       "    </tr>\n",
       "    <tr>\n",
       "      <th>2015-05-20</th>\n",
       "      <td>0</td>\n",
       "      <td>0.0002561982</td>\n",
       "      <td>99.9368556935</td>\n",
       "      <td>99.9273028721</td>\n",
       "      <td>100.0496116272</td>\n",
       "      <td>99.9745194684</td>\n",
       "      <td>100.1606146408</td>\n",
       "      <td>100.1169566325</td>\n",
       "      <td>99.8500384692</td>\n",
       "      <td>100.1343323797</td>\n",
       "      <td>99.7635822719</td>\n",
       "      <td>0.0000004164</td>\n",
       "    </tr>\n",
       "  </tbody>\n",
       "</table>\n",
       "</div>"
      ],
      "text/plain": [
       "            states   log returns           Notes       Global HY  \\\n",
       "Date                                                               \n",
       "2015-05-19       0 -0.0026139017  100.0000000000  100.0000000000   \n",
       "2015-05-20       0  0.0002561982   99.9368556935   99.9273028721   \n",
       "\n",
       "                       EMD            ACWI            Gold  Private Equity  \\\n",
       "Date                                                                         \n",
       "2015-05-19  100.0000000000  100.0000000000  100.0000000000  100.0000000000   \n",
       "2015-05-20  100.0496116272   99.9745194684  100.1606146408  100.1169566325   \n",
       "\n",
       "            Investment Grade     Commodities      Long bonds            rf  \n",
       "Date                                                                        \n",
       "2015-05-19    100.0000000000  100.0000000000  100.0000000000  0.0000002767  \n",
       "2015-05-20     99.8500384692  100.1343323797   99.7635822719  0.0000004164  "
      ]
     },
     "metadata": {},
     "output_type": "display_data"
    },
    {
     "data": {
      "text/html": [
       "<div>\n",
       "<style scoped>\n",
       "    .dataframe tbody tr th:only-of-type {\n",
       "        vertical-align: middle;\n",
       "    }\n",
       "\n",
       "    .dataframe tbody tr th {\n",
       "        vertical-align: top;\n",
       "    }\n",
       "\n",
       "    .dataframe thead th {\n",
       "        text-align: right;\n",
       "    }\n",
       "</style>\n",
       "<table border=\"1\" class=\"dataframe\">\n",
       "  <thead>\n",
       "    <tr style=\"text-align: right;\">\n",
       "      <th></th>\n",
       "      <th>states</th>\n",
       "      <th>log returns</th>\n",
       "      <th>Notes</th>\n",
       "      <th>Global HY</th>\n",
       "      <th>EMD</th>\n",
       "      <th>ACWI</th>\n",
       "      <th>Gold</th>\n",
       "      <th>Private Equity</th>\n",
       "      <th>Investment Grade</th>\n",
       "      <th>Commodities</th>\n",
       "      <th>Long bonds</th>\n",
       "      <th>rf</th>\n",
       "    </tr>\n",
       "    <tr>\n",
       "      <th>Date</th>\n",
       "      <th></th>\n",
       "      <th></th>\n",
       "      <th></th>\n",
       "      <th></th>\n",
       "      <th></th>\n",
       "      <th></th>\n",
       "      <th></th>\n",
       "      <th></th>\n",
       "      <th></th>\n",
       "      <th></th>\n",
       "      <th></th>\n",
       "      <th></th>\n",
       "    </tr>\n",
       "  </thead>\n",
       "  <tbody>\n",
       "    <tr>\n",
       "      <th>2015-05-20</th>\n",
       "      <td>0</td>\n",
       "      <td>0.0002561982</td>\n",
       "      <td>-0.0006314431</td>\n",
       "      <td>-0.0007269713</td>\n",
       "      <td>0.0004961163</td>\n",
       "      <td>-0.0002548053</td>\n",
       "      <td>0.0016061464</td>\n",
       "      <td>0.0011695663</td>\n",
       "      <td>-0.0014996153</td>\n",
       "      <td>0.0013433238</td>\n",
       "      <td>-0.0023641773</td>\n",
       "      <td>0.0000004164</td>\n",
       "    </tr>\n",
       "    <tr>\n",
       "      <th>2015-05-21</th>\n",
       "      <td>0</td>\n",
       "      <td>0.0040022442</td>\n",
       "      <td>0.0006010804</td>\n",
       "      <td>0.0019689733</td>\n",
       "      <td>0.0044822360</td>\n",
       "      <td>0.0032333428</td>\n",
       "      <td>-0.0040833196</td>\n",
       "      <td>0.0070766962</td>\n",
       "      <td>0.0019981582</td>\n",
       "      <td>0.0078441620</td>\n",
       "      <td>0.0093289843</td>\n",
       "      <td>0.0000002767</td>\n",
       "    </tr>\n",
       "  </tbody>\n",
       "</table>\n",
       "</div>"
      ],
      "text/plain": [
       "            states   log returns         Notes     Global HY           EMD  \\\n",
       "Date                                                                         \n",
       "2015-05-20       0  0.0002561982 -0.0006314431 -0.0007269713  0.0004961163   \n",
       "2015-05-21       0  0.0040022442  0.0006010804  0.0019689733  0.0044822360   \n",
       "\n",
       "                    ACWI          Gold  Private Equity  Investment Grade  \\\n",
       "Date                                                                       \n",
       "2015-05-20 -0.0002548053  0.0016061464    0.0011695663     -0.0014996153   \n",
       "2015-05-21  0.0032333428 -0.0040833196    0.0070766962      0.0019981582   \n",
       "\n",
       "             Commodities    Long bonds            rf  \n",
       "Date                                                  \n",
       "2015-05-20  0.0013433238 -0.0023641773  0.0000004164  \n",
       "2015-05-21  0.0078441620  0.0093289843  0.0000002767  "
      ]
     },
     "metadata": {},
     "output_type": "display_data"
    },
    {
     "name": "stdout",
     "output_type": "stream",
     "text": [
      "Number of Observations =  1305\n"
     ]
    }
   ],
   "source": [
    "# Load HMM model\n",
    "#with open(\"HMM_model.pkl\", \"rb\") as file: model = pickle.load(file)\n",
    "\n",
    "# Train/test periods - NB! REMEMBER TO CHECK THIS IS THE SAME AS IN HMM MODEL.\n",
    "start_train = '2015-05-19'\n",
    "end_train = '2020-05-19'\n",
    "start_test = '2015-01-02'\n",
    "end_test = '2020-05-19'\n",
    "\n",
    "##### LOAD DATAFRAMES: PREDICTED STATES, FACTOR PRICES AND RISK-FREE RATES ######################\n",
    "df = pd.read_csv(\"2-state predictions.csv\", index_col=\"Date\").drop(\"MSCI ACWI\", axis=1).loc[start_train:end_test]\n",
    "index_data = pd.read_excel('Asset Classes.xlsx', index_col=\"Date\")\n",
    "df_rf = pd.read_excel('3M.xlsx', index_col=\"Date\") / 100\n",
    "\n",
    "\n",
    "df = pd.merge(df, index_data, how=\"left\",\n",
    "        left_index=True, right_index=True).dropna()\n",
    "\n",
    "df = pd.merge(df, df_rf, how=\"left\",\n",
    "        left_index=True, right_index=True).dropna()\n",
    "\n",
    "df.rename(columns={\"FTSE World Government Bond Index LCL, Total Return Index (Net Dividends)\": \"Notes\",\n",
    "                  \"Bloomberg Barclays Global High Yield Total Return Index Value Unhedge, Total Return Index (Net Dividends)\": \"Global HY\",\n",
    "                  \"J.P. Morgan EMBI Global Core, Total Return Index (Net Dividends)\": \"EMD\",\n",
    "                  'MSCI ACWI Index, Total Return Index (Net Dividends)': \"ACWI\",\n",
    "                  \"XAUUSD Spot Exchange Rate - Price of 1 XAU in USD\": \"Gold\",\n",
    "                  \"Thomson Reuters Private Equity Buyout Index, Total Return Index (Net Dividends)\": \"Private Equity\",\n",
    "                  \"Bloomberg Barclays Global-Aggregate Total Return Index Value Unhedged USD, Total Return Index (Net Dividends)\": \"Investment Grade\",\n",
    "                  \"Bloomberg Commodity Index, Total Return Index (Net Dividends)\": \"Commodities\",\n",
    "                   \"Bloomberg Barclays U.S. Long Government/Credit Unhedged USD, Total Return Index (Net Dividends)\": \"Long bonds\",\n",
    "                  'US Generic Govt 3 Mth': \"rf\"}, inplace=True)\n",
    "\n",
    "first_asset = \"Notes\"\n",
    "last_asset = \"Long bonds\"\n",
    "\n",
    "####### Index all factors to 100 starting at the same time\n",
    "df.loc[:,first_asset:last_asset] = df.loc[:,first_asset:last_asset] / df.iloc[0][first_asset:last_asset] * 100\n",
    "df[\"states\"] = df[\"states\"].astype(\"int\")\n",
    "\n",
    "#### Recompute RF as daily returns\n",
    "df[\"rf\"] = (df[\"rf\"] + 1)**(1/365) - 1\n",
    "\n",
    "####### Compute returns for all factors and store it in a new dataframe\n",
    "\n",
    "df_ret = df.copy()\n",
    "\n",
    "df_ret.loc[:, first_asset:last_asset] = df_ret.loc[:,first_asset:last_asset].pct_change() #Actual return\n",
    "df_ret.dropna(inplace=True)\n",
    "\n",
    "display(df.head(2))\n",
    "display(df_ret.head(2))\n",
    "\n",
    "# Take only train period for Mean-Var optimization\n",
    "df_excess = df_ret.loc[start_train:end_train]\n",
    "df_excess.loc[:, first_asset:last_asset] = df_excess.loc[:,first_asset:last_asset].subtract(list(df_excess[\"rf\"]),axis=0) #Excess return\n",
    "\n",
    "print(\"Number of Observations = \", len(df_ret))"
   ]
  },
  {
   "cell_type": "code",
   "execution_count": 6,
   "metadata": {
    "colab": {
     "base_uri": "https://localhost:8080/",
     "height": 314
    },
    "colab_type": "code",
    "executionInfo": {
     "elapsed": 13774,
     "status": "ok",
     "timestamp": 1592487789897,
     "user": {
      "displayName": "Nikolaj Abrahamsen",
      "photoUrl": "https://lh6.googleusercontent.com/-wmQUuA-e1Jc/AAAAAAAAAAI/AAAAAAAAB_g/09HiaPQYM_o/s64/photo.jpg",
      "userId": "03078334218243735435"
     },
     "user_tz": -120
    },
    "id": "EzJe-HdLXFYt",
    "outputId": "d7582c04-2492-4ebc-c63b-f71011ee8ad7"
   },
   "outputs": [
    {
     "data": {
      "text/html": [
       "<div>\n",
       "<style scoped>\n",
       "    .dataframe tbody tr th:only-of-type {\n",
       "        vertical-align: middle;\n",
       "    }\n",
       "\n",
       "    .dataframe tbody tr th {\n",
       "        vertical-align: top;\n",
       "    }\n",
       "\n",
       "    .dataframe thead th {\n",
       "        text-align: right;\n",
       "    }\n",
       "</style>\n",
       "<table border=\"1\" class=\"dataframe\">\n",
       "  <thead>\n",
       "    <tr style=\"text-align: right;\">\n",
       "      <th></th>\n",
       "      <th>ACWI</th>\n",
       "      <th>Notes</th>\n",
       "      <th>EMD</th>\n",
       "      <th>Private Equity</th>\n",
       "      <th>Gold</th>\n",
       "      <th>Long bonds</th>\n",
       "      <th>Commodities</th>\n",
       "      <th>Global HY</th>\n",
       "      <th>Investment Grade</th>\n",
       "    </tr>\n",
       "  </thead>\n",
       "  <tbody>\n",
       "    <tr>\n",
       "      <th>ACWI</th>\n",
       "      <td>1.0000000000</td>\n",
       "      <td>-0.2271061015</td>\n",
       "      <td>0.5742351462</td>\n",
       "      <td>0.9175075705</td>\n",
       "      <td>-0.0085873985</td>\n",
       "      <td>-0.1962845227</td>\n",
       "      <td>0.4604618820</td>\n",
       "      <td>0.6510158806</td>\n",
       "      <td>-0.0529424945</td>\n",
       "    </tr>\n",
       "    <tr>\n",
       "      <th>Notes</th>\n",
       "      <td>-0.2271061015</td>\n",
       "      <td>1.0000000000</td>\n",
       "      <td>0.2049307539</td>\n",
       "      <td>-0.2181616480</td>\n",
       "      <td>0.3579501701</td>\n",
       "      <td>0.8327769119</td>\n",
       "      <td>-0.1186242991</td>\n",
       "      <td>-0.0011652121</td>\n",
       "      <td>0.6826074188</td>\n",
       "    </tr>\n",
       "    <tr>\n",
       "      <th>EMD</th>\n",
       "      <td>0.5742351462</td>\n",
       "      <td>0.2049307539</td>\n",
       "      <td>1.0000000000</td>\n",
       "      <td>0.4530111340</td>\n",
       "      <td>0.1767105719</td>\n",
       "      <td>0.2550196783</td>\n",
       "      <td>0.3358273752</td>\n",
       "      <td>0.8417687206</td>\n",
       "      <td>0.3321230369</td>\n",
       "    </tr>\n",
       "    <tr>\n",
       "      <th>Private Equity</th>\n",
       "      <td>0.9175075705</td>\n",
       "      <td>-0.2181616480</td>\n",
       "      <td>0.4530111340</td>\n",
       "      <td>1.0000000000</td>\n",
       "      <td>-0.0391097716</td>\n",
       "      <td>-0.2119123746</td>\n",
       "      <td>0.3625857957</td>\n",
       "      <td>0.4870608042</td>\n",
       "      <td>-0.1239077649</td>\n",
       "    </tr>\n",
       "    <tr>\n",
       "      <th>Gold</th>\n",
       "      <td>-0.0085873985</td>\n",
       "      <td>0.3579501701</td>\n",
       "      <td>0.1767105719</td>\n",
       "      <td>-0.0391097716</td>\n",
       "      <td>1.0000000000</td>\n",
       "      <td>0.3722311523</td>\n",
       "      <td>0.2351417614</td>\n",
       "      <td>0.1225170837</td>\n",
       "      <td>0.4908408573</td>\n",
       "    </tr>\n",
       "    <tr>\n",
       "      <th>Long bonds</th>\n",
       "      <td>-0.1962845227</td>\n",
       "      <td>0.8327769119</td>\n",
       "      <td>0.2550196783</td>\n",
       "      <td>-0.2119123746</td>\n",
       "      <td>0.3722311523</td>\n",
       "      <td>1.0000000000</td>\n",
       "      <td>-0.1134484310</td>\n",
       "      <td>0.1032730880</td>\n",
       "      <td>0.6484059906</td>\n",
       "    </tr>\n",
       "    <tr>\n",
       "      <th>Commodities</th>\n",
       "      <td>0.4604618820</td>\n",
       "      <td>-0.1186242991</td>\n",
       "      <td>0.3358273752</td>\n",
       "      <td>0.3625857957</td>\n",
       "      <td>0.2351417614</td>\n",
       "      <td>-0.1134484310</td>\n",
       "      <td>1.0000000000</td>\n",
       "      <td>0.3878097113</td>\n",
       "      <td>0.0324687486</td>\n",
       "    </tr>\n",
       "    <tr>\n",
       "      <th>Global HY</th>\n",
       "      <td>0.6510158806</td>\n",
       "      <td>-0.0011652121</td>\n",
       "      <td>0.8417687206</td>\n",
       "      <td>0.4870608042</td>\n",
       "      <td>0.1225170837</td>\n",
       "      <td>0.1032730880</td>\n",
       "      <td>0.3878097113</td>\n",
       "      <td>1.0000000000</td>\n",
       "      <td>0.3159848346</td>\n",
       "    </tr>\n",
       "    <tr>\n",
       "      <th>Investment Grade</th>\n",
       "      <td>-0.0529424945</td>\n",
       "      <td>0.6826074188</td>\n",
       "      <td>0.3321230369</td>\n",
       "      <td>-0.1239077649</td>\n",
       "      <td>0.4908408573</td>\n",
       "      <td>0.6484059906</td>\n",
       "      <td>0.0324687486</td>\n",
       "      <td>0.3159848346</td>\n",
       "      <td>1.0000000000</td>\n",
       "    </tr>\n",
       "  </tbody>\n",
       "</table>\n",
       "</div>"
      ],
      "text/plain": [
       "                          ACWI         Notes           EMD  Private Equity  \\\n",
       "ACWI              1.0000000000 -0.2271061015  0.5742351462    0.9175075705   \n",
       "Notes            -0.2271061015  1.0000000000  0.2049307539   -0.2181616480   \n",
       "EMD               0.5742351462  0.2049307539  1.0000000000    0.4530111340   \n",
       "Private Equity    0.9175075705 -0.2181616480  0.4530111340    1.0000000000   \n",
       "Gold             -0.0085873985  0.3579501701  0.1767105719   -0.0391097716   \n",
       "Long bonds       -0.1962845227  0.8327769119  0.2550196783   -0.2119123746   \n",
       "Commodities       0.4604618820 -0.1186242991  0.3358273752    0.3625857957   \n",
       "Global HY         0.6510158806 -0.0011652121  0.8417687206    0.4870608042   \n",
       "Investment Grade -0.0529424945  0.6826074188  0.3321230369   -0.1239077649   \n",
       "\n",
       "                          Gold    Long bonds   Commodities     Global HY  \\\n",
       "ACWI             -0.0085873985 -0.1962845227  0.4604618820  0.6510158806   \n",
       "Notes             0.3579501701  0.8327769119 -0.1186242991 -0.0011652121   \n",
       "EMD               0.1767105719  0.2550196783  0.3358273752  0.8417687206   \n",
       "Private Equity   -0.0391097716 -0.2119123746  0.3625857957  0.4870608042   \n",
       "Gold              1.0000000000  0.3722311523  0.2351417614  0.1225170837   \n",
       "Long bonds        0.3722311523  1.0000000000 -0.1134484310  0.1032730880   \n",
       "Commodities       0.2351417614 -0.1134484310  1.0000000000  0.3878097113   \n",
       "Global HY         0.1225170837  0.1032730880  0.3878097113  1.0000000000   \n",
       "Investment Grade  0.4908408573  0.6484059906  0.0324687486  0.3159848346   \n",
       "\n",
       "                  Investment Grade  \n",
       "ACWI                 -0.0529424945  \n",
       "Notes                 0.6826074188  \n",
       "EMD                   0.3321230369  \n",
       "Private Equity       -0.1239077649  \n",
       "Gold                  0.4908408573  \n",
       "Long bonds            0.6484059906  \n",
       "Commodities           0.0324687486  \n",
       "Global HY             0.3159848346  \n",
       "Investment Grade      1.0000000000  "
      ]
     },
     "execution_count": 6,
     "metadata": {},
     "output_type": "execute_result"
    }
   ],
   "source": [
    "df_ret.loc[:, [\"ACWI\", \"Notes\", \"EMD\", \"Private Equity\", \"Gold\", \"Long bonds\", \"Commodities\", \"Global HY\", \"Investment Grade\"]].corr()"
   ]
  },
  {
   "cell_type": "code",
   "execution_count": 7,
   "metadata": {
    "colab": {
     "base_uri": "https://localhost:8080/",
     "height": 699
    },
    "colab_type": "code",
    "executionInfo": {
     "elapsed": 15531,
     "status": "ok",
     "timestamp": 1592487791707,
     "user": {
      "displayName": "Nikolaj Abrahamsen",
      "photoUrl": "https://lh6.googleusercontent.com/-wmQUuA-e1Jc/AAAAAAAAAAI/AAAAAAAAB_g/09HiaPQYM_o/s64/photo.jpg",
      "userId": "03078334218243735435"
     },
     "user_tz": -120
    },
    "id": "WMk8wKpO1OMH",
    "outputId": "e56eadc3-b463-4b55-9906-f43c2926ecea"
   },
   "outputs": [
    {
     "data": {
      "image/png": "[encoded data removed]",
      "text/plain": [
       "<Figure size 1500x800 with 1 Axes>"
      ]
     },
     "metadata": {},
     "output_type": "display_data"
    }
   ],
   "source": [
    "############# Line plot of index prices, background colored by regime ########################\n",
    "\n",
    "import matplotlib as mpl\n",
    "mpl.rcParams.update(mpl.rcParamsDefault)\n",
    "\n",
    "fig, ax = plt.subplots( figsize=(15,8) )\n",
    "\n",
    "#Loop through all indices\n",
    "for factor_price in df.loc[:, \"Notes\": \"Long bonds\"].columns:\n",
    "    plt.plot(df.index , df[factor_price],\n",
    "                label=factor_price, alpha = 20)\n",
    "\n",
    "colors = [\"yg\",\"y\"]\n",
    "\n",
    "#ax.axvspan(start_train, end_test, alpha=0.5, color='white', zorder = 1)\n",
    "\n",
    "for state,color in zip(df[\"states\"].unique(), colors ):\n",
    "    plot_area = df[df[\"states\"] == state]\n",
    "    plt.vlines(plot_area.index, ymin=df.min().min() , ymax = df.max().max(),\n",
    "               alpha=0.1, color=color, ls=\"solid\")\n",
    "    \n",
    "\n",
    "plt.title(\"ACWI Regimes\")\n",
    "plt.legend()\n",
    "plt.show()"
   ]
  },
  {
   "cell_type": "code",
   "execution_count": 8,
   "metadata": {
    "colab": {
     "base_uri": "https://localhost:8080/",
     "height": 647
    },
    "colab_type": "code",
    "executionInfo": {
     "elapsed": 16137,
     "status": "ok",
     "timestamp": 1592487792332,
     "user": {
      "displayName": "Nikolaj Abrahamsen",
      "photoUrl": "https://lh6.googleusercontent.com/-wmQUuA-e1Jc/AAAAAAAAAAI/AAAAAAAAB_g/09HiaPQYM_o/s64/photo.jpg",
      "userId": "03078334218243735435"
     },
     "user_tz": -120
    },
    "id": "gaEbG5kzXq8E",
    "outputId": "ae7e474f-7d46-4957-cc80-16a372e6e267"
   },
   "outputs": [
    {
     "data": {
      "text/plain": [
       "<matplotlib.axes._subplots.AxesSubplot at 0x7fc16fc9f350>"
      ]
     },
     "execution_count": 8,
     "metadata": {},
     "output_type": "execute_result"
    },
    {
     "data": {
      "image/png": "[encoded data removed]",
      "text/plain": [
       "<Figure size 792x648 with 2 Axes>"
      ]
     },
     "metadata": {},
     "output_type": "display_data"
    }
   ],
   "source": [
    "%matplotlib inline\n",
    "import seaborn as sns\n",
    "sns.set(style=\"white\")\n",
    "\n",
    "\n",
    "# Compute the correlation matrix\n",
    "corr = (df_excess.loc[:, first_asset:last_asset].corr() * 100).round(2)\n",
    "\n",
    "# Generate a mask for the upper triangle\n",
    "mask = np.triu(np.ones_like(corr, dtype=np.bool))\n",
    "\n",
    "# Set up the matplotlib figure\n",
    "f, ax = plt.subplots(figsize=(11, 9))\n",
    "\n",
    "# Generate a custom diverging colormap\n",
    "cmap = sns.diverging_palette(220, 10, as_cmap=True)\n",
    "\n",
    "# Draw the heatmap with the mask and correct aspect ratio\n",
    "sns.heatmap(corr, mask=mask, annot=True, fmt=\"2g\")"
   ]
  },
  {
   "cell_type": "code",
   "execution_count": 9,
   "metadata": {
    "colab": {},
    "colab_type": "code",
    "id": "MJjT3P-hXy5j"
   },
   "outputs": [],
   "source": [
    "first_asset = \"Notes\"\n",
    "last_asset = \"Long bonds\"\n",
    "\n",
    "drop_list = [\"Global HY\", \"Investment Grade\", \"Commodities\"]\n",
    "\n",
    "df_ret.drop(columns = drop_list, inplace = True)\n",
    "df.drop(columns = drop_list, inplace = True)\n",
    "df_excess.drop(columns = drop_list, inplace = True)"
   ]
  },
  {
   "cell_type": "code",
   "execution_count": 10,
   "metadata": {
    "colab": {
     "base_uri": "https://localhost:8080/",
     "height": 557
    },
    "colab_type": "code",
    "executionInfo": {
     "elapsed": 16577,
     "status": "ok",
     "timestamp": 1592487792789,
     "user": {
      "displayName": "Nikolaj Abrahamsen",
      "photoUrl": "https://lh6.googleusercontent.com/-wmQUuA-e1Jc/AAAAAAAAAAI/AAAAAAAAB_g/09HiaPQYM_o/s64/photo.jpg",
      "userId": "03078334218243735435"
     },
     "user_tz": -120
    },
    "id": "ZFE1_Y7jX1Uf",
    "outputId": "10800b45-2899-4ead-b079-ae1d56b93db2"
   },
   "outputs": [
    {
     "data": {
      "text/plain": [
       "<matplotlib.axes._subplots.AxesSubplot at 0x7fc1702c81d0>"
      ]
     },
     "execution_count": 10,
     "metadata": {},
     "output_type": "execute_result"
    },
    {
     "data": {
      "image/png": "[encoded data removed]",
      "text/plain": [
       "<Figure size 792x648 with 2 Axes>"
      ]
     },
     "metadata": {},
     "output_type": "display_data"
    }
   ],
   "source": [
    "sns.set(style=\"white\")\n",
    "\n",
    "# Compute the correlation matrix\n",
    "corr = (df_excess.loc[:, first_asset:last_asset].corr() * 100).round(2)\n",
    "\n",
    "# Generate a mask for the upper triangle\n",
    "mask = np.triu(np.ones_like(corr, dtype=np.bool))\n",
    "\n",
    "# Set up the matplotlib figure\n",
    "f, ax = plt.subplots(figsize=(11, 9))\n",
    "\n",
    "# Generate a custom diverging colormap\n",
    "cmap = sns.diverging_palette(220, 10, as_cmap=True)\n",
    "\n",
    "# Draw the heatmap with the mask and correct aspect ratio\n",
    "sns.heatmap(corr, mask=mask, annot=True, fmt=\"2g\")"
   ]
  },
  {
   "cell_type": "markdown",
   "metadata": {
    "colab_type": "text",
    "id": "4LBsFYQi1OMK"
   },
   "source": [
    "# Calculate tangency portfolios and draw frontier\n",
    "Annualization formulas:\n",
    "$$ \\mu_{annual} = (1 + \\mu_{daily})^{252} - 1 $$\n",
    "$$ \\sigma_{annual} = \\sigma_{daily} * \\sqrt{252} $$\n",
    "$$ \\Sigma_{annual} = \\Sigma_{daily} * 252 $$"
   ]
  },
  {
   "cell_type": "code",
   "execution_count": null,
   "metadata": {
    "colab": {
     "base_uri": "https://localhost:8080/",
     "height": 1000
    },
    "colab_type": "code",
    "executionInfo": {
     "elapsed": 16783,
     "status": "ok",
     "timestamp": 1592487793010,
     "user": {
      "displayName": "Nikolaj Abrahamsen",
      "photoUrl": "https://lh6.googleusercontent.com/-wmQUuA-e1Jc/AAAAAAAAAAI/AAAAAAAAB_g/09HiaPQYM_o/s64/photo.jpg",
      "userId": "03078334218243735435"
     },
     "user_tz": -120
    },
    "id": "cfYO-mhu1OML",
    "outputId": "361a9c07-4f22-4eb5-e7b3-3987094885e6"
   },
   "outputs": [
    {
     "name": "stdout",
     "output_type": "stream",
     "text": [
      "Constrained\n",
      "Average return for state 0\n"
     ]
    },
    {
     "data": {
      "text/html": [
       "<div>\n",
       "<style scoped>\n",
       "    .dataframe tbody tr th:only-of-type {\n",
       "        vertical-align: middle;\n",
       "    }\n",
       "\n",
       "    .dataframe tbody tr th {\n",
       "        vertical-align: top;\n",
       "    }\n",
       "\n",
       "    .dataframe thead th {\n",
       "        text-align: right;\n",
       "    }\n",
       "</style>\n",
       "<table border=\"1\" class=\"dataframe\">\n",
       "  <thead>\n",
       "    <tr style=\"text-align: right;\">\n",
       "      <th></th>\n",
       "      <th>State 0</th>\n",
       "    </tr>\n",
       "  </thead>\n",
       "  <tbody>\n",
       "    <tr>\n",
       "      <th>Notes</th>\n",
       "      <td>0.0239</td>\n",
       "    </tr>\n",
       "    <tr>\n",
       "      <th>EMD</th>\n",
       "      <td>0.0923</td>\n",
       "    </tr>\n",
       "    <tr>\n",
       "      <th>ACWI</th>\n",
       "      <td>0.1625</td>\n",
       "    </tr>\n",
       "    <tr>\n",
       "      <th>Gold</th>\n",
       "      <td>0.1032</td>\n",
       "    </tr>\n",
       "    <tr>\n",
       "      <th>Private Equity</th>\n",
       "      <td>0.2101</td>\n",
       "    </tr>\n",
       "    <tr>\n",
       "      <th>Long bonds</th>\n",
       "      <td>0.0850</td>\n",
       "    </tr>\n",
       "  </tbody>\n",
       "</table>\n",
       "</div>"
      ],
      "text/plain": [
       "                State 0\n",
       "Notes            0.0239\n",
       "EMD              0.0923\n",
       "ACWI             0.1625\n",
       "Gold             0.1032\n",
       "Private Equity   0.2101\n",
       "Long bonds       0.0850"
      ]
     },
     "metadata": {
      "tags": []
     },
     "output_type": "display_data"
    },
    {
     "name": "stdout",
     "output_type": "stream",
     "text": [
      "Standard deviation for state 0\n"
     ]
    },
    {
     "data": {
      "text/html": [
       "<div>\n",
       "<style scoped>\n",
       "    .dataframe tbody tr th:only-of-type {\n",
       "        vertical-align: middle;\n",
       "    }\n",
       "\n",
       "    .dataframe tbody tr th {\n",
       "        vertical-align: top;\n",
       "    }\n",
       "\n",
       "    .dataframe thead th {\n",
       "        text-align: right;\n",
       "    }\n",
       "</style>\n",
       "<table border=\"1\" class=\"dataframe\">\n",
       "  <thead>\n",
       "    <tr style=\"text-align: right;\">\n",
       "      <th></th>\n",
       "      <th>State 0</th>\n",
       "    </tr>\n",
       "  </thead>\n",
       "  <tbody>\n",
       "    <tr>\n",
       "      <th>Notes</th>\n",
       "      <td>0.0215</td>\n",
       "    </tr>\n",
       "    <tr>\n",
       "      <th>EMD</th>\n",
       "      <td>0.0464</td>\n",
       "    </tr>\n",
       "    <tr>\n",
       "      <th>ACWI</th>\n",
       "      <td>0.0951</td>\n",
       "    </tr>\n",
       "    <tr>\n",
       "      <th>Gold</th>\n",
       "      <td>0.1596</td>\n",
       "    </tr>\n",
       "    <tr>\n",
       "      <th>Private Equity</th>\n",
       "      <td>0.1785</td>\n",
       "    </tr>\n",
       "    <tr>\n",
       "      <th>Long bonds</th>\n",
       "      <td>0.0841</td>\n",
       "    </tr>\n",
       "  </tbody>\n",
       "</table>\n",
       "</div>"
      ],
      "text/plain": [
       "                State 0\n",
       "Notes            0.0215\n",
       "EMD              0.0464\n",
       "ACWI             0.0951\n",
       "Gold             0.1596\n",
       "Private Equity   0.1785\n",
       "Long bonds       0.0841"
      ]
     },
     "metadata": {
      "tags": []
     },
     "output_type": "display_data"
    },
    {
     "name": "stdout",
     "output_type": "stream",
     "text": [
      "Correlation matrix\n"
     ]
    },
    {
     "data": {
      "text/html": [
       "<div>\n",
       "<style scoped>\n",
       "    .dataframe tbody tr th:only-of-type {\n",
       "        vertical-align: middle;\n",
       "    }\n",
       "\n",
       "    .dataframe tbody tr th {\n",
       "        vertical-align: top;\n",
       "    }\n",
       "\n",
       "    .dataframe thead th {\n",
       "        text-align: right;\n",
       "    }\n",
       "</style>\n",
       "<table border=\"1\" class=\"dataframe\">\n",
       "  <thead>\n",
       "    <tr style=\"text-align: right;\">\n",
       "      <th></th>\n",
       "      <th>ACWI</th>\n",
       "      <th>Notes</th>\n",
       "      <th>EMD</th>\n",
       "      <th>Private Equity</th>\n",
       "      <th>Gold</th>\n",
       "      <th>Long bonds</th>\n",
       "    </tr>\n",
       "  </thead>\n",
       "  <tbody>\n",
       "    <tr>\n",
       "      <th>ACWI</th>\n",
       "      <td>1.0000</td>\n",
       "      <td>-0.1644</td>\n",
       "      <td>0.3741</td>\n",
       "      <td>0.7163</td>\n",
       "      <td>0.2314</td>\n",
       "      <td>-0.1863</td>\n",
       "    </tr>\n",
       "    <tr>\n",
       "      <th>Notes</th>\n",
       "      <td>-0.1644</td>\n",
       "      <td>1.0000</td>\n",
       "      <td>0.3623</td>\n",
       "      <td>-0.1327</td>\n",
       "      <td>0.1506</td>\n",
       "      <td>0.7265</td>\n",
       "    </tr>\n",
       "    <tr>\n",
       "      <th>EMD</th>\n",
       "      <td>0.3741</td>\n",
       "      <td>0.3623</td>\n",
       "      <td>1.0000</td>\n",
       "      <td>0.2312</td>\n",
       "      <td>0.1799</td>\n",
       "      <td>0.3309</td>\n",
       "    </tr>\n",
       "    <tr>\n",
       "      <th>Private Equity</th>\n",
       "      <td>0.7163</td>\n",
       "      <td>-0.1327</td>\n",
       "      <td>0.2312</td>\n",
       "      <td>1.0000</td>\n",
       "      <td>0.0519</td>\n",
       "      <td>-0.1788</td>\n",
       "    </tr>\n",
       "    <tr>\n",
       "      <th>Gold</th>\n",
       "      <td>0.2314</td>\n",
       "      <td>0.1506</td>\n",
       "      <td>0.1799</td>\n",
       "      <td>0.0519</td>\n",
       "      <td>1.0000</td>\n",
       "      <td>0.1154</td>\n",
       "    </tr>\n",
       "    <tr>\n",
       "      <th>Long bonds</th>\n",
       "      <td>-0.1863</td>\n",
       "      <td>0.7265</td>\n",
       "      <td>0.3309</td>\n",
       "      <td>-0.1788</td>\n",
       "      <td>0.1154</td>\n",
       "      <td>1.0000</td>\n",
       "    </tr>\n",
       "  </tbody>\n",
       "</table>\n",
       "</div>"
      ],
      "text/plain": [
       "                  ACWI   Notes     EMD  Private Equity    Gold  Long bonds\n",
       "ACWI            1.0000 -0.1644  0.3741          0.7163  0.2314     -0.1863\n",
       "Notes          -0.1644  1.0000  0.3623         -0.1327  0.1506      0.7265\n",
       "EMD             0.3741  0.3623  1.0000          0.2312  0.1799      0.3309\n",
       "Private Equity  0.7163 -0.1327  0.2312          1.0000  0.0519     -0.1788\n",
       "Gold            0.2314  0.1506  0.1799          0.0519  1.0000      0.1154\n",
       "Long bonds     -0.1863  0.7265  0.3309         -0.1788  0.1154      1.0000"
      ]
     },
     "metadata": {
      "tags": []
     },
     "output_type": "display_data"
    },
    {
     "name": "stdout",
     "output_type": "stream",
     "text": [
      "Tangency portfolio mean for state 0 = [0.079860403]\n",
      "Tangency portfolio std for state 0 = [0.0330454749]\n",
      "Minimum variance portfolio mean for state 0 = [0.0347044269]\n",
      "Minimum variance portfolio standard deviation for state 0 = [0.0199610075]\n",
      "Average return for state 1\n"
     ]
    },
    {
     "data": {
      "text/html": [
       "<div>\n",
       "<style scoped>\n",
       "    .dataframe tbody tr th:only-of-type {\n",
       "        vertical-align: middle;\n",
       "    }\n",
       "\n",
       "    .dataframe tbody tr th {\n",
       "        vertical-align: top;\n",
       "    }\n",
       "\n",
       "    .dataframe thead th {\n",
       "        text-align: right;\n",
       "    }\n",
       "</style>\n",
       "<table border=\"1\" class=\"dataframe\">\n",
       "  <thead>\n",
       "    <tr style=\"text-align: right;\">\n",
       "      <th></th>\n",
       "      <th>State 1</th>\n",
       "    </tr>\n",
       "  </thead>\n",
       "  <tbody>\n",
       "    <tr>\n",
       "      <th>Notes</th>\n",
       "      <td>0.0406</td>\n",
       "    </tr>\n",
       "    <tr>\n",
       "      <th>EMD</th>\n",
       "      <td>0.0778</td>\n",
       "    </tr>\n",
       "    <tr>\n",
       "      <th>ACWI</th>\n",
       "      <td>-0.1093</td>\n",
       "    </tr>\n",
       "    <tr>\n",
       "      <th>Gold</th>\n",
       "      <td>0.0951</td>\n",
       "    </tr>\n",
       "    <tr>\n",
       "      <th>Private Equity</th>\n",
       "      <td>0.0818</td>\n",
       "    </tr>\n",
       "    <tr>\n",
       "      <th>Long bonds</th>\n",
       "      <td>0.0558</td>\n",
       "    </tr>\n",
       "  </tbody>\n",
       "</table>\n",
       "</div>"
      ],
      "text/plain": [
       "                State 1\n",
       "Notes            0.0406\n",
       "EMD              0.0778\n",
       "ACWI            -0.1093\n",
       "Gold             0.0951\n",
       "Private Equity   0.0818\n",
       "Long bonds       0.0558"
      ]
     },
     "metadata": {
      "tags": []
     },
     "output_type": "display_data"
    },
    {
     "name": "stdout",
     "output_type": "stream",
     "text": [
      "Standard deviation for state 1\n"
     ]
    },
    {
     "data": {
      "text/html": [
       "<div>\n",
       "<style scoped>\n",
       "    .dataframe tbody tr th:only-of-type {\n",
       "        vertical-align: middle;\n",
       "    }\n",
       "\n",
       "    .dataframe tbody tr th {\n",
       "        vertical-align: top;\n",
       "    }\n",
       "\n",
       "    .dataframe thead th {\n",
       "        text-align: right;\n",
       "    }\n",
       "</style>\n",
       "<table border=\"1\" class=\"dataframe\">\n",
       "  <thead>\n",
       "    <tr style=\"text-align: right;\">\n",
       "      <th></th>\n",
       "      <th>State 1</th>\n",
       "    </tr>\n",
       "  </thead>\n",
       "  <tbody>\n",
       "    <tr>\n",
       "      <th>Notes</th>\n",
       "      <td>0.0299</td>\n",
       "    </tr>\n",
       "    <tr>\n",
       "      <th>EMD</th>\n",
       "      <td>0.0950</td>\n",
       "    </tr>\n",
       "    <tr>\n",
       "      <th>ACWI</th>\n",
       "      <td>0.2268</td>\n",
       "    </tr>\n",
       "    <tr>\n",
       "      <th>Gold</th>\n",
       "      <td>0.2094</td>\n",
       "    </tr>\n",
       "    <tr>\n",
       "      <th>Private Equity</th>\n",
       "      <td>0.4053</td>\n",
       "    </tr>\n",
       "    <tr>\n",
       "      <th>Long bonds</th>\n",
       "      <td>0.1111</td>\n",
       "    </tr>\n",
       "  </tbody>\n",
       "</table>\n",
       "</div>"
      ],
      "text/plain": [
       "                State 1\n",
       "Notes            0.0299\n",
       "EMD              0.0950\n",
       "ACWI             0.2268\n",
       "Gold             0.2094\n",
       "Private Equity   0.4053\n",
       "Long bonds       0.1111"
      ]
     },
     "metadata": {
      "tags": []
     },
     "output_type": "display_data"
    },
    {
     "name": "stdout",
     "output_type": "stream",
     "text": [
      "Correlation matrix\n"
     ]
    },
    {
     "data": {
      "text/html": [
       "<div>\n",
       "<style scoped>\n",
       "    .dataframe tbody tr th:only-of-type {\n",
       "        vertical-align: middle;\n",
       "    }\n",
       "\n",
       "    .dataframe tbody tr th {\n",
       "        vertical-align: top;\n",
       "    }\n",
       "\n",
       "    .dataframe thead th {\n",
       "        text-align: right;\n",
       "    }\n",
       "</style>\n",
       "<table border=\"1\" class=\"dataframe\">\n",
       "  <thead>\n",
       "    <tr style=\"text-align: right;\">\n",
       "      <th></th>\n",
       "      <th>ACWI</th>\n",
       "      <th>Notes</th>\n",
       "      <th>EMD</th>\n",
       "      <th>Private Equity</th>\n",
       "      <th>Gold</th>\n",
       "      <th>Long bonds</th>\n",
       "    </tr>\n",
       "  </thead>\n",
       "  <tbody>\n",
       "    <tr>\n",
       "      <th>ACWI</th>\n",
       "      <td>1.0000</td>\n",
       "      <td>-0.4145</td>\n",
       "      <td>0.4473</td>\n",
       "      <td>0.4964</td>\n",
       "      <td>0.0681</td>\n",
       "      <td>-0.3264</td>\n",
       "    </tr>\n",
       "    <tr>\n",
       "      <th>Notes</th>\n",
       "      <td>-0.4145</td>\n",
       "      <td>1.0000</td>\n",
       "      <td>-0.0172</td>\n",
       "      <td>-0.2240</td>\n",
       "      <td>0.0942</td>\n",
       "      <td>0.7479</td>\n",
       "    </tr>\n",
       "    <tr>\n",
       "      <th>EMD</th>\n",
       "      <td>0.4473</td>\n",
       "      <td>-0.0172</td>\n",
       "      <td>1.0000</td>\n",
       "      <td>0.1861</td>\n",
       "      <td>0.1497</td>\n",
       "      <td>0.0589</td>\n",
       "    </tr>\n",
       "    <tr>\n",
       "      <th>Private Equity</th>\n",
       "      <td>0.4964</td>\n",
       "      <td>-0.2240</td>\n",
       "      <td>0.1861</td>\n",
       "      <td>1.0000</td>\n",
       "      <td>-0.1079</td>\n",
       "      <td>-0.1963</td>\n",
       "    </tr>\n",
       "    <tr>\n",
       "      <th>Gold</th>\n",
       "      <td>0.0681</td>\n",
       "      <td>0.0942</td>\n",
       "      <td>0.1497</td>\n",
       "      <td>-0.1079</td>\n",
       "      <td>1.0000</td>\n",
       "      <td>0.0743</td>\n",
       "    </tr>\n",
       "    <tr>\n",
       "      <th>Long bonds</th>\n",
       "      <td>-0.3264</td>\n",
       "      <td>0.7479</td>\n",
       "      <td>0.0589</td>\n",
       "      <td>-0.1963</td>\n",
       "      <td>0.0743</td>\n",
       "      <td>1.0000</td>\n",
       "    </tr>\n",
       "  </tbody>\n",
       "</table>\n",
       "</div>"
      ],
      "text/plain": [
       "                  ACWI   Notes     EMD  Private Equity    Gold  Long bonds\n",
       "ACWI            1.0000 -0.4145  0.4473          0.4964  0.0681     -0.3264\n",
       "Notes          -0.4145  1.0000 -0.0172         -0.2240  0.0942      0.7479\n",
       "EMD             0.4473 -0.0172  1.0000          0.1861  0.1497      0.0589\n",
       "Private Equity  0.4964 -0.2240  0.1861          1.0000 -0.1079     -0.1963\n",
       "Gold            0.0681  0.0942  0.1497         -0.1079  1.0000      0.0743\n",
       "Long bonds     -0.3264  0.7479  0.0589         -0.1963  0.0743      1.0000"
      ]
     },
     "metadata": {
      "tags": []
     },
     "output_type": "display_data"
    },
    {
     "name": "stdout",
     "output_type": "stream",
     "text": [
      "Tangency portfolio mean for state 1 = [0.079860403  0.0474180998]\n",
      "Tangency portfolio std for state 1 = [0.0330454749 0.0286119736]\n",
      "Minimum variance portfolio mean for state 1 = [0.0347044269 0.0323817404]\n",
      "Minimum variance portfolio standard deviation for state 1 = [0.0199610075 0.0256393243]\n",
      "\n",
      "\n",
      "Unconstrained\n",
      "Average return for state 0\n"
     ]
    },
    {
     "data": {
      "text/html": [
       "<div>\n",
       "<style scoped>\n",
       "    .dataframe tbody tr th:only-of-type {\n",
       "        vertical-align: middle;\n",
       "    }\n",
       "\n",
       "    .dataframe tbody tr th {\n",
       "        vertical-align: top;\n",
       "    }\n",
       "\n",
       "    .dataframe thead th {\n",
       "        text-align: right;\n",
       "    }\n",
       "</style>\n",
       "<table border=\"1\" class=\"dataframe\">\n",
       "  <thead>\n",
       "    <tr style=\"text-align: right;\">\n",
       "      <th></th>\n",
       "      <th>State 0</th>\n",
       "    </tr>\n",
       "  </thead>\n",
       "  <tbody>\n",
       "    <tr>\n",
       "      <th>Notes</th>\n",
       "      <td>0.0239</td>\n",
       "    </tr>\n",
       "    <tr>\n",
       "      <th>EMD</th>\n",
       "      <td>0.0923</td>\n",
       "    </tr>\n",
       "    <tr>\n",
       "      <th>ACWI</th>\n",
       "      <td>0.1625</td>\n",
       "    </tr>\n",
       "    <tr>\n",
       "      <th>Gold</th>\n",
       "      <td>0.1032</td>\n",
       "    </tr>\n",
       "    <tr>\n",
       "      <th>Private Equity</th>\n",
       "      <td>0.2101</td>\n",
       "    </tr>\n",
       "    <tr>\n",
       "      <th>Long bonds</th>\n",
       "      <td>0.0850</td>\n",
       "    </tr>\n",
       "  </tbody>\n",
       "</table>\n",
       "</div>"
      ],
      "text/plain": [
       "                State 0\n",
       "Notes            0.0239\n",
       "EMD              0.0923\n",
       "ACWI             0.1625\n",
       "Gold             0.1032\n",
       "Private Equity   0.2101\n",
       "Long bonds       0.0850"
      ]
     },
     "metadata": {
      "tags": []
     },
     "output_type": "display_data"
    },
    {
     "name": "stdout",
     "output_type": "stream",
     "text": [
      "Standard deviation for state 0\n"
     ]
    },
    {
     "data": {
      "text/html": [
       "<div>\n",
       "<style scoped>\n",
       "    .dataframe tbody tr th:only-of-type {\n",
       "        vertical-align: middle;\n",
       "    }\n",
       "\n",
       "    .dataframe tbody tr th {\n",
       "        vertical-align: top;\n",
       "    }\n",
       "\n",
       "    .dataframe thead th {\n",
       "        text-align: right;\n",
       "    }\n",
       "</style>\n",
       "<table border=\"1\" class=\"dataframe\">\n",
       "  <thead>\n",
       "    <tr style=\"text-align: right;\">\n",
       "      <th></th>\n",
       "      <th>State 0</th>\n",
       "    </tr>\n",
       "  </thead>\n",
       "  <tbody>\n",
       "    <tr>\n",
       "      <th>Notes</th>\n",
       "      <td>0.0215</td>\n",
       "    </tr>\n",
       "    <tr>\n",
       "      <th>EMD</th>\n",
       "      <td>0.0464</td>\n",
       "    </tr>\n",
       "    <tr>\n",
       "      <th>ACWI</th>\n",
       "      <td>0.0951</td>\n",
       "    </tr>\n",
       "    <tr>\n",
       "      <th>Gold</th>\n",
       "      <td>0.1596</td>\n",
       "    </tr>\n",
       "    <tr>\n",
       "      <th>Private Equity</th>\n",
       "      <td>0.1785</td>\n",
       "    </tr>\n",
       "    <tr>\n",
       "      <th>Long bonds</th>\n",
       "      <td>0.0841</td>\n",
       "    </tr>\n",
       "  </tbody>\n",
       "</table>\n",
       "</div>"
      ],
      "text/plain": [
       "                State 0\n",
       "Notes            0.0215\n",
       "EMD              0.0464\n",
       "ACWI             0.0951\n",
       "Gold             0.1596\n",
       "Private Equity   0.1785\n",
       "Long bonds       0.0841"
      ]
     },
     "metadata": {
      "tags": []
     },
     "output_type": "display_data"
    },
    {
     "name": "stdout",
     "output_type": "stream",
     "text": [
      "Correlation matrix\n"
     ]
    },
    {
     "data": {
      "text/html": [
       "<div>\n",
       "<style scoped>\n",
       "    .dataframe tbody tr th:only-of-type {\n",
       "        vertical-align: middle;\n",
       "    }\n",
       "\n",
       "    .dataframe tbody tr th {\n",
       "        vertical-align: top;\n",
       "    }\n",
       "\n",
       "    .dataframe thead th {\n",
       "        text-align: right;\n",
       "    }\n",
       "</style>\n",
       "<table border=\"1\" class=\"dataframe\">\n",
       "  <thead>\n",
       "    <tr style=\"text-align: right;\">\n",
       "      <th></th>\n",
       "      <th>ACWI</th>\n",
       "      <th>Notes</th>\n",
       "      <th>EMD</th>\n",
       "      <th>Private Equity</th>\n",
       "      <th>Gold</th>\n",
       "      <th>Long bonds</th>\n",
       "    </tr>\n",
       "  </thead>\n",
       "  <tbody>\n",
       "    <tr>\n",
       "      <th>ACWI</th>\n",
       "      <td>1.0000</td>\n",
       "      <td>-0.1644</td>\n",
       "      <td>0.3741</td>\n",
       "      <td>0.7163</td>\n",
       "      <td>0.2314</td>\n",
       "      <td>-0.1863</td>\n",
       "    </tr>\n",
       "    <tr>\n",
       "      <th>Notes</th>\n",
       "      <td>-0.1644</td>\n",
       "      <td>1.0000</td>\n",
       "      <td>0.3623</td>\n",
       "      <td>-0.1327</td>\n",
       "      <td>0.1506</td>\n",
       "      <td>0.7265</td>\n",
       "    </tr>\n",
       "    <tr>\n",
       "      <th>EMD</th>\n",
       "      <td>0.3741</td>\n",
       "      <td>0.3623</td>\n",
       "      <td>1.0000</td>\n",
       "      <td>0.2312</td>\n",
       "      <td>0.1799</td>\n",
       "      <td>0.3309</td>\n",
       "    </tr>\n",
       "    <tr>\n",
       "      <th>Private Equity</th>\n",
       "      <td>0.7163</td>\n",
       "      <td>-0.1327</td>\n",
       "      <td>0.2312</td>\n",
       "      <td>1.0000</td>\n",
       "      <td>0.0519</td>\n",
       "      <td>-0.1788</td>\n",
       "    </tr>\n",
       "    <tr>\n",
       "      <th>Gold</th>\n",
       "      <td>0.2314</td>\n",
       "      <td>0.1506</td>\n",
       "      <td>0.1799</td>\n",
       "      <td>0.0519</td>\n",
       "      <td>1.0000</td>\n",
       "      <td>0.1154</td>\n",
       "    </tr>\n",
       "    <tr>\n",
       "      <th>Long bonds</th>\n",
       "      <td>-0.1863</td>\n",
       "      <td>0.7265</td>\n",
       "      <td>0.3309</td>\n",
       "      <td>-0.1788</td>\n",
       "      <td>0.1154</td>\n",
       "      <td>1.0000</td>\n",
       "    </tr>\n",
       "  </tbody>\n",
       "</table>\n",
       "</div>"
      ],
      "text/plain": [
       "                  ACWI   Notes     EMD  Private Equity    Gold  Long bonds\n",
       "ACWI            1.0000 -0.1644  0.3741          0.7163  0.2314     -0.1863\n",
       "Notes          -0.1644  1.0000  0.3623         -0.1327  0.1506      0.7265\n",
       "EMD             0.3741  0.3623  1.0000          0.2312  0.1799      0.3309\n",
       "Private Equity  0.7163 -0.1327  0.2312          1.0000  0.0519     -0.1788\n",
       "Gold            0.2314  0.1506  0.1799          0.0519  1.0000      0.1154\n",
       "Long bonds     -0.1863  0.7265  0.3309         -0.1788  0.1154      1.0000"
      ]
     },
     "metadata": {
      "tags": []
     },
     "output_type": "display_data"
    },
    {
     "name": "stdout",
     "output_type": "stream",
     "text": [
      "Tangency portfolio mean for state 0 = [0.0796505933]\n",
      "Tangency portfolio std for state 0 = [0.0329543636]\n",
      "Minimum variance portfolio mean for state 0 = [0.0211174904]\n",
      "Minimum variance portfolio standard deviation for state 0 = [0.0169683484]\n",
      "Average return for state 1\n"
     ]
    },
    {
     "data": {
      "text/html": [
       "<div>\n",
       "<style scoped>\n",
       "    .dataframe tbody tr th:only-of-type {\n",
       "        vertical-align: middle;\n",
       "    }\n",
       "\n",
       "    .dataframe tbody tr th {\n",
       "        vertical-align: top;\n",
       "    }\n",
       "\n",
       "    .dataframe thead th {\n",
       "        text-align: right;\n",
       "    }\n",
       "</style>\n",
       "<table border=\"1\" class=\"dataframe\">\n",
       "  <thead>\n",
       "    <tr style=\"text-align: right;\">\n",
       "      <th></th>\n",
       "      <th>State 1</th>\n",
       "    </tr>\n",
       "  </thead>\n",
       "  <tbody>\n",
       "    <tr>\n",
       "      <th>Notes</th>\n",
       "      <td>0.0406</td>\n",
       "    </tr>\n",
       "    <tr>\n",
       "      <th>EMD</th>\n",
       "      <td>0.0778</td>\n",
       "    </tr>\n",
       "    <tr>\n",
       "      <th>ACWI</th>\n",
       "      <td>-0.1093</td>\n",
       "    </tr>\n",
       "    <tr>\n",
       "      <th>Gold</th>\n",
       "      <td>0.0951</td>\n",
       "    </tr>\n",
       "    <tr>\n",
       "      <th>Private Equity</th>\n",
       "      <td>0.0818</td>\n",
       "    </tr>\n",
       "    <tr>\n",
       "      <th>Long bonds</th>\n",
       "      <td>0.0558</td>\n",
       "    </tr>\n",
       "  </tbody>\n",
       "</table>\n",
       "</div>"
      ],
      "text/plain": [
       "                State 1\n",
       "Notes            0.0406\n",
       "EMD              0.0778\n",
       "ACWI            -0.1093\n",
       "Gold             0.0951\n",
       "Private Equity   0.0818\n",
       "Long bonds       0.0558"
      ]
     },
     "metadata": {
      "tags": []
     },
     "output_type": "display_data"
    },
    {
     "name": "stdout",
     "output_type": "stream",
     "text": [
      "Standard deviation for state 1\n"
     ]
    },
    {
     "data": {
      "text/html": [
       "<div>\n",
       "<style scoped>\n",
       "    .dataframe tbody tr th:only-of-type {\n",
       "        vertical-align: middle;\n",
       "    }\n",
       "\n",
       "    .dataframe tbody tr th {\n",
       "        vertical-align: top;\n",
       "    }\n",
       "\n",
       "    .dataframe thead th {\n",
       "        text-align: right;\n",
       "    }\n",
       "</style>\n",
       "<table border=\"1\" class=\"dataframe\">\n",
       "  <thead>\n",
       "    <tr style=\"text-align: right;\">\n",
       "      <th></th>\n",
       "      <th>State 1</th>\n",
       "    </tr>\n",
       "  </thead>\n",
       "  <tbody>\n",
       "    <tr>\n",
       "      <th>Notes</th>\n",
       "      <td>0.0299</td>\n",
       "    </tr>\n",
       "    <tr>\n",
       "      <th>EMD</th>\n",
       "      <td>0.0950</td>\n",
       "    </tr>\n",
       "    <tr>\n",
       "      <th>ACWI</th>\n",
       "      <td>0.2268</td>\n",
       "    </tr>\n",
       "    <tr>\n",
       "      <th>Gold</th>\n",
       "      <td>0.2094</td>\n",
       "    </tr>\n",
       "    <tr>\n",
       "      <th>Private Equity</th>\n",
       "      <td>0.4053</td>\n",
       "    </tr>\n",
       "    <tr>\n",
       "      <th>Long bonds</th>\n",
       "      <td>0.1111</td>\n",
       "    </tr>\n",
       "  </tbody>\n",
       "</table>\n",
       "</div>"
      ],
      "text/plain": [
       "                State 1\n",
       "Notes            0.0299\n",
       "EMD              0.0950\n",
       "ACWI             0.2268\n",
       "Gold             0.2094\n",
       "Private Equity   0.4053\n",
       "Long bonds       0.1111"
      ]
     },
     "metadata": {
      "tags": []
     },
     "output_type": "display_data"
    },
    {
     "name": "stdout",
     "output_type": "stream",
     "text": [
      "Correlation matrix\n"
     ]
    },
    {
     "data": {
      "text/html": [
       "<div>\n",
       "<style scoped>\n",
       "    .dataframe tbody tr th:only-of-type {\n",
       "        vertical-align: middle;\n",
       "    }\n",
       "\n",
       "    .dataframe tbody tr th {\n",
       "        vertical-align: top;\n",
       "    }\n",
       "\n",
       "    .dataframe thead th {\n",
       "        text-align: right;\n",
       "    }\n",
       "</style>\n",
       "<table border=\"1\" class=\"dataframe\">\n",
       "  <thead>\n",
       "    <tr style=\"text-align: right;\">\n",
       "      <th></th>\n",
       "      <th>ACWI</th>\n",
       "      <th>Notes</th>\n",
       "      <th>EMD</th>\n",
       "      <th>Private Equity</th>\n",
       "      <th>Gold</th>\n",
       "      <th>Long bonds</th>\n",
       "    </tr>\n",
       "  </thead>\n",
       "  <tbody>\n",
       "    <tr>\n",
       "      <th>ACWI</th>\n",
       "      <td>1.0000</td>\n",
       "      <td>-0.4145</td>\n",
       "      <td>0.4473</td>\n",
       "      <td>0.4964</td>\n",
       "      <td>0.0681</td>\n",
       "      <td>-0.3264</td>\n",
       "    </tr>\n",
       "    <tr>\n",
       "      <th>Notes</th>\n",
       "      <td>-0.4145</td>\n",
       "      <td>1.0000</td>\n",
       "      <td>-0.0172</td>\n",
       "      <td>-0.2240</td>\n",
       "      <td>0.0942</td>\n",
       "      <td>0.7479</td>\n",
       "    </tr>\n",
       "    <tr>\n",
       "      <th>EMD</th>\n",
       "      <td>0.4473</td>\n",
       "      <td>-0.0172</td>\n",
       "      <td>1.0000</td>\n",
       "      <td>0.1861</td>\n",
       "      <td>0.1497</td>\n",
       "      <td>0.0589</td>\n",
       "    </tr>\n",
       "    <tr>\n",
       "      <th>Private Equity</th>\n",
       "      <td>0.4964</td>\n",
       "      <td>-0.2240</td>\n",
       "      <td>0.1861</td>\n",
       "      <td>1.0000</td>\n",
       "      <td>-0.1079</td>\n",
       "      <td>-0.1963</td>\n",
       "    </tr>\n",
       "    <tr>\n",
       "      <th>Gold</th>\n",
       "      <td>0.0681</td>\n",
       "      <td>0.0942</td>\n",
       "      <td>0.1497</td>\n",
       "      <td>-0.1079</td>\n",
       "      <td>1.0000</td>\n",
       "      <td>0.0743</td>\n",
       "    </tr>\n",
       "    <tr>\n",
       "      <th>Long bonds</th>\n",
       "      <td>-0.3264</td>\n",
       "      <td>0.7479</td>\n",
       "      <td>0.0589</td>\n",
       "      <td>-0.1963</td>\n",
       "      <td>0.0743</td>\n",
       "      <td>1.0000</td>\n",
       "    </tr>\n",
       "  </tbody>\n",
       "</table>\n",
       "</div>"
      ],
      "text/plain": [
       "                  ACWI   Notes     EMD  Private Equity    Gold  Long bonds\n",
       "ACWI            1.0000 -0.4145  0.4473          0.4964  0.0681     -0.3264\n",
       "Notes          -0.4145  1.0000 -0.0172         -0.2240  0.0942      0.7479\n",
       "EMD             0.4473 -0.0172  1.0000          0.1861  0.1497      0.0589\n",
       "Private Equity  0.4964 -0.2240  0.1861          1.0000 -0.1079     -0.1963\n",
       "Gold            0.0681  0.0942  0.1497         -0.1079  1.0000      0.0743\n",
       "Long bonds     -0.3264  0.7479  0.0589         -0.1963  0.0743      1.0000"
      ]
     },
     "metadata": {
      "tags": []
     },
     "output_type": "display_data"
    },
    {
     "name": "stdout",
     "output_type": "stream",
     "text": [
      "Tangency portfolio mean for state 1 = [0.0796505933 0.0555122929]\n",
      "Tangency portfolio std for state 1 = [0.0329543636 0.0281208922]\n",
      "Minimum variance portfolio mean for state 1 = [0.0211174904 0.0334992514]\n",
      "Minimum variance portfolio standard deviation for state 1 = [0.0169683484 0.0218450007]\n"
     ]
    }
   ],
   "source": [
    "def mean_var(df, analytical_tan = False, dynamic=True):\n",
    "    '''\n",
    "    Outputs the following variables:\n",
    "    weight_state, mu, std, mu_tan ,std_tan, mu_mv, std_mv, mu_C, std_C\n",
    "    '''\n",
    "    \n",
    "    df = df.copy() #So nothing is overwritten\n",
    "\n",
    "    #Number of weights to use when drawing the frontier\n",
    "    weights = np.linspace(-100,100, 1000)\n",
    "\n",
    "    # Number of assets and states\n",
    "    N_assets = len(df.loc[: , first_asset:last_asset].columns)\n",
    "    N_states = len(df[\"states\"].unique())\n",
    "\n",
    "    # Empty arrays used to store information\n",
    "    weight_state = np.zeros(shape = (N_states, N_assets) )\n",
    "    mu = np.zeros(shape = (N_states, N_assets) )  # As many rows as states and as many columns as assets\n",
    "    std = np.zeros(shape = (N_states, N_assets) )\n",
    "    mu_tan = np.array([])\n",
    "    std_tan = np.array([])\n",
    "    mu_mv = np.array([])\n",
    "    std_mv = np.array([])\n",
    "\n",
    "    mu_C = np.zeros(shape = (N_states, len(weights)) )\n",
    "    std_C = np.zeros(shape = (N_states, len(weights)) )\n",
    "\n",
    "    # If static, all states are zero, and hence it does not groupby anything\n",
    "    if dynamic == False:\n",
    "        df[\"states\"] = 0 \n",
    "\n",
    "    for i,(state,data) in enumerate(df.groupby(by=\"states\")):\n",
    "        #Slice dataframe to only include risky assets\n",
    "        data = data.loc[:,first_asset:last_asset] # Only include factor returns\n",
    "        mu[i] = (1 + data.mean())**252 - 1   # Convert from daily to annualized returns\n",
    "        std[i] = data.std() * np.sqrt(252) # Annualize daily standard deviations\n",
    "        Sigma = (data.corr() * np.outer(std[i], std[i])).to_numpy()  #data.cov() * 252\n",
    "        Sigma_inv = np.linalg.inv(Sigma)\n",
    "        corr = data.loc[:, [\"ACWI\", \"Notes\", \"EMD\", \"Private Equity\", \"Gold\", \"Long bonds\"]].corr()\n",
    "\n",
    "        #print(\"Average return for state\", i)\n",
    "        #display(pd.DataFrame(mu[i], index = df_excess.loc[:, first_asset:last_asset].columns, columns = ['State {}'.format(i)]).round(4))\n",
    "\n",
    "        #print(\"Standard deviation for state\", i)\n",
    "        #display(pd.DataFrame(std[i], index = df_excess.loc[:, first_asset:last_asset].columns, columns = ['State {}'.format(i)]).round(4))\n",
    "\n",
    "        #print(\"Correlation matrix\")\n",
    "        #display(pd.DataFrame(corr, index = df_excess.loc[:, [\"ACWI\", \"Notes\", \"EMD\", \"Private Equity\", \"Gold\", \"Long bonds\"]].columns, columns = df_excess.loc[:, [\"ACWI\", \"Notes\", \"EMD\", \"Private Equity\", \"Gold\", \"Long bonds\"]].columns).round(4))\n",
    "        ones = np.ones(len(mu[i]))\n",
    "\n",
    "        ### Compute Tangency portfolio #############\n",
    "\n",
    "        #### NUMERICAL SOLUTION TO TANGENCY\n",
    "        def target_fun(w):\n",
    "            return  -(w.T.dot(mu[i]) / np.sqrt(w.T.dot(Sigma).dot(w)) )  #Maximize this\n",
    "\n",
    "        cons = ({\"type\":\"eq\", \"fun\":lambda w: np.sum(w)-1}, #weights, sum to 1\n",
    "               {\"type\":\"ineq\", \"fun\": lambda w: w}) \n",
    "\n",
    "        start_val = mu[i]/sum(mu[i])\n",
    "\n",
    "        w_tan = opt.minimize(target_fun, x0=start_val,constraints=cons, options = {\"disp\":False,\"maxiter\":10000000}, tol=0.0000000000000000000001).x\n",
    "\n",
    "        if analytical_tan:\n",
    "            w_tan = (Sigma_inv.dot(mu[i]) ) / (ones.T.dot(Sigma_inv).dot(mu[i]))\n",
    "            \n",
    "        weight_state[i] = w_tan\n",
    "\n",
    "        mu_tan = np.append(mu_tan , mu[i].dot(w_tan) )\n",
    "        std_tan = np.append(std_tan , np.sqrt( w_tan.T.dot(Sigma).dot(w_tan) ) )\n",
    "        #print(\"Tangency portfolio mean for state {} = {}\".format(state, mu_tan))\n",
    "        #print(\"Tangency portfolio std for state {} = {}\".format(state, std_tan))\n",
    "\n",
    "        #### Compute Minimum-Variance Portfolio #################\n",
    "        def mv_fun(w):\n",
    "            return  w.T.dot(Sigma).dot(w)  #Minimize this\n",
    "\n",
    "        cons = ({\"type\":\"eq\", \"fun\":lambda w: np.sum(w)-1}, #weights, sum to 1\n",
    "               {\"type\":\"ineq\", \"fun\": lambda w: w}) \n",
    "\n",
    "        start_val = mu[i]/sum(mu[i])\n",
    "\n",
    "        w_mv = opt.minimize(mv_fun, x0=start_val,constraints=cons, options = {\"disp\":False,\"maxiter\":10000000}, tol=0.0000000000000000000001).x\n",
    "\n",
    "        if analytical_tan:\n",
    "            w_mv = Sigma_inv.dot(ones) / (ones.dot(Sigma_inv).dot(ones)) \n",
    "        \n",
    "        mu_mv = np.append(mu_mv , mu[i].dot(w_mv) )\n",
    "        std_mv = np.append(std_mv , np.sqrt( w_mv.T.dot(Sigma).dot(w_mv) ) )\n",
    "        #print(\"Minimum variance portfolio mean for state {} = {}\".format(state, mu_mv))\n",
    "        #print(\"Minimum variance portfolio standard deviation for state {} = {}\".format(state, std_mv))\n",
    "\n",
    "        ####### Draw efficient frontier of risky assets using different combinations of mv and tan #######\n",
    "\n",
    "        mu_list = []\n",
    "        std_list = []\n",
    "\n",
    "        for w in weights:\n",
    "            w_c = w_mv * w + w_tan * (1-w)\n",
    "            returns = mu[i].dot(w_c)\n",
    "            risk = np.sqrt( w_c.T.dot(Sigma).dot(w_c) )\n",
    "\n",
    "            mu_list.append(returns)\n",
    "            std_list.append(risk)\n",
    "\n",
    "        mu_C[i] = mu_list\n",
    "        std_C[i] = std_list\n",
    "\n",
    "    if dynamic == False:\n",
    "        weight_state = weight_state[0]\n",
    "\n",
    "    return weight_state, mu, std, mu_tan ,std_tan, mu_mv, std_mv, mu_C, std_C\n",
    "\n",
    "print(\"Constrained\")\n",
    "weight_state_cons, mu, std, mu_tan ,std_tan, mu_mv, std_mv, mu_C, std_C = mean_var(df_excess, analytical_tan=False, dynamic=True)\n",
    "print(\"\\n\")\n",
    "print(\"Unconstrained\")\n",
    "weight_state, mu, std, mu_tan ,std_tan, mu_mv, std_mv, mu_C, std_C = mean_var(df_excess, analytical_tan=True, dynamic=True)"
   ]
  },
  {
   "cell_type": "code",
   "execution_count": null,
   "metadata": {
    "colab": {
     "base_uri": "https://localhost:8080/",
     "height": 677
    },
    "colab_type": "code",
    "executionInfo": {
     "elapsed": 1698,
     "status": "ok",
     "timestamp": 1592488000435,
     "user": {
      "displayName": "Nikolaj Abrahamsen",
      "photoUrl": "https://lh6.googleusercontent.com/-wmQUuA-e1Jc/AAAAAAAAAAI/AAAAAAAAB_g/09HiaPQYM_o/s64/photo.jpg",
      "userId": "03078334218243735435"
     },
     "user_tz": -120
    },
    "id": "t22Q6Rvw1OMR",
    "outputId": "ed5611f4-83a0-41b8-f60f-791f5ccbfbaa"
   },
   "outputs": [
    {
     "name": "stdout",
     "output_type": "stream",
     "text": [
      "State =  0\n",
      "mu tan =  0.07965059328059214\n",
      "std tan =  0.032954363563950845\n",
      "mu mv =  0.02111749036302412\n",
      "std mv =  0.01696834843217497\n",
      "State =  1\n",
      "mu tan =  0.055512292865984095\n",
      "std tan =  0.02812089218112542\n",
      "mu mv =  0.033499251408258775\n",
      "std mv =  0.02184500072739037\n"
     ]
    },
    {
     "data": {
      "image/png": "[encoded data removed]",
      "text/plain": [
       "<Figure size 1080x504 with 2 Axes>"
      ]
     },
     "metadata": {
      "tags": []
     },
     "output_type": "display_data"
    }
   ],
   "source": [
    "fontsize = 15 # Set fontsize for all figures\n",
    "plt.rc('font', size=fontsize)          # controls default text sizes\n",
    "plt.rc('axes', titlesize=fontsize)     # fontsize of the axes title\n",
    "plt.rc('axes', labelsize=fontsize)    # fontsize of the x and y labels\n",
    "plt.rc('xtick', labelsize=fontsize)    # fontsize of the tick labels\n",
    "plt.rc('ytick', labelsize=fontsize)    # fontsize of the tick labels\n",
    "plt.rc('legend', fontsize=fontsize)    # legend fontsize\n",
    "plt.rc('figure', titlesize=fontsize)  # fontsize of the figure title\n",
    "\n",
    "# Create a 2x2 grid to plot in:\n",
    "fig, (ax1, ax2) = plt.subplots(1,2, figsize=(15,7), sharey = True)\n",
    "plt.subplots_adjust(wspace = 0.2, hspace=0.5)\n",
    "\n",
    "#ax1 = plt.subplot2grid((1,2), (0,0))\n",
    "#ax2 = plt.subplot2grid((1,2), (0,1))\n",
    "\n",
    "labels = [\"Notes\", \"EMD\", \"ACWI\", \"Gold\", \"PE\", \"Bonds\"]\n",
    "\n",
    "for i,axi in enumerate([ax1, ax2]):\n",
    "\n",
    "    # plots\n",
    "    axi.plot(std_C[i],mu_C[i], color=\"blue\", label=\"Efficient frontier\")\n",
    "    #plt.plot(std_CML,mu_CML, color=\"green\",linestyle=\"dotted\", label=\"CML\")\n",
    "\n",
    "    #Scatter\n",
    "    print(\"State = \", i)\n",
    "    print(\"mu tan = \", mu_tan[i])\n",
    "    print(\"std tan = \", std_tan[i])\n",
    "\n",
    "    print(\"mu mv = \", mu_mv[i])\n",
    "    print(\"std mv = \", std_mv[i])\n",
    "    axi.scatter(std[i], mu[i], color=\"blue\", zorder=5, label=\"Risky Assets\")\n",
    "    axi.scatter(std_mv[i], mu_mv[i], color=\"red\", zorder=5, label=\"Minimum-Variance portfolio\")\n",
    "    axi.scatter(std_tan[i] , mu_tan[i], color=\"green\", zorder=5, label=\"Tangency portfolio\",lw=5)\n",
    "    #axi.scatter(0, rf, color = \"green\", label=\"risk-free asset\")\n",
    "    #plt.scatter(std_p1,mu_p1,zorder=5,label=\"Port 1\", lw=5)\n",
    "    #plt.scatter(std_p2,mu_p2,zorder=5,label=\"Port 2\", lw = 5)\n",
    "\n",
    "    # labels, etc\n",
    "    axi.set_xlabel('$\\sigma$', size=15)\n",
    "    axi.set_ylabel('Excess Return', size = 15)\n",
    "    \n",
    "    \n",
    "    ax1.set_xlim(0.0,0.2)\n",
    "    ax2.set_xlim(0.0,0.45)\n",
    "    axi.set_ylim(-0.2,0.4)\n",
    "\n",
    "    axi.legend()\n",
    "    axi.grid(True, linestyle=\"--\")\n",
    "\n",
    "    #Scatter\n",
    "    axi.scatter(std[i], mu[i], color=\"blue\", zorder=5, label=\"Risky Assets\")\n",
    "    for j, txt in enumerate(labels):\n",
    "        axi.annotate(txt, (std[i][j] + 0.004, mu[i][j]))  \n",
    "\n",
    "    axi.legend(fontsize=10)  \n",
    "\n",
    "# legend & title\n",
    "\n",
    "ax1.set_title(\"Bull state\")\n",
    "ax2.set_title(\"Bear state\")\n",
    "ax1.text(1, 1.1, ' ', transform=ax1.transAxes, size=12, color='#777777') # Creates space for the title\n",
    "fig.suptitle(\"Constrained efficient frontier of annualized returns in a two state model\", size=20)\n",
    "\n",
    "plt.tight_layout()\n",
    "plt.show()"
   ]
  },
  {
   "cell_type": "markdown",
   "metadata": {
    "colab_type": "text",
    "id": "ULT4dcv71OMU"
   },
   "source": [
    "- Realistic borrowing constraints? 30x long in some assets\n",
    "- Choice of risk-free asset?"
   ]
  },
  {
   "cell_type": "markdown",
   "metadata": {
    "colab_type": "text",
    "id": "HcIuwhDp1OMd"
   },
   "source": [
    "## Calculating returns by each state\n",
    "\n",
    "In this section we calculate returns by grouping all observations within each state every time a new state is chosen. I.e. every time the state changes we calculate the \"sell\" our current position and \"buy\" a new poisiton corresponding to the tangency portfolio in that state."
   ]
  },
  {
   "cell_type": "code",
   "execution_count": null,
   "metadata": {
    "colab": {
     "base_uri": "https://localhost:8080/",
     "height": 221
    },
    "colab_type": "code",
    "executionInfo": {
     "elapsed": 12735,
     "status": "ok",
     "timestamp": 1592343789330,
     "user": {
      "displayName": "Mathias Jørgensen",
      "photoUrl": "",
      "userId": "06802896131216597298"
     },
     "user_tz": -120
    },
    "id": "vuU78NFmO8ol",
    "outputId": "933fd6bd-1c71-4261-c70a-3ff64792db40"
   },
   "outputs": [
    {
     "name": "stdout",
     "output_type": "stream",
     "text": [
      "20.397260273972602\n",
      "15.013698630136986\n",
      "5.380821917808219\n"
     ]
    },
    {
     "data": {
      "text/html": [
       "<div>\n",
       "<style scoped>\n",
       "    .dataframe tbody tr th:only-of-type {\n",
       "        vertical-align: middle;\n",
       "    }\n",
       "\n",
       "    .dataframe tbody tr th {\n",
       "        vertical-align: top;\n",
       "    }\n",
       "\n",
       "    .dataframe thead th {\n",
       "        text-align: right;\n",
       "    }\n",
       "</style>\n",
       "<table border=\"1\" class=\"dataframe\">\n",
       "  <thead>\n",
       "    <tr style=\"text-align: right;\">\n",
       "      <th></th>\n",
       "      <th>All</th>\n",
       "      <th>Train</th>\n",
       "      <th>Test</th>\n",
       "    </tr>\n",
       "  </thead>\n",
       "  <tbody>\n",
       "    <tr>\n",
       "      <th>Total Returns</th>\n",
       "      <td>2.1211805047</td>\n",
       "      <td>1.4273967198</td>\n",
       "      <td>0.2858139253</td>\n",
       "    </tr>\n",
       "    <tr>\n",
       "      <th>Annual return</th>\n",
       "      <td>0.0573884753</td>\n",
       "      <td>0.0608466851</td>\n",
       "      <td>0.0478285610</td>\n",
       "    </tr>\n",
       "    <tr>\n",
       "      <th>STD</th>\n",
       "      <td>0.0329274171</td>\n",
       "      <td>0.0323607176</td>\n",
       "      <td>0.0344692469</td>\n",
       "    </tr>\n",
       "    <tr>\n",
       "      <th>Sharpe</th>\n",
       "      <td>1.3763384294</td>\n",
       "      <td>1.4584605268</td>\n",
       "      <td>1.1639857293</td>\n",
       "    </tr>\n",
       "  </tbody>\n",
       "</table>\n",
       "</div>"
      ],
      "text/plain": [
       "                        All         Train          Test\n",
       "Total Returns  2.1211805047  1.4273967198  0.2858139253\n",
       "Annual return  0.0573884753  0.0608466851  0.0478285610\n",
       "STD            0.0329274171  0.0323607176  0.0344692469\n",
       "Sharpe         1.3763384294  1.4584605268  1.1639857293"
      ]
     },
     "execution_count": 13,
     "metadata": {
      "tags": []
     },
     "output_type": "execute_result"
    }
   ],
   "source": [
    "def cagr(total_ret, N):\n",
    "    return (1+total_ret)**(1/N)-1\n",
    "\n",
    "# Get number of years in train & test - used for annualizing total returns\n",
    "N_years_all = (dt.datetime.strptime(end_test, \"%Y-%m-%d\") - dt.datetime.strptime(start_train, \"%Y-%m-%d\")).days / 365\n",
    "N_years_train = (dt.datetime.strptime(end_train, \"%Y-%m-%d\") - dt.datetime.strptime(start_train, \"%Y-%m-%d\")).days / 365\n",
    "N_years_test = (dt.datetime.strptime(end_test, \"%Y-%m-%d\") - dt.datetime.strptime(start_test, \"%Y-%m-%d\")).days / 365\n",
    "\n",
    "def trading_stats(df, weights, dynamic=True):\n",
    "    df = df.copy()\n",
    "\n",
    "    # Get the state lagged 1 variable\n",
    "    # Then create a count column which tracks every time the state changes\n",
    "    df[\"states lag 1\"] =  df[\"states\"].shift(1)\n",
    "    df[\"states lag 1\"].iloc[0] = 0\n",
    "\n",
    "    df[\"states lag 2\"] =  df[\"states\"].shift(2)\n",
    "    df[\"states lag 2\"].iloc[0:2] = 0\n",
    "    df[\"Count\"] = df.apply(lambda x: x[\"states lag 1\"] != x[\"states lag 2\"] , axis=1).cumsum()\n",
    "\n",
    "    #Groupby Count and calculate returns for all state changes.\n",
    "    returns = np.array([])\n",
    "    Sigma = np.array([])\n",
    "    gross_ret = np.array([])\n",
    "\n",
    "    for regime_change, data in df.groupby(by=\"Count\"):\n",
    "\n",
    "        # Get indicator for state\n",
    "        state = int(data[\"states\"].median())\n",
    "\n",
    "        # Compute running weights\n",
    "        if dynamic == True:\n",
    "            w = weights[state]\n",
    "        else:\n",
    "            w = weights\n",
    "\n",
    "        for idx in range(len(data)):\n",
    "            gross_r = data.iloc[idx][first_asset:last_asset] + 1\n",
    "           # display(gross_r)\n",
    "            new_w = gross_r * w\n",
    "            new_w = new_w / sum(new_w)\n",
    "\n",
    "            #print(new_w.round(4))\n",
    "\n",
    "            gross_tot = w.dot(gross_r)\n",
    "            gross_ret = np.append(gross_ret , gross_tot)\n",
    "\n",
    "\n",
    "            w = new_w # Update weights every iteration\n",
    "\n",
    "    rebalance_cost = 0.0001 # 10 basis points\n",
    "    rebalance_cost = (1-rebalance_cost)**(max(df[\"Count\"]))\n",
    "    df[\"Gross_ret\"] = gross_ret\n",
    "\n",
    "    # Compute returns after subtracting rebalancing costs\n",
    "    def ret_after_cost(x):\n",
    "        if x[\"states lag 1\"] == x[\"states lag 2\"]:\n",
    "            return x[\"Gross_ret\"]\n",
    "        else:\n",
    "            return x[\"Gross_ret\"]* (1-0.0001)\n",
    "\n",
    "\n",
    "    df[\"Gross_ret TC\"] = df.apply(ret_after_cost , axis=1) # Subtract trading costs\n",
    "    df[\"excess_ret\"] = df[\"Gross_ret TC\"] - df[\"rf\"]\n",
    "\n",
    "    def port_performance(df_ret, start, stop, N_years):  \n",
    "        returns = df[\"Gross_ret TC\"].loc[start:stop]\n",
    "        total_r = returns.prod()-1\n",
    "        annual_r = cagr(total_r, N_years)\n",
    "        std = returns.std()*np.sqrt(252)\n",
    "\n",
    "        print(N_years)\n",
    "\n",
    "        #Sharpe\n",
    "        excess_ret = df[\"excess_ret\"].loc[start:stop]\n",
    "        annual_excess = cagr(excess_ret.prod()-1, N_years)\n",
    "        std = excess_ret.std()*np.sqrt(252)\n",
    "        sharpe = annual_excess / std\n",
    "        \n",
    "        return total_r, annual_r, std, sharpe\n",
    "    \n",
    "    results_df = pd.DataFrame(index = [\"Total Returns\", \"Annual return\", \"STD\", \"Sharpe\"])\n",
    "\n",
    "    results_df[\"All\"] = list(port_performance(df_ret, start_train, end_test, N_years_all))\n",
    "    results_df[\"Train\"] = list(port_performance(df_ret, start_train, end_train, N_years_train))\n",
    "    results_df[\"Test\"] = list(port_performance(df_ret, start_test, end_test, N_years_test))\n",
    "    \n",
    "    return results_df\n",
    "\n",
    "trading_stats(df_ret, weight_state, dynamic=True)"
   ]
  },
  {
   "cell_type": "markdown",
   "metadata": {
    "colab_type": "text",
    "id": "r2M0HycM1OMp"
   },
   "source": [
    "# Strategic Asset Allocation\n",
    "Same as above, except no states"
   ]
  },
  {
   "cell_type": "code",
   "execution_count": null,
   "metadata": {
    "colab": {
     "base_uri": "https://localhost:8080/",
     "height": 1000
    },
    "colab_type": "code",
    "executionInfo": {
     "elapsed": 13117,
     "status": "ok",
     "timestamp": 1592343790042,
     "user": {
      "displayName": "Mathias Jørgensen",
      "photoUrl": "",
      "userId": "06802896131216597298"
     },
     "user_tz": -120
    },
    "id": "RvVZ3mxU1OMs",
    "outputId": "f415dc7d-e008-4db8-db38-8b0dbcf57182"
   },
   "outputs": [
    {
     "name": "stdout",
     "output_type": "stream",
     "text": [
      "Constrained\n",
      "Average return for state 0\n"
     ]
    },
    {
     "data": {
      "text/html": [
       "<div>\n",
       "<style scoped>\n",
       "    .dataframe tbody tr th:only-of-type {\n",
       "        vertical-align: middle;\n",
       "    }\n",
       "\n",
       "    .dataframe tbody tr th {\n",
       "        vertical-align: top;\n",
       "    }\n",
       "\n",
       "    .dataframe thead th {\n",
       "        text-align: right;\n",
       "    }\n",
       "</style>\n",
       "<table border=\"1\" class=\"dataframe\">\n",
       "  <thead>\n",
       "    <tr style=\"text-align: right;\">\n",
       "      <th></th>\n",
       "      <th>State 0</th>\n",
       "    </tr>\n",
       "  </thead>\n",
       "  <tbody>\n",
       "    <tr>\n",
       "      <th>Notes</th>\n",
       "      <td>0.0310</td>\n",
       "    </tr>\n",
       "    <tr>\n",
       "      <th>EMD</th>\n",
       "      <td>0.0861</td>\n",
       "    </tr>\n",
       "    <tr>\n",
       "      <th>ACWI</th>\n",
       "      <td>0.0373</td>\n",
       "    </tr>\n",
       "    <tr>\n",
       "      <th>Gold</th>\n",
       "      <td>0.0997</td>\n",
       "    </tr>\n",
       "    <tr>\n",
       "      <th>Private Equity</th>\n",
       "      <td>0.1534</td>\n",
       "    </tr>\n",
       "    <tr>\n",
       "      <th>Long bonds</th>\n",
       "      <td>0.0724</td>\n",
       "    </tr>\n",
       "  </tbody>\n",
       "</table>\n",
       "</div>"
      ],
      "text/plain": [
       "                State 0\n",
       "Notes            0.0310\n",
       "EMD              0.0861\n",
       "ACWI             0.0373\n",
       "Gold             0.0997\n",
       "Private Equity   0.1534\n",
       "Long bonds       0.0724"
      ]
     },
     "metadata": {
      "tags": []
     },
     "output_type": "display_data"
    },
    {
     "name": "stdout",
     "output_type": "stream",
     "text": [
      "Standard deviation for state 0\n"
     ]
    },
    {
     "data": {
      "text/html": [
       "<div>\n",
       "<style scoped>\n",
       "    .dataframe tbody tr th:only-of-type {\n",
       "        vertical-align: middle;\n",
       "    }\n",
       "\n",
       "    .dataframe tbody tr th {\n",
       "        vertical-align: top;\n",
       "    }\n",
       "\n",
       "    .dataframe thead th {\n",
       "        text-align: right;\n",
       "    }\n",
       "</style>\n",
       "<table border=\"1\" class=\"dataframe\">\n",
       "  <thead>\n",
       "    <tr style=\"text-align: right;\">\n",
       "      <th></th>\n",
       "      <th>State 0</th>\n",
       "    </tr>\n",
       "  </thead>\n",
       "  <tbody>\n",
       "    <tr>\n",
       "      <th>Notes</th>\n",
       "      <td>0.0254</td>\n",
       "    </tr>\n",
       "    <tr>\n",
       "      <th>EMD</th>\n",
       "      <td>0.0714</td>\n",
       "    </tr>\n",
       "    <tr>\n",
       "      <th>ACWI</th>\n",
       "      <td>0.1651</td>\n",
       "    </tr>\n",
       "    <tr>\n",
       "      <th>Gold</th>\n",
       "      <td>0.1826</td>\n",
       "    </tr>\n",
       "    <tr>\n",
       "      <th>Private Equity</th>\n",
       "      <td>0.2975</td>\n",
       "    </tr>\n",
       "    <tr>\n",
       "      <th>Long bonds</th>\n",
       "      <td>0.0966</td>\n",
       "    </tr>\n",
       "  </tbody>\n",
       "</table>\n",
       "</div>"
      ],
      "text/plain": [
       "                State 0\n",
       "Notes            0.0254\n",
       "EMD              0.0714\n",
       "ACWI             0.1651\n",
       "Gold             0.1826\n",
       "Private Equity   0.2975\n",
       "Long bonds       0.0966"
      ]
     },
     "metadata": {
      "tags": []
     },
     "output_type": "display_data"
    },
    {
     "name": "stdout",
     "output_type": "stream",
     "text": [
      "Correlation matrix\n"
     ]
    },
    {
     "data": {
      "text/html": [
       "<div>\n",
       "<style scoped>\n",
       "    .dataframe tbody tr th:only-of-type {\n",
       "        vertical-align: middle;\n",
       "    }\n",
       "\n",
       "    .dataframe tbody tr th {\n",
       "        vertical-align: top;\n",
       "    }\n",
       "\n",
       "    .dataframe thead th {\n",
       "        text-align: right;\n",
       "    }\n",
       "</style>\n",
       "<table border=\"1\" class=\"dataframe\">\n",
       "  <thead>\n",
       "    <tr style=\"text-align: right;\">\n",
       "      <th></th>\n",
       "      <th>ACWI</th>\n",
       "      <th>Notes</th>\n",
       "      <th>EMD</th>\n",
       "      <th>Private Equity</th>\n",
       "      <th>Gold</th>\n",
       "      <th>Long bonds</th>\n",
       "    </tr>\n",
       "  </thead>\n",
       "  <tbody>\n",
       "    <tr>\n",
       "      <th>ACWI</th>\n",
       "      <td>1.0000</td>\n",
       "      <td>-0.3334</td>\n",
       "      <td>0.4304</td>\n",
       "      <td>0.5397</td>\n",
       "      <td>0.1126</td>\n",
       "      <td>-0.2736</td>\n",
       "    </tr>\n",
       "    <tr>\n",
       "      <th>Notes</th>\n",
       "      <td>-0.3334</td>\n",
       "      <td>1.0000</td>\n",
       "      <td>0.1021</td>\n",
       "      <td>-0.1923</td>\n",
       "      <td>0.1179</td>\n",
       "      <td>0.7383</td>\n",
       "    </tr>\n",
       "    <tr>\n",
       "      <th>EMD</th>\n",
       "      <td>0.4304</td>\n",
       "      <td>0.1021</td>\n",
       "      <td>1.0000</td>\n",
       "      <td>0.1960</td>\n",
       "      <td>0.1563</td>\n",
       "      <td>0.1459</td>\n",
       "    </tr>\n",
       "    <tr>\n",
       "      <th>Private Equity</th>\n",
       "      <td>0.5397</td>\n",
       "      <td>-0.1923</td>\n",
       "      <td>0.1960</td>\n",
       "      <td>1.0000</td>\n",
       "      <td>-0.0565</td>\n",
       "      <td>-0.1849</td>\n",
       "    </tr>\n",
       "    <tr>\n",
       "      <th>Gold</th>\n",
       "      <td>0.1126</td>\n",
       "      <td>0.1179</td>\n",
       "      <td>0.1563</td>\n",
       "      <td>-0.0565</td>\n",
       "      <td>1.0000</td>\n",
       "      <td>0.0922</td>\n",
       "    </tr>\n",
       "    <tr>\n",
       "      <th>Long bonds</th>\n",
       "      <td>-0.2736</td>\n",
       "      <td>0.7383</td>\n",
       "      <td>0.1459</td>\n",
       "      <td>-0.1849</td>\n",
       "      <td>0.0922</td>\n",
       "      <td>1.0000</td>\n",
       "    </tr>\n",
       "  </tbody>\n",
       "</table>\n",
       "</div>"
      ],
      "text/plain": [
       "                  ACWI   Notes     EMD  Private Equity    Gold  Long bonds\n",
       "ACWI            1.0000 -0.3334  0.4304          0.5397  0.1126     -0.2736\n",
       "Notes          -0.3334  1.0000  0.1021         -0.1923  0.1179      0.7383\n",
       "EMD             0.4304  0.1021  1.0000          0.1960  0.1563      0.1459\n",
       "Private Equity  0.5397 -0.1923  0.1960          1.0000 -0.0565     -0.1849\n",
       "Gold            0.1126  0.1179  0.1563         -0.0565  1.0000      0.0922\n",
       "Long bonds     -0.2736  0.7383  0.1459         -0.1849  0.0922      1.0000"
      ]
     },
     "metadata": {
      "tags": []
     },
     "output_type": "display_data"
    },
    {
     "name": "stdout",
     "output_type": "stream",
     "text": [
      "Tangency portfolio mean for state 0 = [0.0476766504]\n",
      "Tangency portfolio std for state 0 = [0.027354761]\n",
      "Minimum variance portfolio mean for state 0 = [0.0316163947]\n",
      "Minimum variance portfolio standard deviation for state 0 = [0.0225984222]\n",
      "\n",
      "\n",
      "Unconstrained\n",
      "Average return for state 0\n"
     ]
    },
    {
     "data": {
      "text/html": [
       "<div>\n",
       "<style scoped>\n",
       "    .dataframe tbody tr th:only-of-type {\n",
       "        vertical-align: middle;\n",
       "    }\n",
       "\n",
       "    .dataframe tbody tr th {\n",
       "        vertical-align: top;\n",
       "    }\n",
       "\n",
       "    .dataframe thead th {\n",
       "        text-align: right;\n",
       "    }\n",
       "</style>\n",
       "<table border=\"1\" class=\"dataframe\">\n",
       "  <thead>\n",
       "    <tr style=\"text-align: right;\">\n",
       "      <th></th>\n",
       "      <th>State 0</th>\n",
       "    </tr>\n",
       "  </thead>\n",
       "  <tbody>\n",
       "    <tr>\n",
       "      <th>Notes</th>\n",
       "      <td>0.0310</td>\n",
       "    </tr>\n",
       "    <tr>\n",
       "      <th>EMD</th>\n",
       "      <td>0.0861</td>\n",
       "    </tr>\n",
       "    <tr>\n",
       "      <th>ACWI</th>\n",
       "      <td>0.0373</td>\n",
       "    </tr>\n",
       "    <tr>\n",
       "      <th>Gold</th>\n",
       "      <td>0.0997</td>\n",
       "    </tr>\n",
       "    <tr>\n",
       "      <th>Private Equity</th>\n",
       "      <td>0.1534</td>\n",
       "    </tr>\n",
       "    <tr>\n",
       "      <th>Long bonds</th>\n",
       "      <td>0.0724</td>\n",
       "    </tr>\n",
       "  </tbody>\n",
       "</table>\n",
       "</div>"
      ],
      "text/plain": [
       "                State 0\n",
       "Notes            0.0310\n",
       "EMD              0.0861\n",
       "ACWI             0.0373\n",
       "Gold             0.0997\n",
       "Private Equity   0.1534\n",
       "Long bonds       0.0724"
      ]
     },
     "metadata": {
      "tags": []
     },
     "output_type": "display_data"
    },
    {
     "name": "stdout",
     "output_type": "stream",
     "text": [
      "Standard deviation for state 0\n"
     ]
    },
    {
     "data": {
      "text/html": [
       "<div>\n",
       "<style scoped>\n",
       "    .dataframe tbody tr th:only-of-type {\n",
       "        vertical-align: middle;\n",
       "    }\n",
       "\n",
       "    .dataframe tbody tr th {\n",
       "        vertical-align: top;\n",
       "    }\n",
       "\n",
       "    .dataframe thead th {\n",
       "        text-align: right;\n",
       "    }\n",
       "</style>\n",
       "<table border=\"1\" class=\"dataframe\">\n",
       "  <thead>\n",
       "    <tr style=\"text-align: right;\">\n",
       "      <th></th>\n",
       "      <th>State 0</th>\n",
       "    </tr>\n",
       "  </thead>\n",
       "  <tbody>\n",
       "    <tr>\n",
       "      <th>Notes</th>\n",
       "      <td>0.0254</td>\n",
       "    </tr>\n",
       "    <tr>\n",
       "      <th>EMD</th>\n",
       "      <td>0.0714</td>\n",
       "    </tr>\n",
       "    <tr>\n",
       "      <th>ACWI</th>\n",
       "      <td>0.1651</td>\n",
       "    </tr>\n",
       "    <tr>\n",
       "      <th>Gold</th>\n",
       "      <td>0.1826</td>\n",
       "    </tr>\n",
       "    <tr>\n",
       "      <th>Private Equity</th>\n",
       "      <td>0.2975</td>\n",
       "    </tr>\n",
       "    <tr>\n",
       "      <th>Long bonds</th>\n",
       "      <td>0.0966</td>\n",
       "    </tr>\n",
       "  </tbody>\n",
       "</table>\n",
       "</div>"
      ],
      "text/plain": [
       "                State 0\n",
       "Notes            0.0254\n",
       "EMD              0.0714\n",
       "ACWI             0.1651\n",
       "Gold             0.1826\n",
       "Private Equity   0.2975\n",
       "Long bonds       0.0966"
      ]
     },
     "metadata": {
      "tags": []
     },
     "output_type": "display_data"
    },
    {
     "name": "stdout",
     "output_type": "stream",
     "text": [
      "Correlation matrix\n"
     ]
    },
    {
     "data": {
      "text/html": [
       "<div>\n",
       "<style scoped>\n",
       "    .dataframe tbody tr th:only-of-type {\n",
       "        vertical-align: middle;\n",
       "    }\n",
       "\n",
       "    .dataframe tbody tr th {\n",
       "        vertical-align: top;\n",
       "    }\n",
       "\n",
       "    .dataframe thead th {\n",
       "        text-align: right;\n",
       "    }\n",
       "</style>\n",
       "<table border=\"1\" class=\"dataframe\">\n",
       "  <thead>\n",
       "    <tr style=\"text-align: right;\">\n",
       "      <th></th>\n",
       "      <th>ACWI</th>\n",
       "      <th>Notes</th>\n",
       "      <th>EMD</th>\n",
       "      <th>Private Equity</th>\n",
       "      <th>Gold</th>\n",
       "      <th>Long bonds</th>\n",
       "    </tr>\n",
       "  </thead>\n",
       "  <tbody>\n",
       "    <tr>\n",
       "      <th>ACWI</th>\n",
       "      <td>1.0000</td>\n",
       "      <td>-0.3334</td>\n",
       "      <td>0.4304</td>\n",
       "      <td>0.5397</td>\n",
       "      <td>0.1126</td>\n",
       "      <td>-0.2736</td>\n",
       "    </tr>\n",
       "    <tr>\n",
       "      <th>Notes</th>\n",
       "      <td>-0.3334</td>\n",
       "      <td>1.0000</td>\n",
       "      <td>0.1021</td>\n",
       "      <td>-0.1923</td>\n",
       "      <td>0.1179</td>\n",
       "      <td>0.7383</td>\n",
       "    </tr>\n",
       "    <tr>\n",
       "      <th>EMD</th>\n",
       "      <td>0.4304</td>\n",
       "      <td>0.1021</td>\n",
       "      <td>1.0000</td>\n",
       "      <td>0.1960</td>\n",
       "      <td>0.1563</td>\n",
       "      <td>0.1459</td>\n",
       "    </tr>\n",
       "    <tr>\n",
       "      <th>Private Equity</th>\n",
       "      <td>0.5397</td>\n",
       "      <td>-0.1923</td>\n",
       "      <td>0.1960</td>\n",
       "      <td>1.0000</td>\n",
       "      <td>-0.0565</td>\n",
       "      <td>-0.1849</td>\n",
       "    </tr>\n",
       "    <tr>\n",
       "      <th>Gold</th>\n",
       "      <td>0.1126</td>\n",
       "      <td>0.1179</td>\n",
       "      <td>0.1563</td>\n",
       "      <td>-0.0565</td>\n",
       "      <td>1.0000</td>\n",
       "      <td>0.0922</td>\n",
       "    </tr>\n",
       "    <tr>\n",
       "      <th>Long bonds</th>\n",
       "      <td>-0.2736</td>\n",
       "      <td>0.7383</td>\n",
       "      <td>0.1459</td>\n",
       "      <td>-0.1849</td>\n",
       "      <td>0.0922</td>\n",
       "      <td>1.0000</td>\n",
       "    </tr>\n",
       "  </tbody>\n",
       "</table>\n",
       "</div>"
      ],
      "text/plain": [
       "                  ACWI   Notes     EMD  Private Equity    Gold  Long bonds\n",
       "ACWI            1.0000 -0.3334  0.4304          0.5397  0.1126     -0.2736\n",
       "Notes          -0.3334  1.0000  0.1021         -0.1923  0.1179      0.7383\n",
       "EMD             0.4304  0.1021  1.0000          0.1960  0.1563      0.1459\n",
       "Private Equity  0.5397 -0.1923  0.1960          1.0000 -0.0565     -0.1849\n",
       "Gold            0.1126  0.1179  0.1563         -0.0565  1.0000      0.0922\n",
       "Long bonds     -0.2736  0.7383  0.1459         -0.1849  0.0922      1.0000"
      ]
     },
     "metadata": {
      "tags": []
     },
     "output_type": "display_data"
    },
    {
     "name": "stdout",
     "output_type": "stream",
     "text": [
      "Tangency portfolio mean for state 0 = [0.0455413572]\n",
      "Tangency portfolio std for state 0 = [0.0256391405]\n",
      "Minimum variance portfolio mean for state 0 = [0.02567733]\n",
      "Minimum variance portfolio standard deviation for state 0 = [0.0192519803]\n"
     ]
    },
    {
     "data": {
      "image/png": "[encoded data removed]",
      "text/plain": [
       "<Figure size 1080x504 with 1 Axes>"
      ]
     },
     "metadata": {
      "tags": []
     },
     "output_type": "display_data"
    }
   ],
   "source": [
    "print(\"Constrained\")\n",
    "weights_saa_cons, mu, std, mu_tan ,std_tan, mu_mv, std_mv, mu_C, std_C = mean_var(df_excess, analytical_tan=False, dynamic=False)\n",
    "\n",
    "print(\"\\n\")\n",
    "print(\"Unconstrained\")\n",
    "weights_saa, mu, std, mu_tan ,std_tan, mu_mv, std_mv, mu_C, std_C = mean_var(df_excess, analytical_tan=True, dynamic=False)\n",
    "\n",
    "# Create a 2x2 grid to plot in:\n",
    "fig, axi = plt.subplots(figsize=(15,7))\n",
    "plt.subplots_adjust(wspace = 0.2, hspace=0.5)\n",
    "\n",
    "#ax1 = plt.subplot2grid((1,2), (0,0))\n",
    "#ax2 = plt.subplot2grid((1,2), (0,1))\n",
    "\n",
    "# plots\n",
    "axi.plot(std_C[0],mu_C[0], color=\"blue\", label=\"Efficient frontier\")\n",
    "#plt.plot(std_CML,mu_CML, color=\"green\",linestyle=\"dotted\", label=\"CML\")\n",
    "\n",
    "#Scatter\n",
    "axi.scatter(std[0], mu[0], color=\"blue\", zorder=5, label=\"Risky Assets\")\n",
    "axi.scatter(std_mv, mu_mv, color=\"red\", zorder=5, label=\"Minimum-Variance portfolio\")\n",
    "axi.scatter(std_tan, mu_tan, color=\"green\", zorder=5, label=\"Tangency portfolio\",lw=5)\n",
    "#axi.scatter(0, rf, color = \"green\", label=\"risk-free asset\")\n",
    "#plt.scatter(std_p1,mu_p1,zorder=5,label=\"Port 1\", lw=5)\n",
    "#plt.scatter(std_p2,mu_p2,zorder=5,label=\"Port 2\", lw = 5)\n",
    "\n",
    "# labels, etc\n",
    "axi.set_xlabel('$\\sigma$', size=12)\n",
    "axi.set_ylabel('Excess Returns', size = 12)\n",
    "axi.set_title(\"Constrained efficient frontier SAA\")\n",
    "\n",
    "axi.legend()\n",
    "axi.grid(True, linestyle=\"--\")\n",
    "    \n",
    "\n",
    "# legend & title\n",
    "ax1.text(1, 1.1, ' ', transform=ax1.transAxes, size=12, color='#777777') # Creates space for the title\n",
    "\n",
    "plt.tight_layout()\n",
    "plt.show()"
   ]
  },
  {
   "cell_type": "code",
   "execution_count": null,
   "metadata": {
    "colab": {},
    "colab_type": "code",
    "id": "nrt_OiKvnoKk"
   },
   "outputs": [],
   "source": [
    "# we want to rebalance on the first trading day of the year\n",
    "def first_day_of_year(x):\n",
    "    # we find the first trading day of the year\n",
    "    first_day = 1\n",
    "    first_trading_day = True\n",
    "    while first_trading_day:\n",
    "        if first_day == 10:\n",
    "            print(\"too much\")\n",
    "            break\n",
    "        try: \n",
    "            df_strategic['Date'].loc['{}-{}-{}'.format(x.year, '01', '0' + str(first_day))].year * 2\n",
    "            first_trading_day = False\n",
    "        except:\n",
    "            first_day += 1\n",
    "\n",
    "    if x.day == first_day and x.month == 1:\n",
    "        return 1\n",
    "    else:\n",
    "        return 0\n",
    "\n",
    "df_strategic = df_ret.copy()\n",
    "df_strategic['Date'] = df_strategic.index\n",
    "df_strategic['states'] = 0\n",
    "\n",
    "# here we override the states with an indicator that shows every first trading day of the year\n",
    "df_strategic['states'] = df_strategic['Date'].apply(first_day_of_year)"
   ]
  },
  {
   "cell_type": "code",
   "execution_count": null,
   "metadata": {
    "colab": {
     "base_uri": "https://localhost:8080/",
     "height": 221
    },
    "colab_type": "code",
    "executionInfo": {
     "elapsed": 20765,
     "status": "ok",
     "timestamp": 1592343798002,
     "user": {
      "displayName": "Mathias Jørgensen",
      "photoUrl": "",
      "userId": "06802896131216597298"
     },
     "user_tz": -120
    },
    "id": "nx1c3YgZO8o7",
    "outputId": "b918c4cc-a13d-4ac5-b05f-605856433198"
   },
   "outputs": [
    {
     "name": "stdout",
     "output_type": "stream",
     "text": [
      "20.397260273972602\n",
      "15.013698630136986\n",
      "5.380821917808219\n"
     ]
    },
    {
     "data": {
      "text/html": [
       "<div>\n",
       "<style scoped>\n",
       "    .dataframe tbody tr th:only-of-type {\n",
       "        vertical-align: middle;\n",
       "    }\n",
       "\n",
       "    .dataframe tbody tr th {\n",
       "        vertical-align: top;\n",
       "    }\n",
       "\n",
       "    .dataframe thead th {\n",
       "        text-align: right;\n",
       "    }\n",
       "</style>\n",
       "<table border=\"1\" class=\"dataframe\">\n",
       "  <thead>\n",
       "    <tr style=\"text-align: right;\">\n",
       "      <th></th>\n",
       "      <th>All</th>\n",
       "      <th>Train</th>\n",
       "      <th>Test</th>\n",
       "    </tr>\n",
       "  </thead>\n",
       "  <tbody>\n",
       "    <tr>\n",
       "      <th>Total Returns</th>\n",
       "      <td>2.0565</td>\n",
       "      <td>1.3531</td>\n",
       "      <td>0.2989</td>\n",
       "    </tr>\n",
       "    <tr>\n",
       "      <th>Annual return</th>\n",
       "      <td>0.0563</td>\n",
       "      <td>0.0587</td>\n",
       "      <td>0.0498</td>\n",
       "    </tr>\n",
       "    <tr>\n",
       "      <th>STD</th>\n",
       "      <td>0.0338</td>\n",
       "      <td>0.0328</td>\n",
       "      <td>0.0365</td>\n",
       "    </tr>\n",
       "    <tr>\n",
       "      <th>Sharpe</th>\n",
       "      <td>1.3089</td>\n",
       "      <td>1.3729</td>\n",
       "      <td>1.1539</td>\n",
       "    </tr>\n",
       "  </tbody>\n",
       "</table>\n",
       "</div>"
      ],
      "text/plain": [
       "                  All   Train    Test\n",
       "Total Returns  2.0565  1.3531  0.2989\n",
       "Annual return  0.0563  0.0587  0.0498\n",
       "STD            0.0338  0.0328  0.0365\n",
       "Sharpe         1.3089  1.3729  1.1539"
      ]
     },
     "execution_count": 16,
     "metadata": {
      "tags": []
     },
     "output_type": "execute_result"
    }
   ],
   "source": [
    "trading_stats(df_ret, weight_state_cons, dynamic=True).round(4)"
   ]
  },
  {
   "cell_type": "code",
   "execution_count": null,
   "metadata": {
    "colab": {
     "base_uri": "https://localhost:8080/",
     "height": 221
    },
    "colab_type": "code",
    "executionInfo": {
     "elapsed": 27088,
     "status": "ok",
     "timestamp": 1592343804479,
     "user": {
      "displayName": "Mathias Jørgensen",
      "photoUrl": "",
      "userId": "06802896131216597298"
     },
     "user_tz": -120
    },
    "id": "InQEbllDO8o_",
    "outputId": "21d00df0-1969-4e31-aadc-255881a63680"
   },
   "outputs": [
    {
     "name": "stdout",
     "output_type": "stream",
     "text": [
      "20.397260273972602\n",
      "15.013698630136986\n",
      "5.380821917808219\n"
     ]
    },
    {
     "data": {
      "text/html": [
       "<div>\n",
       "<style scoped>\n",
       "    .dataframe tbody tr th:only-of-type {\n",
       "        vertical-align: middle;\n",
       "    }\n",
       "\n",
       "    .dataframe tbody tr th {\n",
       "        vertical-align: top;\n",
       "    }\n",
       "\n",
       "    .dataframe thead th {\n",
       "        text-align: right;\n",
       "    }\n",
       "</style>\n",
       "<table border=\"1\" class=\"dataframe\">\n",
       "  <thead>\n",
       "    <tr style=\"text-align: right;\">\n",
       "      <th></th>\n",
       "      <th>All</th>\n",
       "      <th>Train</th>\n",
       "      <th>Test</th>\n",
       "    </tr>\n",
       "  </thead>\n",
       "  <tbody>\n",
       "    <tr>\n",
       "      <th>Total Returns</th>\n",
       "      <td>2.1212</td>\n",
       "      <td>1.4274</td>\n",
       "      <td>0.2858</td>\n",
       "    </tr>\n",
       "    <tr>\n",
       "      <th>Annual return</th>\n",
       "      <td>0.0574</td>\n",
       "      <td>0.0608</td>\n",
       "      <td>0.0478</td>\n",
       "    </tr>\n",
       "    <tr>\n",
       "      <th>STD</th>\n",
       "      <td>0.0329</td>\n",
       "      <td>0.0324</td>\n",
       "      <td>0.0345</td>\n",
       "    </tr>\n",
       "    <tr>\n",
       "      <th>Sharpe</th>\n",
       "      <td>1.3763</td>\n",
       "      <td>1.4585</td>\n",
       "      <td>1.1640</td>\n",
       "    </tr>\n",
       "  </tbody>\n",
       "</table>\n",
       "</div>"
      ],
      "text/plain": [
       "                  All   Train    Test\n",
       "Total Returns  2.1212  1.4274  0.2858\n",
       "Annual return  0.0574  0.0608  0.0478\n",
       "STD            0.0329  0.0324  0.0345\n",
       "Sharpe         1.3763  1.4585  1.1640"
      ]
     },
     "execution_count": 17,
     "metadata": {
      "tags": []
     },
     "output_type": "execute_result"
    }
   ],
   "source": [
    "trading_stats(df_ret, weight_state, dynamic=True).round(4)"
   ]
  },
  {
   "cell_type": "code",
   "execution_count": null,
   "metadata": {
    "colab": {
     "base_uri": "https://localhost:8080/",
     "height": 221
    },
    "colab_type": "code",
    "executionInfo": {
     "elapsed": 34118,
     "status": "ok",
     "timestamp": 1592343811653,
     "user": {
      "displayName": "Mathias Jørgensen",
      "photoUrl": "",
      "userId": "06802896131216597298"
     },
     "user_tz": -120
    },
    "id": "gVYqYmpSO8pC",
    "outputId": "31f1c9ed-4244-445b-d086-386a8cbfe9a6"
   },
   "outputs": [
    {
     "name": "stdout",
     "output_type": "stream",
     "text": [
      "20.397260273972602\n",
      "15.013698630136986\n",
      "5.380821917808219\n"
     ]
    },
    {
     "data": {
      "text/html": [
       "<div>\n",
       "<style scoped>\n",
       "    .dataframe tbody tr th:only-of-type {\n",
       "        vertical-align: middle;\n",
       "    }\n",
       "\n",
       "    .dataframe tbody tr th {\n",
       "        vertical-align: top;\n",
       "    }\n",
       "\n",
       "    .dataframe thead th {\n",
       "        text-align: right;\n",
       "    }\n",
       "</style>\n",
       "<table border=\"1\" class=\"dataframe\">\n",
       "  <thead>\n",
       "    <tr style=\"text-align: right;\">\n",
       "      <th></th>\n",
       "      <th>All</th>\n",
       "      <th>Train</th>\n",
       "      <th>Test</th>\n",
       "    </tr>\n",
       "  </thead>\n",
       "  <tbody>\n",
       "    <tr>\n",
       "      <th>Total Returns</th>\n",
       "      <td>1.4649</td>\n",
       "      <td>1.0297</td>\n",
       "      <td>0.2144</td>\n",
       "    </tr>\n",
       "    <tr>\n",
       "      <th>Annual return</th>\n",
       "      <td>0.0452</td>\n",
       "      <td>0.0483</td>\n",
       "      <td>0.0368</td>\n",
       "    </tr>\n",
       "    <tr>\n",
       "      <th>STD</th>\n",
       "      <td>0.0283</td>\n",
       "      <td>0.0271</td>\n",
       "      <td>0.0314</td>\n",
       "    </tr>\n",
       "    <tr>\n",
       "      <th>Sharpe</th>\n",
       "      <td>1.1762</td>\n",
       "      <td>1.2834</td>\n",
       "      <td>0.9276</td>\n",
       "    </tr>\n",
       "  </tbody>\n",
       "</table>\n",
       "</div>"
      ],
      "text/plain": [
       "                  All   Train    Test\n",
       "Total Returns  1.4649  1.0297  0.2144\n",
       "Annual return  0.0452  0.0483  0.0368\n",
       "STD            0.0283  0.0271  0.0314\n",
       "Sharpe         1.1762  1.2834  0.9276"
      ]
     },
     "execution_count": 18,
     "metadata": {
      "tags": []
     },
     "output_type": "execute_result"
    }
   ],
   "source": [
    "trading_stats(df_strategic, np.vstack([weights_saa_cons, weights_saa_cons]), dynamic = True).round(4)"
   ]
  },
  {
   "cell_type": "code",
   "execution_count": null,
   "metadata": {
    "colab": {
     "base_uri": "https://localhost:8080/",
     "height": 221
    },
    "colab_type": "code",
    "executionInfo": {
     "elapsed": 41177,
     "status": "ok",
     "timestamp": 1592343818862,
     "user": {
      "displayName": "Mathias Jørgensen",
      "photoUrl": "",
      "userId": "06802896131216597298"
     },
     "user_tz": -120
    },
    "id": "PxXp_qctO8pF",
    "outputId": "9faf30ec-1d96-4d8a-ff65-209f69f0331d"
   },
   "outputs": [
    {
     "name": "stdout",
     "output_type": "stream",
     "text": [
      "20.397260273972602\n",
      "15.013698630136986\n",
      "5.380821917808219\n"
     ]
    },
    {
     "data": {
      "text/html": [
       "<div>\n",
       "<style scoped>\n",
       "    .dataframe tbody tr th:only-of-type {\n",
       "        vertical-align: middle;\n",
       "    }\n",
       "\n",
       "    .dataframe tbody tr th {\n",
       "        vertical-align: top;\n",
       "    }\n",
       "\n",
       "    .dataframe thead th {\n",
       "        text-align: right;\n",
       "    }\n",
       "</style>\n",
       "<table border=\"1\" class=\"dataframe\">\n",
       "  <thead>\n",
       "    <tr style=\"text-align: right;\">\n",
       "      <th></th>\n",
       "      <th>All</th>\n",
       "      <th>Train</th>\n",
       "      <th>Test</th>\n",
       "    </tr>\n",
       "  </thead>\n",
       "  <tbody>\n",
       "    <tr>\n",
       "      <th>Total Returns</th>\n",
       "      <td>1.3511</td>\n",
       "      <td>0.9677</td>\n",
       "      <td>0.1948</td>\n",
       "    </tr>\n",
       "    <tr>\n",
       "      <th>Annual return</th>\n",
       "      <td>0.0428</td>\n",
       "      <td>0.0461</td>\n",
       "      <td>0.0336</td>\n",
       "    </tr>\n",
       "    <tr>\n",
       "      <th>STD</th>\n",
       "      <td>0.0262</td>\n",
       "      <td>0.0254</td>\n",
       "      <td>0.0284</td>\n",
       "    </tr>\n",
       "    <tr>\n",
       "      <th>Sharpe</th>\n",
       "      <td>1.1802</td>\n",
       "      <td>1.2877</td>\n",
       "      <td>0.9182</td>\n",
       "    </tr>\n",
       "  </tbody>\n",
       "</table>\n",
       "</div>"
      ],
      "text/plain": [
       "                  All   Train    Test\n",
       "Total Returns  1.3511  0.9677  0.1948\n",
       "Annual return  0.0428  0.0461  0.0336\n",
       "STD            0.0262  0.0254  0.0284\n",
       "Sharpe         1.1802  1.2877  0.9182"
      ]
     },
     "execution_count": 19,
     "metadata": {
      "tags": []
     },
     "output_type": "execute_result"
    }
   ],
   "source": [
    "  trading_stats(df_strategic, np.vstack([weights_saa, weights_saa]), dynamic = True).round(4)"
   ]
  },
  {
   "cell_type": "markdown",
   "metadata": {
    "colab_type": "text",
    "id": "wiVV0F5vercC"
   },
   "source": [
    "### Alternative strategies"
   ]
  },
  {
   "cell_type": "markdown",
   "metadata": {
    "colab_type": "text",
    "id": "a_0_v9AtewYG"
   },
   "source": [
    "100% stocks in low vol - 100% bonds in high vol"
   ]
  },
  {
   "cell_type": "code",
   "execution_count": null,
   "metadata": {
    "colab": {
     "base_uri": "https://localhost:8080/",
     "height": 221
    },
    "colab_type": "code",
    "executionInfo": {
     "elapsed": 47141,
     "status": "ok",
     "timestamp": 1592343825287,
     "user": {
      "displayName": "Mathias Jørgensen",
      "photoUrl": "",
      "userId": "06802896131216597298"
     },
     "user_tz": -120
    },
    "id": "iTw42P9Ceuis",
    "outputId": "da49d596-bf08-4651-d2b8-5ddc842f8abf"
   },
   "outputs": [
    {
     "name": "stdout",
     "output_type": "stream",
     "text": [
      "20.397260273972602\n",
      "15.013698630136986\n",
      "5.380821917808219\n"
     ]
    },
    {
     "data": {
      "text/html": [
       "<div>\n",
       "<style scoped>\n",
       "    .dataframe tbody tr th:only-of-type {\n",
       "        vertical-align: middle;\n",
       "    }\n",
       "\n",
       "    .dataframe tbody tr th {\n",
       "        vertical-align: top;\n",
       "    }\n",
       "\n",
       "    .dataframe thead th {\n",
       "        text-align: right;\n",
       "    }\n",
       "</style>\n",
       "<table border=\"1\" class=\"dataframe\">\n",
       "  <thead>\n",
       "    <tr style=\"text-align: right;\">\n",
       "      <th></th>\n",
       "      <th>All</th>\n",
       "      <th>Train</th>\n",
       "      <th>Test</th>\n",
       "    </tr>\n",
       "  </thead>\n",
       "  <tbody>\n",
       "    <tr>\n",
       "      <th>Total Returns</th>\n",
       "      <td>4.2462</td>\n",
       "      <td>2.3313</td>\n",
       "      <td>0.5748</td>\n",
       "    </tr>\n",
       "    <tr>\n",
       "      <th>Annual return</th>\n",
       "      <td>0.0847</td>\n",
       "      <td>0.0835</td>\n",
       "      <td>0.0881</td>\n",
       "    </tr>\n",
       "    <tr>\n",
       "      <th>STD</th>\n",
       "      <td>0.1079</td>\n",
       "      <td>0.1075</td>\n",
       "      <td>0.1088</td>\n",
       "    </tr>\n",
       "    <tr>\n",
       "      <th>Sharpe</th>\n",
       "      <td>0.6701</td>\n",
       "      <td>0.6464</td>\n",
       "      <td>0.7359</td>\n",
       "    </tr>\n",
       "  </tbody>\n",
       "</table>\n",
       "</div>"
      ],
      "text/plain": [
       "                  All   Train    Test\n",
       "Total Returns  4.2462  2.3313  0.5748\n",
       "Annual return  0.0847  0.0835  0.0881\n",
       "STD            0.1079  0.1075  0.1088\n",
       "Sharpe         0.6701  0.6464  0.7359"
      ]
     },
     "execution_count": 20,
     "metadata": {
      "tags": []
     },
     "output_type": "execute_result"
    }
   ],
   "source": [
    "trading_stats(df_ret, np.vstack([np.array([0, 0, 1, 0, 0, 0]), np.array([0, 0, 0, 0, 0, 1])]), dynamic=True).round(4)"
   ]
  },
  {
   "cell_type": "markdown",
   "metadata": {
    "colab_type": "text",
    "id": "pLNK9z0vfIYj"
   },
   "source": [
    "60% stocks and 40% bonds"
   ]
  },
  {
   "cell_type": "code",
   "execution_count": null,
   "metadata": {
    "colab": {
     "base_uri": "https://localhost:8080/",
     "height": 221
    },
    "colab_type": "code",
    "executionInfo": {
     "elapsed": 53938,
     "status": "ok",
     "timestamp": 1592343832416,
     "user": {
      "displayName": "Mathias Jørgensen",
      "photoUrl": "",
      "userId": "06802896131216597298"
     },
     "user_tz": -120
    },
    "id": "1nbDVPVBe4Se",
    "outputId": "10e8d88d-edc6-4e0c-b548-f0bfaf915ec5"
   },
   "outputs": [
    {
     "name": "stdout",
     "output_type": "stream",
     "text": [
      "20.397260273972602\n",
      "15.013698630136986\n",
      "5.380821917808219\n"
     ]
    },
    {
     "data": {
      "text/html": [
       "<div>\n",
       "<style scoped>\n",
       "    .dataframe tbody tr th:only-of-type {\n",
       "        vertical-align: middle;\n",
       "    }\n",
       "\n",
       "    .dataframe tbody tr th {\n",
       "        vertical-align: top;\n",
       "    }\n",
       "\n",
       "    .dataframe thead th {\n",
       "        text-align: right;\n",
       "    }\n",
       "</style>\n",
       "<table border=\"1\" class=\"dataframe\">\n",
       "  <thead>\n",
       "    <tr style=\"text-align: right;\">\n",
       "      <th></th>\n",
       "      <th>All</th>\n",
       "      <th>Train</th>\n",
       "      <th>Test</th>\n",
       "    </tr>\n",
       "  </thead>\n",
       "  <tbody>\n",
       "    <tr>\n",
       "      <th>Total Returns</th>\n",
       "      <td>1.1258</td>\n",
       "      <td>0.6420</td>\n",
       "      <td>0.2946</td>\n",
       "    </tr>\n",
       "    <tr>\n",
       "      <th>Annual return</th>\n",
       "      <td>0.0377</td>\n",
       "      <td>0.0336</td>\n",
       "      <td>0.0492</td>\n",
       "    </tr>\n",
       "    <tr>\n",
       "      <th>STD</th>\n",
       "      <td>0.0881</td>\n",
       "      <td>0.0897</td>\n",
       "      <td>0.0834</td>\n",
       "    </tr>\n",
       "    <tr>\n",
       "      <th>Sharpe</th>\n",
       "      <td>0.2932</td>\n",
       "      <td>0.2261</td>\n",
       "      <td>0.4972</td>\n",
       "    </tr>\n",
       "  </tbody>\n",
       "</table>\n",
       "</div>"
      ],
      "text/plain": [
       "                  All   Train    Test\n",
       "Total Returns  1.1258  0.6420  0.2946\n",
       "Annual return  0.0377  0.0336  0.0492\n",
       "STD            0.0881  0.0897  0.0834\n",
       "Sharpe         0.2932  0.2261  0.4972"
      ]
     },
     "execution_count": 21,
     "metadata": {
      "tags": []
     },
     "output_type": "execute_result"
    }
   ],
   "source": [
    "trading_stats(df_strategic, np.vstack([np.array([0.40, 0, 0.60, 0, 0, 0]), np.array([0.40, 0, 0.60, 0, 0, 0])]), dynamic = True).round(4)"
   ]
  },
  {
   "cell_type": "markdown",
   "metadata": {
    "colab_type": "text",
    "id": "eF_LgVYefHDI"
   },
   "source": [
    "Only stocks"
   ]
  },
  {
   "cell_type": "code",
   "execution_count": null,
   "metadata": {
    "colab": {
     "base_uri": "https://localhost:8080/",
     "height": 221
    },
    "colab_type": "code",
    "executionInfo": {
     "elapsed": 60766,
     "status": "ok",
     "timestamp": 1592343839569,
     "user": {
      "displayName": "Mathias Jørgensen",
      "photoUrl": "",
      "userId": "06802896131216597298"
     },
     "user_tz": -120
    },
    "id": "yqK8GUTCe_YR",
    "outputId": "9d24bd47-a490-460f-a595-7e86f506dbb5"
   },
   "outputs": [
    {
     "name": "stdout",
     "output_type": "stream",
     "text": [
      "20.397260273972602\n",
      "15.013698630136986\n",
      "5.380821917808219\n"
     ]
    },
    {
     "data": {
      "text/html": [
       "<div>\n",
       "<style scoped>\n",
       "    .dataframe tbody tr th:only-of-type {\n",
       "        vertical-align: middle;\n",
       "    }\n",
       "\n",
       "    .dataframe tbody tr th {\n",
       "        vertical-align: top;\n",
       "    }\n",
       "\n",
       "    .dataframe thead th {\n",
       "        text-align: right;\n",
       "    }\n",
       "</style>\n",
       "<table border=\"1\" class=\"dataframe\">\n",
       "  <thead>\n",
       "    <tr style=\"text-align: right;\">\n",
       "      <th></th>\n",
       "      <th>All</th>\n",
       "      <th>Train</th>\n",
       "      <th>Test</th>\n",
       "    </tr>\n",
       "  </thead>\n",
       "  <tbody>\n",
       "    <tr>\n",
       "      <th>Total Returns</th>\n",
       "      <td>0.9178</td>\n",
       "      <td>0.4251</td>\n",
       "      <td>0.3457</td>\n",
       "    </tr>\n",
       "    <tr>\n",
       "      <th>Annual return</th>\n",
       "      <td>0.0324</td>\n",
       "      <td>0.0239</td>\n",
       "      <td>0.0567</td>\n",
       "    </tr>\n",
       "    <tr>\n",
       "      <th>STD</th>\n",
       "      <td>0.1611</td>\n",
       "      <td>0.1651</td>\n",
       "      <td>0.1494</td>\n",
       "    </tr>\n",
       "    <tr>\n",
       "      <th>Sharpe</th>\n",
       "      <td>0.1282</td>\n",
       "      <td>0.0648</td>\n",
       "      <td>0.3277</td>\n",
       "    </tr>\n",
       "  </tbody>\n",
       "</table>\n",
       "</div>"
      ],
      "text/plain": [
       "                  All   Train    Test\n",
       "Total Returns  0.9178  0.4251  0.3457\n",
       "Annual return  0.0324  0.0239  0.0567\n",
       "STD            0.1611  0.1651  0.1494\n",
       "Sharpe         0.1282  0.0648  0.3277"
      ]
     },
     "execution_count": 22,
     "metadata": {
      "tags": []
     },
     "output_type": "execute_result"
    }
   ],
   "source": [
    "trading_stats(df_strategic, np.vstack([np.array([0, 0, 1, 0, 0, 0]), np.array([0, 0, 1, 0, 0, 0])]), dynamic=True).round(4)"
   ]
  },
  {
   "cell_type": "markdown",
   "metadata": {
    "colab_type": "text",
    "id": "_CjmQoKLfp54"
   },
   "source": [
    "Only bonds"
   ]
  },
  {
   "cell_type": "code",
   "execution_count": null,
   "metadata": {
    "colab": {
     "base_uri": "https://localhost:8080/",
     "height": 221
    },
    "colab_type": "code",
    "executionInfo": {
     "elapsed": 67519,
     "status": "ok",
     "timestamp": 1592343846652,
     "user": {
      "displayName": "Mathias Jørgensen",
      "photoUrl": "",
      "userId": "06802896131216597298"
     },
     "user_tz": -120
    },
    "id": "V2ToCsR-fpdO",
    "outputId": "a64bb24f-0986-4a4c-f50e-1df4b68eb73a"
   },
   "outputs": [
    {
     "name": "stdout",
     "output_type": "stream",
     "text": [
      "20.397260273972602\n",
      "15.013698630136986\n",
      "5.380821917808219\n"
     ]
    },
    {
     "data": {
      "text/html": [
       "<div>\n",
       "<style scoped>\n",
       "    .dataframe tbody tr th:only-of-type {\n",
       "        vertical-align: middle;\n",
       "    }\n",
       "\n",
       "    .dataframe tbody tr th {\n",
       "        vertical-align: top;\n",
       "    }\n",
       "\n",
       "    .dataframe thead th {\n",
       "        text-align: right;\n",
       "    }\n",
       "</style>\n",
       "<table border=\"1\" class=\"dataframe\">\n",
       "  <thead>\n",
       "    <tr style=\"text-align: right;\">\n",
       "      <th></th>\n",
       "      <th>All</th>\n",
       "      <th>Train</th>\n",
       "      <th>Test</th>\n",
       "    </tr>\n",
       "  </thead>\n",
       "  <tbody>\n",
       "    <tr>\n",
       "      <th>Total Returns</th>\n",
       "      <td>0.8744</td>\n",
       "      <td>0.5938</td>\n",
       "      <td>0.1761</td>\n",
       "    </tr>\n",
       "    <tr>\n",
       "      <th>Annual return</th>\n",
       "      <td>0.0313</td>\n",
       "      <td>0.0315</td>\n",
       "      <td>0.0306</td>\n",
       "    </tr>\n",
       "    <tr>\n",
       "      <th>STD</th>\n",
       "      <td>0.0270</td>\n",
       "      <td>0.0255</td>\n",
       "      <td>0.0309</td>\n",
       "    </tr>\n",
       "    <tr>\n",
       "      <th>Sharpe</th>\n",
       "      <td>0.7222</td>\n",
       "      <td>0.7163</td>\n",
       "      <td>0.7454</td>\n",
       "    </tr>\n",
       "  </tbody>\n",
       "</table>\n",
       "</div>"
      ],
      "text/plain": [
       "                  All   Train    Test\n",
       "Total Returns  0.8744  0.5938  0.1761\n",
       "Annual return  0.0313  0.0315  0.0306\n",
       "STD            0.0270  0.0255  0.0309\n",
       "Sharpe         0.7222  0.7163  0.7454"
      ]
     },
     "execution_count": 23,
     "metadata": {
      "tags": []
     },
     "output_type": "execute_result"
    }
   ],
   "source": [
    "trading_stats(df_strategic, np.vstack([np.array([1, 0, 0, 0, 0, 0]), np.array([1, 0, 0, 0, 0, 0])]), dynamic=True).round(4)"
   ]
  },
  {
   "cell_type": "markdown",
   "metadata": {
    "colab_type": "text",
    "id": "GFodlxAmNVk4"
   },
   "source": [
    "# Comparison"
   ]
  },
  {
   "cell_type": "code",
   "execution_count": null,
   "metadata": {
    "colab": {
     "base_uri": "https://localhost:8080/",
     "height": 245
    },
    "colab_type": "code",
    "executionInfo": {
     "elapsed": 67191,
     "status": "ok",
     "timestamp": 1592343846653,
     "user": {
      "displayName": "Mathias Jørgensen",
      "photoUrl": "",
      "userId": "06802896131216597298"
     },
     "user_tz": -120
    },
    "id": "MsEx41tUcv7V",
    "outputId": "8a38cc1d-4c81-42df-e7b5-1bc9f841bffa"
   },
   "outputs": [
    {
     "name": "stdout",
     "output_type": "stream",
     "text": [
      "Unconstrained weights\n"
     ]
    },
    {
     "data": {
      "text/html": [
       "<div>\n",
       "<style scoped>\n",
       "    .dataframe tbody tr th:only-of-type {\n",
       "        vertical-align: middle;\n",
       "    }\n",
       "\n",
       "    .dataframe tbody tr th {\n",
       "        vertical-align: top;\n",
       "    }\n",
       "\n",
       "    .dataframe thead th {\n",
       "        text-align: right;\n",
       "    }\n",
       "</style>\n",
       "<table border=\"1\" class=\"dataframe\">\n",
       "  <thead>\n",
       "    <tr style=\"text-align: right;\">\n",
       "      <th></th>\n",
       "      <th>State 0</th>\n",
       "      <th>State 1</th>\n",
       "      <th>Static</th>\n",
       "    </tr>\n",
       "  </thead>\n",
       "  <tbody>\n",
       "    <tr>\n",
       "      <th>ACWI</th>\n",
       "      <td>0.2155</td>\n",
       "      <td>-0.0586</td>\n",
       "      <td>-0.023246</td>\n",
       "    </tr>\n",
       "    <tr>\n",
       "      <th>Notes</th>\n",
       "      <td>0.4015</td>\n",
       "      <td>1.0090</td>\n",
       "      <td>0.818843</td>\n",
       "    </tr>\n",
       "    <tr>\n",
       "      <th>EMD</th>\n",
       "      <td>0.3022</td>\n",
       "      <td>0.1764</td>\n",
       "      <td>0.214118</td>\n",
       "    </tr>\n",
       "    <tr>\n",
       "      <th>Private Equity</th>\n",
       "      <td>0.0029</td>\n",
       "      <td>0.0243</td>\n",
       "      <td>0.032226</td>\n",
       "    </tr>\n",
       "    <tr>\n",
       "      <th>Gold</th>\n",
       "      <td>-0.0035</td>\n",
       "      <td>0.0215</td>\n",
       "      <td>0.025265</td>\n",
       "    </tr>\n",
       "    <tr>\n",
       "      <th>Long bonds</th>\n",
       "      <td>0.0814</td>\n",
       "      <td>-0.1726</td>\n",
       "      <td>-0.067205</td>\n",
       "    </tr>\n",
       "  </tbody>\n",
       "</table>\n",
       "</div>"
      ],
      "text/plain": [
       "                State 0  State 1    Static\n",
       "ACWI             0.2155  -0.0586 -0.023246\n",
       "Notes            0.4015   1.0090  0.818843\n",
       "EMD              0.3022   0.1764  0.214118\n",
       "Private Equity   0.0029   0.0243  0.032226\n",
       "Gold            -0.0035   0.0215  0.025265\n",
       "Long bonds       0.0814  -0.1726 -0.067205"
      ]
     },
     "execution_count": 24,
     "metadata": {
      "tags": []
     },
     "output_type": "execute_result"
    }
   ],
   "source": [
    "# Dataframe for saving portfolio weights - printed in Strategic Allocation section\n",
    "print(\"Unconstrained weights\")\n",
    "port_weights = pd.DataFrame(weight_state, columns=df_ret.loc[: , first_asset:last_asset].columns, index=[\"State 0\", \"State 1\"]).T.round(4)\n",
    "port_weights[\"Static\"] = weights_saa\n",
    "port_weights.round(6).loc[[\"ACWI\", \"Notes\", \"EMD\", \"Private Equity\", \"Gold\", \"Long bonds\"]]"
   ]
  },
  {
   "cell_type": "code",
   "execution_count": null,
   "metadata": {
    "colab": {
     "base_uri": "https://localhost:8080/",
     "height": 245
    },
    "colab_type": "code",
    "executionInfo": {
     "elapsed": 67031,
     "status": "ok",
     "timestamp": 1592343846653,
     "user": {
      "displayName": "Mathias Jørgensen",
      "photoUrl": "",
      "userId": "06802896131216597298"
     },
     "user_tz": -120
    },
    "id": "I2KtBpU9O8pV",
    "outputId": "8806a7b7-770b-49b0-fb84-d98a6720fce3"
   },
   "outputs": [
    {
     "name": "stdout",
     "output_type": "stream",
     "text": [
      "Constrained portfolios\n"
     ]
    },
    {
     "data": {
      "text/html": [
       "<div>\n",
       "<style scoped>\n",
       "    .dataframe tbody tr th:only-of-type {\n",
       "        vertical-align: middle;\n",
       "    }\n",
       "\n",
       "    .dataframe tbody tr th {\n",
       "        vertical-align: top;\n",
       "    }\n",
       "\n",
       "    .dataframe thead th {\n",
       "        text-align: right;\n",
       "    }\n",
       "</style>\n",
       "<table border=\"1\" class=\"dataframe\">\n",
       "  <thead>\n",
       "    <tr style=\"text-align: right;\">\n",
       "      <th></th>\n",
       "      <th>State 0</th>\n",
       "      <th>State 1</th>\n",
       "      <th>Static</th>\n",
       "    </tr>\n",
       "  </thead>\n",
       "  <tbody>\n",
       "    <tr>\n",
       "      <th>ACWI</th>\n",
       "      <td>0.2136</td>\n",
       "      <td>-0.0000</td>\n",
       "      <td>0.0000</td>\n",
       "    </tr>\n",
       "    <tr>\n",
       "      <th>Notes</th>\n",
       "      <td>0.3982</td>\n",
       "      <td>0.8289</td>\n",
       "      <td>0.7410</td>\n",
       "    </tr>\n",
       "    <tr>\n",
       "      <th>EMD</th>\n",
       "      <td>0.3031</td>\n",
       "      <td>0.1324</td>\n",
       "      <td>0.2031</td>\n",
       "    </tr>\n",
       "    <tr>\n",
       "      <th>Private Equity</th>\n",
       "      <td>0.0036</td>\n",
       "      <td>0.0177</td>\n",
       "      <td>0.0307</td>\n",
       "    </tr>\n",
       "    <tr>\n",
       "      <th>Gold</th>\n",
       "      <td>0.0000</td>\n",
       "      <td>0.0210</td>\n",
       "      <td>0.0252</td>\n",
       "    </tr>\n",
       "    <tr>\n",
       "      <th>Long bonds</th>\n",
       "      <td>0.0814</td>\n",
       "      <td>-0.0000</td>\n",
       "      <td>0.0000</td>\n",
       "    </tr>\n",
       "  </tbody>\n",
       "</table>\n",
       "</div>"
      ],
      "text/plain": [
       "                State 0  State 1  Static\n",
       "ACWI             0.2136  -0.0000  0.0000\n",
       "Notes            0.3982   0.8289  0.7410\n",
       "EMD              0.3031   0.1324  0.2031\n",
       "Private Equity   0.0036   0.0177  0.0307\n",
       "Gold             0.0000   0.0210  0.0252\n",
       "Long bonds       0.0814  -0.0000  0.0000"
      ]
     },
     "execution_count": 25,
     "metadata": {
      "tags": []
     },
     "output_type": "execute_result"
    }
   ],
   "source": [
    "print(\"Constrained portfolios\")\n",
    "port_weights = pd.DataFrame(weight_state_cons, columns=df_ret.loc[: , first_asset:last_asset].columns, index=[\"State 0\", \"State 1\"]).T.round(4)\n",
    "port_weights[\"Static\"] = weights_saa_cons\n",
    "port_weights.round(4).loc[[\"ACWI\", \"Notes\", \"EMD\", \"Private Equity\", \"Gold\", \"Long bonds\"]]"
   ]
  },
  {
   "cell_type": "code",
   "execution_count": null,
   "metadata": {
    "colab": {},
    "colab_type": "code",
    "id": "Rb6toEHEA6gE"
   },
   "outputs": [],
   "source": []
  }
 ],
 "metadata": {
  "colab": {
   "collapsed_sections": [],
   "name": "Mean Var v9 (no resampling 2-state)",
   "provenance": []
  },
  "kernelspec": {
   "display_name": "Python 3",
   "language": "python",
   "name": "python3"
  },
  "language_info": {
   "codemirror_mode": {
    "name": "ipython",
    "version": 3
   },
   "file_extension": ".py",
   "mimetype": "text/x-python",
   "name": "python",
   "nbconvert_exporter": "python",
   "pygments_lexer": "ipython3",
   "version": "3.9.1"
  }
 },
 "nbformat": 4,
 "nbformat_minor": 4
}
