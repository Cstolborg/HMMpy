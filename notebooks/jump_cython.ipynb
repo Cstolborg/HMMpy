{
 "cells": [
  {
   "cell_type": "code",
   "execution_count": 1,
   "metadata": {},
   "outputs": [],
   "source": [
    "%load_ext cython"
   ]
  },
  {
   "cell_type": "code",
   "execution_count": 2,
   "metadata": {},
   "outputs": [
    {
     "data": {
      "text/plain": [
       "'C:\\\\Users\\\\chris\\\\PycharmProjects\\\\hmm-master'"
      ]
     },
     "execution_count": 2,
     "metadata": {},
     "output_type": "execute_result"
    }
   ],
   "source": [
    "import os\n",
    "os.chdir(\"C:\\\\Users\\\\chris\\\\PycharmProjects\\\\hmm-master\")\n",
    "os.getcwd()"
   ]
  },
  {
   "cell_type": "code",
   "execution_count": 3,
   "metadata": {
    "pycharm": {
     "name": "#%%\n"
    }
   },
   "outputs": [],
   "source": [
    "import numpy as np\n",
    "from utils.simulate_returns import simulate_2state_gaussian\n",
    "from models.hmm_jump import JumpHMM"
   ]
  },
  {
   "cell_type": "code",
   "execution_count": 4,
   "metadata": {},
   "outputs": [],
   "source": [
    "model = JumpHMM(n_states=2, random_state=42)\n",
    "returns, true_regimes = simulate_2state_gaussian(plotting=False)  # Simulate some data from two normal distributions\n",
    "\n",
    "Z = model.construct_features(returns, window_len=6)\n",
    "model._init_params(Z)\n",
    "\n",
    "l2_norms = model._l2_norm_squared(Z, model.theta)"
   ]
  },
  {
   "cell_type": "code",
   "execution_count": 5,
   "metadata": {},
   "outputs": [
    {
     "name": "stdout",
     "output_type": "stream",
     "text": [
      "125 µs ± 15.4 µs per loop (mean ± std. dev. of 10 runs, 100 loops each)\n"
     ]
    }
   ],
   "source": [
    "%%timeit -r 10 -n 100\n",
    "model._fit_state_seq(Z)"
   ]
  },
  {
   "cell_type": "code",
   "execution_count": 6,
   "metadata": {},
   "outputs": [
    {
     "name": "stdout",
     "output_type": "stream",
     "text": [
      "21 ms ± 132 µs per loop (mean ± std. dev. of 10 runs, 100 loops each)\n"
     ]
    }
   ],
   "source": [
    "%%timeit -r 10 -n 100\n",
    "model._fit_state_seq1(Z)"
   ]
  },
  {
   "cell_type": "code",
   "execution_count": 4,
   "metadata": {},
   "outputs": [],
   "source": [
    "model = JumpHMM(n_states=2, random_state=42)\n",
    "returns, true_regimes = simulate_2state_gaussian(plotting=False)  # Simulate some data from two normal distributions\n",
    "\n",
    "Z = model.construct_features(returns, window_len=6)"
   ]
  },
  {
   "cell_type": "code",
   "execution_count": 5,
   "metadata": {
    "scrolled": true
   },
   "outputs": [
    {
     "name": "stderr",
     "output_type": "stream",
     "text": [
      "C:\\Users\\chris\\PycharmProjects\\hmm-master\\models\\hmm_jump.py:121: RuntimeWarning: divide by zero encountered in long_scalars\n",
      "  self.theta[:, j] = 1 / N_j * z\n",
      "C:\\Users\\chris\\PycharmProjects\\hmm-master\\models\\hmm_jump.py:121: RuntimeWarning: invalid value encountered in multiply\n",
      "  self.theta[:, j] = 1 / N_j * z\n",
      "C:\\Users\\chris\\PycharmProjects\\hmm-master\\models\\hmm_jump.py:121: RuntimeWarning: divide by zero encountered in long_scalars\n",
      "  self.theta[:, j] = 1 / N_j * z\n",
      "C:\\Users\\chris\\PycharmProjects\\hmm-master\\models\\hmm_jump.py:121: RuntimeWarning: invalid value encountered in multiply\n",
      "  self.theta[:, j] = 1 / N_j * z\n",
      "C:\\Users\\chris\\PycharmProjects\\hmm-master\\models\\hmm_jump.py:121: RuntimeWarning: divide by zero encountered in long_scalars\n",
      "  self.theta[:, j] = 1 / N_j * z\n",
      "C:\\Users\\chris\\PycharmProjects\\hmm-master\\models\\hmm_jump.py:121: RuntimeWarning: invalid value encountered in multiply\n",
      "  self.theta[:, j] = 1 / N_j * z\n",
      "C:\\Users\\chris\\PycharmProjects\\hmm-master\\models\\hmm_jump.py:121: RuntimeWarning: divide by zero encountered in long_scalars\n",
      "  self.theta[:, j] = 1 / N_j * z\n",
      "C:\\Users\\chris\\PycharmProjects\\hmm-master\\models\\hmm_jump.py:121: RuntimeWarning: invalid value encountered in multiply\n",
      "  self.theta[:, j] = 1 / N_j * z\n",
      "C:\\Users\\chris\\PycharmProjects\\hmm-master\\models\\hmm_jump.py:121: RuntimeWarning: divide by zero encountered in long_scalars\n",
      "  self.theta[:, j] = 1 / N_j * z\n",
      "C:\\Users\\chris\\PycharmProjects\\hmm-master\\models\\hmm_jump.py:121: RuntimeWarning: invalid value encountered in multiply\n",
      "  self.theta[:, j] = 1 / N_j * z\n",
      "C:\\Users\\chris\\PycharmProjects\\hmm-master\\models\\hmm_jump.py:121: RuntimeWarning: divide by zero encountered in long_scalars\n",
      "  self.theta[:, j] = 1 / N_j * z\n",
      "C:\\Users\\chris\\PycharmProjects\\hmm-master\\models\\hmm_jump.py:121: RuntimeWarning: invalid value encountered in multiply\n",
      "  self.theta[:, j] = 1 / N_j * z\n",
      "C:\\Users\\chris\\PycharmProjects\\hmm-master\\models\\hmm_jump.py:121: RuntimeWarning: divide by zero encountered in long_scalars\n",
      "  self.theta[:, j] = 1 / N_j * z\n",
      "C:\\Users\\chris\\PycharmProjects\\hmm-master\\models\\hmm_jump.py:121: RuntimeWarning: invalid value encountered in multiply\n",
      "  self.theta[:, j] = 1 / N_j * z\n",
      "C:\\Users\\chris\\PycharmProjects\\hmm-master\\models\\hmm_jump.py:121: RuntimeWarning: divide by zero encountered in long_scalars\n",
      "  self.theta[:, j] = 1 / N_j * z\n",
      "C:\\Users\\chris\\PycharmProjects\\hmm-master\\models\\hmm_jump.py:121: RuntimeWarning: invalid value encountered in multiply\n",
      "  self.theta[:, j] = 1 / N_j * z\n",
      "C:\\Users\\chris\\PycharmProjects\\hmm-master\\models\\hmm_jump.py:121: RuntimeWarning: divide by zero encountered in long_scalars\n",
      "  self.theta[:, j] = 1 / N_j * z\n",
      "C:\\Users\\chris\\PycharmProjects\\hmm-master\\models\\hmm_jump.py:121: RuntimeWarning: invalid value encountered in multiply\n",
      "  self.theta[:, j] = 1 / N_j * z\n",
      "C:\\Users\\chris\\PycharmProjects\\hmm-master\\models\\hmm_jump.py:121: RuntimeWarning: divide by zero encountered in long_scalars\n",
      "  self.theta[:, j] = 1 / N_j * z\n",
      "C:\\Users\\chris\\PycharmProjects\\hmm-master\\models\\hmm_jump.py:121: RuntimeWarning: invalid value encountered in multiply\n",
      "  self.theta[:, j] = 1 / N_j * z\n",
      "C:\\Users\\chris\\PycharmProjects\\hmm-master\\models\\hmm_jump.py:121: RuntimeWarning: divide by zero encountered in long_scalars\n",
      "  self.theta[:, j] = 1 / N_j * z\n",
      "C:\\Users\\chris\\PycharmProjects\\hmm-master\\models\\hmm_jump.py:121: RuntimeWarning: invalid value encountered in multiply\n",
      "  self.theta[:, j] = 1 / N_j * z\n",
      "C:\\Users\\chris\\PycharmProjects\\hmm-master\\models\\hmm_jump.py:121: RuntimeWarning: divide by zero encountered in long_scalars\n",
      "  self.theta[:, j] = 1 / N_j * z\n",
      "C:\\Users\\chris\\PycharmProjects\\hmm-master\\models\\hmm_jump.py:121: RuntimeWarning: invalid value encountered in multiply\n",
      "  self.theta[:, j] = 1 / N_j * z\n",
      "C:\\Users\\chris\\PycharmProjects\\hmm-master\\models\\hmm_jump.py:121: RuntimeWarning: divide by zero encountered in long_scalars\n",
      "  self.theta[:, j] = 1 / N_j * z\n",
      "C:\\Users\\chris\\PycharmProjects\\hmm-master\\models\\hmm_jump.py:121: RuntimeWarning: invalid value encountered in multiply\n",
      "  self.theta[:, j] = 1 / N_j * z\n",
      "C:\\Users\\chris\\PycharmProjects\\hmm-master\\models\\hmm_jump.py:121: RuntimeWarning: divide by zero encountered in long_scalars\n",
      "  self.theta[:, j] = 1 / N_j * z\n",
      "C:\\Users\\chris\\PycharmProjects\\hmm-master\\models\\hmm_jump.py:121: RuntimeWarning: invalid value encountered in multiply\n",
      "  self.theta[:, j] = 1 / N_j * z\n",
      "C:\\Users\\chris\\PycharmProjects\\hmm-master\\models\\hmm_jump.py:121: RuntimeWarning: divide by zero encountered in long_scalars\n",
      "  self.theta[:, j] = 1 / N_j * z\n",
      "C:\\Users\\chris\\PycharmProjects\\hmm-master\\models\\hmm_jump.py:121: RuntimeWarning: invalid value encountered in multiply\n",
      "  self.theta[:, j] = 1 / N_j * z\n",
      "C:\\Users\\chris\\PycharmProjects\\hmm-master\\models\\hmm_jump.py:121: RuntimeWarning: divide by zero encountered in long_scalars\n",
      "  self.theta[:, j] = 1 / N_j * z\n",
      "C:\\Users\\chris\\PycharmProjects\\hmm-master\\models\\hmm_jump.py:121: RuntimeWarning: invalid value encountered in multiply\n",
      "  self.theta[:, j] = 1 / N_j * z\n",
      "C:\\Users\\chris\\PycharmProjects\\hmm-master\\models\\hmm_jump.py:121: RuntimeWarning: divide by zero encountered in long_scalars\n",
      "  self.theta[:, j] = 1 / N_j * z\n",
      "C:\\Users\\chris\\PycharmProjects\\hmm-master\\models\\hmm_jump.py:121: RuntimeWarning: invalid value encountered in multiply\n",
      "  self.theta[:, j] = 1 / N_j * z\n",
      "C:\\Users\\chris\\PycharmProjects\\hmm-master\\models\\hmm_jump.py:121: RuntimeWarning: divide by zero encountered in long_scalars\n",
      "  self.theta[:, j] = 1 / N_j * z\n",
      "C:\\Users\\chris\\PycharmProjects\\hmm-master\\models\\hmm_jump.py:121: RuntimeWarning: invalid value encountered in multiply\n",
      "  self.theta[:, j] = 1 / N_j * z\n",
      "C:\\Users\\chris\\PycharmProjects\\hmm-master\\models\\hmm_jump.py:121: RuntimeWarning: divide by zero encountered in long_scalars\n",
      "  self.theta[:, j] = 1 / N_j * z\n",
      "C:\\Users\\chris\\PycharmProjects\\hmm-master\\models\\hmm_jump.py:121: RuntimeWarning: invalid value encountered in multiply\n",
      "  self.theta[:, j] = 1 / N_j * z\n",
      "C:\\Users\\chris\\PycharmProjects\\hmm-master\\models\\hmm_jump.py:121: RuntimeWarning: divide by zero encountered in long_scalars\n",
      "  self.theta[:, j] = 1 / N_j * z\n",
      "C:\\Users\\chris\\PycharmProjects\\hmm-master\\models\\hmm_jump.py:121: RuntimeWarning: invalid value encountered in multiply\n",
      "  self.theta[:, j] = 1 / N_j * z\n",
      "C:\\Users\\chris\\PycharmProjects\\hmm-master\\models\\hmm_jump.py:121: RuntimeWarning: divide by zero encountered in long_scalars\n",
      "  self.theta[:, j] = 1 / N_j * z\n",
      "C:\\Users\\chris\\PycharmProjects\\hmm-master\\models\\hmm_jump.py:121: RuntimeWarning: invalid value encountered in multiply\n",
      "  self.theta[:, j] = 1 / N_j * z\n",
      "C:\\Users\\chris\\PycharmProjects\\hmm-master\\models\\hmm_jump.py:121: RuntimeWarning: divide by zero encountered in long_scalars\n",
      "  self.theta[:, j] = 1 / N_j * z\n",
      "C:\\Users\\chris\\PycharmProjects\\hmm-master\\models\\hmm_jump.py:121: RuntimeWarning: invalid value encountered in multiply\n",
      "  self.theta[:, j] = 1 / N_j * z\n",
      "C:\\Users\\chris\\PycharmProjects\\hmm-master\\models\\hmm_jump.py:121: RuntimeWarning: divide by zero encountered in long_scalars\n",
      "  self.theta[:, j] = 1 / N_j * z\n",
      "C:\\Users\\chris\\PycharmProjects\\hmm-master\\models\\hmm_jump.py:121: RuntimeWarning: invalid value encountered in multiply\n",
      "  self.theta[:, j] = 1 / N_j * z\n",
      "C:\\Users\\chris\\PycharmProjects\\hmm-master\\models\\hmm_jump.py:121: RuntimeWarning: divide by zero encountered in long_scalars\n",
      "  self.theta[:, j] = 1 / N_j * z\n",
      "C:\\Users\\chris\\PycharmProjects\\hmm-master\\models\\hmm_jump.py:121: RuntimeWarning: invalid value encountered in multiply\n",
      "  self.theta[:, j] = 1 / N_j * z\n",
      "C:\\Users\\chris\\PycharmProjects\\hmm-master\\models\\hmm_jump.py:121: RuntimeWarning: divide by zero encountered in long_scalars\n",
      "  self.theta[:, j] = 1 / N_j * z\n",
      "C:\\Users\\chris\\PycharmProjects\\hmm-master\\models\\hmm_jump.py:121: RuntimeWarning: invalid value encountered in multiply\n",
      "  self.theta[:, j] = 1 / N_j * z\n",
      "C:\\Users\\chris\\PycharmProjects\\hmm-master\\models\\hmm_jump.py:121: RuntimeWarning: divide by zero encountered in long_scalars\n",
      "  self.theta[:, j] = 1 / N_j * z\n",
      "C:\\Users\\chris\\PycharmProjects\\hmm-master\\models\\hmm_jump.py:121: RuntimeWarning: invalid value encountered in multiply\n",
      "  self.theta[:, j] = 1 / N_j * z\n"
     ]
    },
    {
     "name": "stdout",
     "output_type": "stream",
     "text": [
      "125 ms ± 5.76 ms per loop (mean ± std. dev. of 7 runs, 10 loops each)\n"
     ]
    }
   ],
   "source": [
    "%%timeit\n",
    "model.fit(Z)"
   ]
  },
  {
   "cell_type": "code",
   "execution_count": 6,
   "metadata": {},
   "outputs": [],
   "source": [
    "model.fit(Z)"
   ]
  },
  {
   "cell_type": "code",
   "execution_count": 6,
   "metadata": {},
   "outputs": [
    {
     "name": "stdout",
     "output_type": "stream",
     "text": [
      "859 ms ± 79.2 ms per loop (mean ± std. dev. of 7 runs, 1 loop each)\n"
     ]
    }
   ],
   "source": [
    "%%timeit\n",
    "model.fit1(Z)"
   ]
  },
  {
   "cell_type": "markdown",
   "metadata": {},
   "source": [
    "## cython implementation"
   ]
  },
  {
   "cell_type": "code",
   "execution_count": 43,
   "metadata": {},
   "outputs": [],
   "source": [
    "%%cython -3\n",
    "\n",
    "cimport cython\n",
    "from cython cimport view\n",
    "from libc.math cimport exp, log, INFINITY, isinf\n",
    "#from numpy.math cimport expl, logl, isinf, INFINITY\n",
    "\n",
    "import numpy as np\n",
    "\n",
    "ctypedef double dtype_t\n",
    "\n",
    "@cython.boundscheck(False)\n",
    "cdef inline int _argmin(dtype_t[:] X) nogil:\n",
    "    cdef dtype_t X_min = INFINITY\n",
    "    cdef int pos = 0\n",
    "    cdef int i\n",
    "    for i in range(X.shape[0]):\n",
    "        if X[i] < X_min:\n",
    "            X_min = X[i]\n",
    "            pos = i\n",
    "    return pos\n",
    "\n",
    "@cython.boundscheck(False)\n",
    "cdef inline dtype_t _min(dtype_t[:] X) nogil:\n",
    "    return X[_argmin(X)]\n",
    "\n",
    "@cython.boundscheck(False)\n",
    "@cython.wraparound(False)\n",
    "def jump_state_seq(int n_samples, int n_states, int n_features,\n",
    "                   dtype_t jump_penalty,\n",
    "                   dtype_t[:, :] l2_norms):\n",
    "\n",
    "    cdef int i, j ,t, where_from\n",
    "    cdef int[::view.contiguous] state_sequence = np.empty(n_samples, dtype=np.int32)\n",
    "    cdef dtype_t[:, ::view.contiguous] losses = np.zeros(shape=(n_samples, n_states))\n",
    "    \n",
    "    # Temporary variables\n",
    "    cdef dtype_t[::view.contiguous] state_change_penalty = np.empty(n_states)\n",
    "\n",
    "    with nogil:\n",
    "        losses[n_samples - 1] = l2_norms[n_samples - 1]\n",
    "        \n",
    "        # Backward recursion to compute losses\n",
    "        for t in range(n_samples - 2, -1, -1):\n",
    "            for i in range(n_states):            \n",
    "                \n",
    "                for j in range(n_states):\n",
    "                    # If j==1, then no state change occurred and no jump penalty applies\n",
    "                    if j == i:\n",
    "                        state_change_penalty[j] = l2_norms[t+1, j]\n",
    "                    else:\n",
    "                        state_change_penalty[j] = l2_norms[t+1, j] + jump_penalty\n",
    "                \n",
    "                \n",
    "                losses[t, i] = l2_norms[t, i] + _min(state_change_penalty)\n",
    "                \n",
    "        # Use losses in forward recursion to compute most likeley state sequence\n",
    "        state_sequence[0] = _argmin(losses[0])\n",
    "        \n",
    "        for t in range(1, n_samples):\n",
    "            for i in range(n_states):\n",
    "                \n",
    "                if i == state_sequence[t-1]:\n",
    "                    state_change_penalty[i] = losses[t, i]\n",
    "                else:\n",
    "                    state_change_penalty[i] = losses[t, i] + jump_penalty\n",
    "                \n",
    "            state_sequence[t] = _argmin(state_change_penalty)\n",
    "        \n",
    "    return np.asarray(losses), np.asarray(state_sequence)"
   ]
  },
  {
   "cell_type": "code",
   "execution_count": 44,
   "metadata": {},
   "outputs": [
    {
     "data": {
      "text/plain": [
       "(array([[0.02821312, 0.50028372],\n",
       "        [0.02900698, 0.65667288],\n",
       "        [0.04496802, 0.5991863 ],\n",
       "        ...,\n",
       "        [0.1234966 , 0.35511593],\n",
       "        [0.06949626, 0.40281096],\n",
       "        [0.04139661, 0.18216915]]),\n",
       " array([0, 0, 0, 0, 0, 0, 0, 0, 0, 0, 0, 0, 0, 0, 0, 0, 0, 0, 0, 0, 0, 0,\n",
       "        0, 0, 0, 0, 0, 0, 0, 0, 0, 0, 0, 0, 0, 0, 0, 0, 0, 0, 0, 0, 0, 0,\n",
       "        0, 0, 0, 0, 0, 0, 0, 0, 0, 0, 0, 0, 0, 0, 0, 0, 0, 0, 0, 0, 0, 0,\n",
       "        0, 0, 0, 0, 0, 0, 0, 0, 0, 0, 0, 0, 0, 0, 0, 0, 0, 0, 0, 0, 0, 0,\n",
       "        0, 0, 0, 0, 0, 0, 0, 0, 0, 0, 0, 0, 0, 0, 0, 0, 0, 0, 0, 0, 0, 0,\n",
       "        0, 0, 0, 0, 0, 0, 0, 0, 0, 0, 0, 0, 0, 0, 0, 0, 0, 0, 0, 0, 0, 0,\n",
       "        0, 0, 0, 0, 0, 0, 0, 0, 0, 0, 0, 0, 0, 0, 0, 0, 0, 0, 0, 0, 0, 0,\n",
       "        0, 0, 0, 0, 0, 0, 0, 0, 0, 0, 0, 0, 0, 0, 0, 0, 0, 0, 0, 0, 0, 0,\n",
       "        0, 0, 0, 0, 0, 0, 0, 0, 0, 0, 0, 0, 0, 0, 0, 0, 0, 0, 0, 0, 0, 0,\n",
       "        0, 1, 1, 1, 1, 0, 0, 0, 0, 0, 0, 0, 0, 1, 1, 1, 1, 1, 1, 1, 1, 1,\n",
       "        1, 1, 1, 1, 1, 1, 1, 1, 1, 1, 1, 1, 1, 1, 1, 1, 1, 1, 1, 1, 1, 1,\n",
       "        1, 1, 1, 1, 0, 0, 0, 1, 1, 1, 1, 1, 1, 1, 1, 1, 1, 1, 1, 1, 1, 1,\n",
       "        1, 1, 1, 1, 1, 1, 1, 1, 1, 1, 1, 1, 1, 1, 1, 1, 1, 1, 1, 1, 1, 1,\n",
       "        1, 1, 1, 1, 1, 1, 1, 1, 1, 1, 1, 1, 1, 1, 1, 1, 1, 1, 1, 1, 0, 0,\n",
       "        0, 0, 0, 0, 0, 0, 1, 1, 1, 1, 1, 1, 1, 1, 1, 1, 1, 1, 1, 1, 1, 1,\n",
       "        1, 1, 1, 1, 1, 1, 1, 1, 1, 1, 1, 1, 1, 1, 1, 1, 1, 1, 1, 1, 1, 1,\n",
       "        1, 1, 1, 1, 1, 1, 1, 1, 1, 1, 1, 1, 1, 1, 0, 0, 0, 0, 0, 0, 0, 0,\n",
       "        1, 1, 1, 1, 1, 1, 1, 1, 1, 1, 1, 1, 1, 1, 1, 1, 1, 1, 1, 1, 1, 1,\n",
       "        0, 0, 0, 0, 0, 0, 0, 0, 0, 0, 0, 0, 0, 0, 0, 0, 0, 0, 0, 0, 0, 0,\n",
       "        0, 0, 0, 0, 0, 0, 0, 0, 0, 0, 0, 0, 0, 0, 0, 0, 0, 0, 0, 0, 0, 0,\n",
       "        0, 0, 0, 0, 0, 0, 0, 0, 0, 0, 0, 0, 0, 0, 0, 0, 0, 0, 0, 0, 0, 0,\n",
       "        0, 0, 0, 0, 0, 0, 0, 0, 0, 0, 0, 0, 0, 0, 0, 0, 0, 0, 0, 0, 0, 0,\n",
       "        0, 0, 0, 0, 0, 0, 0, 0, 0, 0, 0, 0, 0, 0, 0, 0, 0, 0, 0, 0, 0, 0,\n",
       "        0, 0, 0, 0, 0, 0, 0, 0, 0, 0, 0, 0, 0, 0, 0, 0, 0, 0, 0, 0, 0, 0,\n",
       "        0, 0, 0, 0, 0, 0, 0, 0, 0, 0, 0, 0, 0, 0, 0, 0, 0, 0, 0, 0, 0, 0,\n",
       "        0, 0, 0, 0, 0, 0, 0, 0, 0, 0, 0, 0, 0, 0, 0, 0, 0, 0, 0, 0, 0, 0,\n",
       "        0, 0, 0, 0, 0, 0, 0, 0, 0, 0, 0, 0, 0, 0, 0, 0, 0, 0, 0, 0, 0, 0,\n",
       "        0, 0, 0, 0, 0, 0, 0, 1, 1, 1, 1, 1, 1, 1, 1, 0, 0, 0, 0, 0, 0, 0,\n",
       "        0, 0, 0, 0, 1, 1, 1, 1, 1, 1, 1, 1, 1, 1, 1, 1, 1, 1, 1, 1, 1, 1,\n",
       "        1, 1, 1, 1, 1, 1, 1, 1, 1, 1, 1, 0, 0, 1, 1, 1, 1, 1, 1, 1, 1, 1,\n",
       "        1, 1, 1, 1, 1, 1, 1, 1, 1, 1, 1, 1, 1, 1, 1, 1, 1, 1, 1, 1, 1, 1,\n",
       "        1, 1, 1, 1, 1, 1, 1, 1, 1, 1, 1, 1, 1, 1, 1, 1, 1, 1, 1, 1, 1, 1,\n",
       "        1, 1, 1, 1, 1, 1, 1, 1, 1, 1, 1, 1, 1, 1, 1, 1, 1, 1, 1, 1, 1, 1,\n",
       "        1, 1, 1, 1, 1, 1, 1, 0, 0, 1, 1, 1, 1, 1, 1, 1, 1, 1, 1, 1, 1, 1,\n",
       "        1, 1, 1, 1, 1, 1, 1, 1, 1, 0, 0, 0, 1, 1, 1, 1, 0, 0, 0, 0, 0, 0,\n",
       "        1, 1, 1, 1, 1, 1, 1, 1, 1, 1, 1, 1, 1, 1, 1, 1, 1, 1, 1, 1, 1, 1,\n",
       "        1, 1, 1, 0, 0, 0, 0, 0, 0, 0, 0, 0, 0, 0, 0, 0, 0, 0, 0, 0, 0, 0,\n",
       "        0, 0, 0, 0, 0, 0, 0, 0, 0, 0, 0, 0, 0, 0, 0, 0, 0, 0, 0, 0, 0, 0,\n",
       "        0, 0, 0, 0, 0, 0, 0, 0, 0, 0, 0, 0, 0, 0, 0, 0, 0, 0, 0, 0, 0, 0,\n",
       "        0, 0, 0, 0, 0, 0, 0, 0, 0, 0, 0, 0, 0, 0, 0, 0, 0, 0, 0, 0, 0, 0,\n",
       "        0, 0, 0, 0, 0, 0, 0, 0, 0, 0, 0, 0, 0, 0, 0, 0, 0, 0, 0, 0, 0, 0,\n",
       "        0, 0, 0, 0, 0, 0, 0, 0, 0, 0, 0, 0, 0, 0, 0, 0, 0, 0, 0, 0, 0, 0,\n",
       "        0, 0, 0, 0, 0, 0, 0, 0, 0, 0, 0, 0, 0, 0, 0, 0, 0, 0, 0, 0, 0, 0,\n",
       "        0, 0, 0, 0, 0, 0, 0, 0, 0, 0, 0, 0, 0, 0, 0, 0, 0, 0, 0, 0, 0, 0,\n",
       "        0, 0, 0, 0, 0, 0, 0, 0, 0, 0, 0, 0, 0, 0, 0, 0, 0, 0, 0, 0, 0]))"
      ]
     },
     "execution_count": 44,
     "metadata": {},
     "output_type": "execute_result"
    }
   ],
   "source": [
    "jump_state_seq(len(Z), 2, Z.shape[1],\n",
    "               0.2,\n",
    "               l2_norms)"
   ]
  },
  {
   "cell_type": "code",
   "execution_count": 45,
   "metadata": {},
   "outputs": [
    {
     "name": "stdout",
     "output_type": "stream",
     "text": [
      "32.4 µs ± 407 ns per loop (mean ± std. dev. of 7 runs, 10000 loops each)\n"
     ]
    }
   ],
   "source": [
    "%%timeit\n",
    "jump_state_seq(len(Z), 2, Z.shape[1],\n",
    "               0.2,\n",
    "               l2_norms)"
   ]
  },
  {
   "cell_type": "code",
   "execution_count": null,
   "metadata": {},
   "outputs": [],
   "source": []
  },
  {
   "cell_type": "code",
   "execution_count": null,
   "metadata": {},
   "outputs": [],
   "source": []
  }
 ],
 "metadata": {
  "kernelspec": {
   "display_name": "Python 3",
   "language": "python",
   "name": "python3"
  },
  "language_info": {
   "codemirror_mode": {
    "name": "ipython",
    "version": 3
   },
   "file_extension": ".py",
   "mimetype": "text/x-python",
   "name": "python",
   "nbconvert_exporter": "python",
   "pygments_lexer": "ipython3",
   "version": "3.9.1"
  }
 },
 "nbformat": 4,
 "nbformat_minor": 4
}
