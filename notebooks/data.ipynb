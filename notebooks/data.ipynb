{
 "cells": [
  {
   "cell_type": "code",
   "execution_count": null,
   "metadata": {},
   "outputs": [],
   "source": []
  },
  {
   "cell_type": "code",
   "execution_count": 1,
   "metadata": {},
   "outputs": [],
   "source": [
    "import pandas as pd; pd.set_option('precision',4)\n",
    "pd.options.mode.chained_assignment = None  # default='warn'\n",
    "import numpy as np; np.set_printoptions(precision=4,suppress = True)\n",
    "import matplotlib.pyplot as plt\n",
    "import seaborn as sns\n",
    "from scipy import stats\n",
    "import statsmodels.api as sm\n",
    "from statsmodels.graphics.tsaplots import plot_acf, plot_pacf, acf, pacf\n",
    "import matplotlib.gridspec as gridspec\n",
    "from datetime import datetime\n",
    "\n",
    "fontsize = 15 # Set fontsize for all figures\n",
    "plt.rc('font', size=fontsize)          # controls default text sizes\n",
    "plt.rc('axes', titlesize=fontsize)     # fontsize of the axes title\n",
    "plt.rc('axes', labelsize=fontsize)    # fontsize of the x and y labels\n",
    "plt.rc('xtick', labelsize=fontsize)    # fontsize of the tick labels\n",
    "plt.rc('ytick', labelsize=fontsize)    # fontsize of the tick labels\n",
    "plt.rc('legend', fontsize=fontsize)    # legend fontsize\n",
    "plt.rc('figure', titlesize=fontsize)  # fontsize of the figure title\n",
    "\n",
    "\n",
    "# StandardScale all x-variables - improves performance and robustness of fitted models\n",
    "from sklearn.preprocessing import StandardScaler\n",
    "\n",
    "# All subsets need their own scaler in order to call the inverse_transform method\n",
    "scaler_train = StandardScaler()\n",
    "scaler_test = StandardScaler()\n",
    "scaler_all = StandardScaler()\n",
    "\n",
    "\n",
    "def printf(text, value, pct=False):\n",
    "    if pct == True:\n",
    "        print(text, f\"{value*100:.4f}%\")\n",
    "    else:\n",
    "        print(text, f\"{value:.4f}\")"
   ]
  },
  {
   "cell_type": "code",
   "execution_count": 2,
   "metadata": {},
   "outputs": [
    {
     "name": "stdout",
     "output_type": "stream",
     "text": [
      "/home/math/PycharmProjects/hmm-master/notebooks\n"
     ]
    }
   ],
   "source": [
    "import os \n",
    "cwd = os.getcwd()\n",
    "print(os.getcwd())\n",
    "os.chdir('/home/math/PycharmProjects/hmm-master')"
   ]
  },
  {
   "cell_type": "code",
   "execution_count": 3,
   "metadata": {
    "pycharm": {
     "name": "#%%\n"
    }
   },
   "outputs": [
    {
     "data": {
      "text/html": [
       "<div>\n",
       "<style scoped>\n",
       "    .dataframe tbody tr th:only-of-type {\n",
       "        vertical-align: middle;\n",
       "    }\n",
       "\n",
       "    .dataframe tbody tr th {\n",
       "        vertical-align: top;\n",
       "    }\n",
       "\n",
       "    .dataframe thead th {\n",
       "        text-align: right;\n",
       "    }\n",
       "</style>\n",
       "<table border=\"1\" class=\"dataframe\">\n",
       "  <thead>\n",
       "    <tr style=\"text-align: right;\">\n",
       "      <th></th>\n",
       "      <th>MSCI World</th>\n",
       "    </tr>\n",
       "    <tr>\n",
       "      <th>Time / Name</th>\n",
       "      <th></th>\n",
       "    </tr>\n",
       "  </thead>\n",
       "  <tbody>\n",
       "    <tr>\n",
       "      <th>1980-01-01</th>\n",
       "      <td>7.0217</td>\n",
       "    </tr>\n",
       "    <tr>\n",
       "      <th>1980-01-02</th>\n",
       "      <td>6.9258</td>\n",
       "    </tr>\n",
       "    <tr>\n",
       "      <th>1980-01-03</th>\n",
       "      <td>6.9075</td>\n",
       "    </tr>\n",
       "    <tr>\n",
       "      <th>1980-01-04</th>\n",
       "      <td>6.9630</td>\n",
       "    </tr>\n",
       "    <tr>\n",
       "      <th>1980-01-07</th>\n",
       "      <td>6.9889</td>\n",
       "    </tr>\n",
       "  </tbody>\n",
       "</table>\n",
       "</div>"
      ],
      "text/plain": [
       "             MSCI World\n",
       "Time / Name            \n",
       "1980-01-01       7.0217\n",
       "1980-01-02       6.9258\n",
       "1980-01-03       6.9075\n",
       "1980-01-04       6.9630\n",
       "1980-01-07       6.9889"
      ]
     },
     "execution_count": 3,
     "metadata": {},
     "output_type": "execute_result"
    }
   ],
   "source": [
    "df = pd.read_excel('data/Adjusted Close Price Series Load.xlsx', header = 2, index_col = 'Time / Name')\n",
    "df_MSCI = df[['MSCI World']]\n",
    "df_MSCI.head()"
   ]
  },
  {
   "cell_type": "code",
   "execution_count": 4,
   "metadata": {},
   "outputs": [
    {
     "data": {
      "text/html": [
       "<div>\n",
       "<style scoped>\n",
       "    .dataframe tbody tr th:only-of-type {\n",
       "        vertical-align: middle;\n",
       "    }\n",
       "\n",
       "    .dataframe tbody tr th {\n",
       "        vertical-align: top;\n",
       "    }\n",
       "\n",
       "    .dataframe thead th {\n",
       "        text-align: right;\n",
       "    }\n",
       "</style>\n",
       "<table border=\"1\" class=\"dataframe\">\n",
       "  <thead>\n",
       "    <tr style=\"text-align: right;\">\n",
       "      <th></th>\n",
       "      <th>MSCI World</th>\n",
       "      <th>Returns</th>\n",
       "      <th>Log returns</th>\n",
       "    </tr>\n",
       "    <tr>\n",
       "      <th>Time / Name</th>\n",
       "      <th></th>\n",
       "      <th></th>\n",
       "      <th></th>\n",
       "    </tr>\n",
       "  </thead>\n",
       "  <tbody>\n",
       "    <tr>\n",
       "      <th>1980-01-02</th>\n",
       "      <td>6.9258</td>\n",
       "      <td>-0.0137</td>\n",
       "      <td>-0.0138</td>\n",
       "    </tr>\n",
       "    <tr>\n",
       "      <th>1980-01-03</th>\n",
       "      <td>6.9075</td>\n",
       "      <td>-0.0026</td>\n",
       "      <td>-0.0027</td>\n",
       "    </tr>\n",
       "    <tr>\n",
       "      <th>1980-01-04</th>\n",
       "      <td>6.9630</td>\n",
       "      <td>0.0080</td>\n",
       "      <td>0.0080</td>\n",
       "    </tr>\n",
       "    <tr>\n",
       "      <th>1980-01-07</th>\n",
       "      <td>6.9889</td>\n",
       "      <td>0.0037</td>\n",
       "      <td>0.0037</td>\n",
       "    </tr>\n",
       "    <tr>\n",
       "      <th>1980-01-08</th>\n",
       "      <td>7.0757</td>\n",
       "      <td>0.0124</td>\n",
       "      <td>0.0123</td>\n",
       "    </tr>\n",
       "    <tr>\n",
       "      <th>...</th>\n",
       "      <td>...</td>\n",
       "      <td>...</td>\n",
       "      <td>...</td>\n",
       "    </tr>\n",
       "    <tr>\n",
       "      <th>2021-01-12</th>\n",
       "      <td>167.0883</td>\n",
       "      <td>0.0012</td>\n",
       "      <td>0.0012</td>\n",
       "    </tr>\n",
       "    <tr>\n",
       "      <th>2021-01-13</th>\n",
       "      <td>167.5403</td>\n",
       "      <td>0.0027</td>\n",
       "      <td>0.0027</td>\n",
       "    </tr>\n",
       "    <tr>\n",
       "      <th>2021-01-14</th>\n",
       "      <td>167.4257</td>\n",
       "      <td>-0.0007</td>\n",
       "      <td>-0.0007</td>\n",
       "    </tr>\n",
       "    <tr>\n",
       "      <th>2021-01-15</th>\n",
       "      <td>166.9609</td>\n",
       "      <td>-0.0028</td>\n",
       "      <td>-0.0028</td>\n",
       "    </tr>\n",
       "    <tr>\n",
       "      <th>2021-01-18</th>\n",
       "      <td>167.1615</td>\n",
       "      <td>0.0012</td>\n",
       "      <td>0.0012</td>\n",
       "    </tr>\n",
       "  </tbody>\n",
       "</table>\n",
       "<p>10709 rows × 3 columns</p>\n",
       "</div>"
      ],
      "text/plain": [
       "             MSCI World  Returns  Log returns\n",
       "Time / Name                                  \n",
       "1980-01-02       6.9258  -0.0137      -0.0138\n",
       "1980-01-03       6.9075  -0.0026      -0.0027\n",
       "1980-01-04       6.9630   0.0080       0.0080\n",
       "1980-01-07       6.9889   0.0037       0.0037\n",
       "1980-01-08       7.0757   0.0124       0.0123\n",
       "...                 ...      ...          ...\n",
       "2021-01-12     167.0883   0.0012       0.0012\n",
       "2021-01-13     167.5403   0.0027       0.0027\n",
       "2021-01-14     167.4257  -0.0007      -0.0007\n",
       "2021-01-15     166.9609  -0.0028      -0.0028\n",
       "2021-01-18     167.1615   0.0012       0.0012\n",
       "\n",
       "[10709 rows x 3 columns]"
      ]
     },
     "execution_count": 4,
     "metadata": {},
     "output_type": "execute_result"
    }
   ],
   "source": [
    "df_MSCI['Returns'] = df_MSCI['MSCI World'].pct_change()\n",
    "df_MSCI['Log returns'] = np.log(df_MSCI['MSCI World']) - np.log(df_MSCI['MSCI World'].shift(1))\n",
    "df_MSCI.dropna(inplace=True)\n",
    "df_MSCI.head(-5)"
   ]
  },
  {
   "cell_type": "markdown",
   "metadata": {},
   "source": [
    "### Train and Test period"
   ]
  },
  {
   "cell_type": "code",
   "execution_count": 5,
   "metadata": {},
   "outputs": [],
   "source": [
    "start_train = '1980-01-01'\n",
    "end_train = '2014-01-01'\n",
    "\n",
    "start_test = '2014-01-02'\n",
    "end_test = '2021-01-18'\n",
    "\n",
    "# Get train and test as datetimes - used for plotting\n",
    "start_train_dt = datetime.strptime(start_train, '%Y-%m-%d')\n",
    "end_train_dt = datetime.strptime(end_train, '%Y-%m-%d')\n",
    "start_test_dt = datetime.strptime(start_test, '%Y-%m-%d')\n",
    "end_test_dt = datetime.strptime(end_test, '%Y-%m-%d')\n",
    "\n",
    "df = df.loc[start_train:end_test]"
   ]
  },
  {
   "cell_type": "code",
   "execution_count": 6,
   "metadata": {},
   "outputs": [],
   "source": [
    "#Get train & test sets - keep as Dataframe as oppossed to pandas series.\n",
    "x_train = pd.DataFrame(df_MSCI.loc[start_train:end_train, 'Log returns'])\n",
    "x_test = pd.DataFrame(df_MSCI.loc[start_test:end_test, 'Log returns'])\n",
    "x_all = pd.DataFrame(df_MSCI.loc[start_train:end_test, 'Log returns'])"
   ]
  },
  {
   "cell_type": "code",
   "execution_count": 7,
   "metadata": {},
   "outputs": [],
   "source": [
    "#Scale train & test sets\n",
    "x_train_scaled = pd.DataFrame(scaler_train.fit_transform(x_train),\n",
    "             columns = [\"Log returns\"],\n",
    "             index=x_train.index)\n",
    "x_test_scaled = pd.DataFrame(scaler_test.fit_transform(x_test), columns =['Log returns'], index = x_test.index)\n",
    "\n",
    "x_all_scaled = pd.DataFrame(scaler_all.fit_transform(x_all), columns = ['Log returns'], index = x_all.index)"
   ]
  },
  {
   "cell_type": "code",
   "execution_count": 8,
   "metadata": {},
   "outputs": [],
   "source": [
    "#Set variable for index prices and set index 100 to first obs - only used for plotting\n",
    "prices = df.loc[start_train:end_test , 'MSCI World']\n",
    "prices = df.loc[:,\"MSCI World\"] / df.iloc[0][\"MSCI World\"] * 100"
   ]
  },
  {
   "cell_type": "markdown",
   "metadata": {},
   "source": [
    "### Data Exploration"
   ]
  },
  {
   "cell_type": "markdown",
   "metadata": {},
   "source": [
    "#### Overview of time series\n"
   ]
  },
  {
   "cell_type": "code",
   "execution_count": 9,
   "metadata": {},
   "outputs": [
    {
     "data": {
      "image/png": "[encoded data removed]",
      "text/plain": [
       "<Figure size 1080x360 with 1 Axes>"
      ]
     },
     "metadata": {
      "needs_background": "light"
     },
     "output_type": "display_data"
    }
   ],
   "source": [
    "def plot_test_area(ax):\n",
    "    #Set grey background for in-sample data\n",
    "    ax.axvspan(start_train_dt, end_train_dt, alpha=0.5, color='white')\n",
    "    ax.axvspan(start_test_dt, end_test_dt, alpha=0.5, color='grey', label = \"Out of sample\")\n",
    "\n",
    "    \n",
    "fig, ax = plt.subplots(figsize=(15,5))\n",
    "\n",
    "plt.plot(prices)\n",
    "plt.ylabel('Index Prices')\n",
    "plt.xlim(start_train_dt, end_test_dt)\n",
    "plt.grid()\n",
    "plt.tight_layout()\n",
    "plt.savefig(\"MSCI World\")"
   ]
  },
  {
   "cell_type": "code",
   "execution_count": 10,
   "metadata": {},
   "outputs": [
    {
     "name": "stdout",
     "output_type": "stream",
     "text": [
      "Train/Total OBS ratio =  82.8369%\n",
      "----------------------------------------\n",
      "In-sample \n",
      "\n"
     ]
    },
    {
     "data": {
      "text/html": [
       "<div>\n",
       "<style scoped>\n",
       "    .dataframe tbody tr th:only-of-type {\n",
       "        vertical-align: middle;\n",
       "    }\n",
       "\n",
       "    .dataframe tbody tr th {\n",
       "        vertical-align: top;\n",
       "    }\n",
       "\n",
       "    .dataframe thead th {\n",
       "        text-align: right;\n",
       "    }\n",
       "</style>\n",
       "<table border=\"1\" class=\"dataframe\">\n",
       "  <thead>\n",
       "    <tr style=\"text-align: right;\">\n",
       "      <th></th>\n",
       "      <th>count</th>\n",
       "      <th>mean</th>\n",
       "      <th>std</th>\n",
       "      <th>min</th>\n",
       "      <th>25%</th>\n",
       "      <th>50%</th>\n",
       "      <th>75%</th>\n",
       "      <th>max</th>\n",
       "    </tr>\n",
       "  </thead>\n",
       "  <tbody>\n",
       "    <tr>\n",
       "      <th>Log returns</th>\n",
       "      <td>8871.0</td>\n",
       "      <td>0.0003</td>\n",
       "      <td>0.0099</td>\n",
       "      <td>-0.1134</td>\n",
       "      <td>-0.0046</td>\n",
       "      <td>0.0005</td>\n",
       "      <td>0.0055</td>\n",
       "      <td>0.0876</td>\n",
       "    </tr>\n",
       "  </tbody>\n",
       "</table>\n",
       "</div>"
      ],
      "text/plain": [
       "              count    mean     std     min     25%     50%     75%     max\n",
       "Log returns  8871.0  0.0003  0.0099 -0.1134 -0.0046  0.0005  0.0055  0.0876"
      ]
     },
     "metadata": {},
     "output_type": "display_data"
    },
    {
     "name": "stdout",
     "output_type": "stream",
     "text": [
      "Skewness =  -0.2768\n",
      "Excess Kurtosis =  8.0464\n",
      "----------------------------------------\n",
      "Out of sample \n",
      "\n"
     ]
    },
    {
     "data": {
      "text/html": [
       "<div>\n",
       "<style scoped>\n",
       "    .dataframe tbody tr th:only-of-type {\n",
       "        vertical-align: middle;\n",
       "    }\n",
       "\n",
       "    .dataframe tbody tr th {\n",
       "        vertical-align: top;\n",
       "    }\n",
       "\n",
       "    .dataframe thead th {\n",
       "        text-align: right;\n",
       "    }\n",
       "</style>\n",
       "<table border=\"1\" class=\"dataframe\">\n",
       "  <thead>\n",
       "    <tr style=\"text-align: right;\">\n",
       "      <th></th>\n",
       "      <th>count</th>\n",
       "      <th>mean</th>\n",
       "      <th>std</th>\n",
       "      <th>min</th>\n",
       "      <th>25%</th>\n",
       "      <th>50%</th>\n",
       "      <th>75%</th>\n",
       "      <th>max</th>\n",
       "    </tr>\n",
       "  </thead>\n",
       "  <tbody>\n",
       "    <tr>\n",
       "      <th>Log returns</th>\n",
       "      <td>1838.0</td>\n",
       "      <td>0.0003</td>\n",
       "      <td>0.0103</td>\n",
       "      <td>-0.1069</td>\n",
       "      <td>-0.0037</td>\n",
       "      <td>0.0007</td>\n",
       "      <td>0.0052</td>\n",
       "      <td>0.083</td>\n",
       "    </tr>\n",
       "  </tbody>\n",
       "</table>\n",
       "</div>"
      ],
      "text/plain": [
       "              count    mean     std     min     25%     50%     75%    max\n",
       "Log returns  1838.0  0.0003  0.0103 -0.1069 -0.0037  0.0007  0.0052  0.083"
      ]
     },
     "metadata": {},
     "output_type": "display_data"
    },
    {
     "name": "stdout",
     "output_type": "stream",
     "text": [
      "Skewness =  -1.2470\n",
      "Excess Kurtosis =  18.6644\n"
     ]
    }
   ],
   "source": [
    "# Summary statistics of train and test data\n",
    "printf(\"Train/Total OBS ratio = \", len(x_train)/len(x_all) , pct=True)\n",
    "\n",
    "for data,sample in zip([x_train, x_test],[\"In-sample\", \"Out of sample\"]):\n",
    "    print(\"-\"*40)\n",
    "    print(sample,\"\\n\")\n",
    "    display(pd.DataFrame(data.describe(include='all')).T.round(4))\n",
    "\n",
    "    printf(\"Skewness = \", stats.skew(data.round(4))[0])\n",
    "    printf(\"Excess Kurtosis = \", stats.kurtosis(data)[0])"
   ]
  },
  {
   "cell_type": "code",
   "execution_count": 11,
   "metadata": {},
   "outputs": [
    {
     "data": {
      "text/plain": [
       "0.08760270641696177"
      ]
     },
     "execution_count": 11,
     "metadata": {},
     "output_type": "execute_result"
    }
   ],
   "source": [
    "np.max(df_MSCI['Log returns'].loc[start_train_dt:end_train_dt]) #Test function for the statistics above, out of sample"
   ]
  },
  {
   "cell_type": "markdown",
   "metadata": {},
   "source": [
    "#### Overview of log returns"
   ]
  },
  {
   "cell_type": "code",
   "execution_count": 12,
   "metadata": {},
   "outputs": [
    {
     "data": {
      "image/png": "[encoded data removed]",
      "text/plain": [
       "<Figure size 1080x504 with 1 Axes>"
      ]
     },
     "metadata": {
      "needs_background": "light"
     },
     "output_type": "display_data"
    }
   ],
   "source": [
    "fig, ax1 = plt.subplots(figsize=(15,7))\n",
    "ax1.plot(x_all)\n",
    "ax1.set_ylabel('log $r_t$')\n",
    "plt.xlim(start_train_dt, end_test_dt)\n",
    "plt.savefig('Log returns')"
   ]
  },
  {
   "cell_type": "markdown",
   "metadata": {},
   "source": [
    "### ACF and ACF^2 - Absence of Linear Autocorrelation and Volatility clustering\n"
   ]
  },
  {
   "cell_type": "code",
   "execution_count": 23,
   "metadata": {},
   "outputs": [],
   "source": [
    "#### Compute ACF for train set:\n",
    "n_lags = 100\n",
    "lags = [i for i in range(n_lags)]\n",
    "acf = sm.tsa.acf(x_train,nlags = n_lags)[1:]  #The 1: excludes the first observation which obviouslyh is 1.\n",
    "\n",
    "#### Compute ACF2\n",
    "acf_squared = sm.tsa.acf(x_train**2, nlags=n_lags)[1:]"
   ]
  },
  {
   "cell_type": "code",
   "execution_count": 58,
   "metadata": {},
   "outputs": [
    {
     "data": {
      "text/plain": [
       "0.0024749739479668566"
      ]
     },
     "execution_count": 58,
     "metadata": {},
     "output_type": "execute_result"
    }
   ],
   "source": [
    "np.mean(acf)"
   ]
  },
  {
   "cell_type": "code",
   "execution_count": 59,
   "metadata": {},
   "outputs": [],
   "source": [
    "#### Confidence interval for ACF\n",
    "acf_conf = [1.96  / np.sqrt(len(x_train)), -1.96 / np.sqrt(len(x_train))]\n",
    "\n",
    "#### Confidence interval for ACF^2\n",
    "acf_squared_conf = [1.96 / np.sqrt(len(x_train**2)), - 1.96 / np.sqrt(len(x_train**2))]"
   ]
  },
  {
   "cell_type": "code",
   "execution_count": 60,
   "metadata": {},
   "outputs": [
    {
     "data": {
      "image/png": "[encoded data removed]",
      "text/plain": [
       "<Figure size 1080x504 with 2 Axes>"
      ]
     },
     "metadata": {
      "needs_background": "light"
     },
     "output_type": "display_data"
    }
   ],
   "source": [
    "# Create a 2x1 grid to plot in:\n",
    "fig, (ax1, ax2) = plt.subplots(2,1,figsize=(15,7))\n",
    "plt.subplots_adjust(wspace = 0.2, hspace=0.5)\n",
    "\n",
    "#Plot ACF & PACF\n",
    "labels = [\"ACF(log $r_t)$\",\"ACF(log $r^2_t$)\"]\n",
    "variables = [acf, acf_squared]\n",
    "confidence = [acf_conf, acf_squared_conf]\n",
    "\n",
    "for (ax, labels, var, conf) in zip([ax1, ax2], labels, variables, confidence):\n",
    "    ax.bar(lags, var, color=\"b\", alpha=0.4)\n",
    "    ax.axhline(conf[0], linestyle = 'dashed', color = 'black')\n",
    "    ax.axhline(conf[1], linestyle = 'dashed', color = 'black')\n",
    "    ax.set_ylabel(labels)\n",
    "    ax.set_xlabel(\"Lag\")\n",
    "    ax.set_xlim(left=-0.5, right = max(lags)+1)\n",
    "    \n",
    "ax2.set_ylim(bottom=0)\n",
    "plt.savefig(\"ACF\")\n"
   ]
  },
  {
   "cell_type": "code",
   "execution_count": null,
   "metadata": {},
   "outputs": [],
   "source": []
  }
 ],
 "metadata": {
  "kernelspec": {
   "display_name": "Python 3",
   "language": "python",
   "name": "python3"
  },
  "language_info": {
   "codemirror_mode": {
    "name": "ipython",
    "version": 3
   },
   "file_extension": ".py",
   "mimetype": "text/x-python",
   "name": "python",
   "nbconvert_exporter": "python",
   "pygments_lexer": "ipython3",
   "version": "3.8.5"
  }
 },
 "nbformat": 4,
 "nbformat_minor": 1
}