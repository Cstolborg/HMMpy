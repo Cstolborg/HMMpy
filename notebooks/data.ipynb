{
 "cells": [
  {
   "cell_type": "code",
   "execution_count": 342,
   "metadata": {},
   "outputs": [],
   "source": [
    "import pandas as pd; pd.set_option('precision',4)\n",
    "pd.options.mode.chained_assignment = None  # default='warn'\n",
    "import numpy as np; np.set_printoptions(precision=4,suppress = True)\n",
    "import matplotlib.pyplot as plt\n",
    "import seaborn as sns\n",
    "from scipy import stats\n",
    "import statsmodels.api as sm\n",
    "from statsmodels.graphics.tsaplots import plot_acf, plot_pacf, acf, pacf\n",
    "import matplotlib.gridspec as gridspec\n",
    "from datetime import datetime\n",
    "\n",
    "fontsize = 15 # Set fontsize for all figures\n",
    "plt.rc('font', size=fontsize)          # controls default text sizes\n",
    "plt.rc('axes', titlesize=fontsize)     # fontsize of the axes title\n",
    "plt.rc('axes', labelsize=fontsize)    # fontsize of the x and y labels\n",
    "plt.rc('xtick', labelsize=fontsize)    # fontsize of the tick labels\n",
    "plt.rc('ytick', labelsize=fontsize)    # fontsize of the tick labels\n",
    "plt.rc('legend', fontsize=fontsize)    # legend fontsize\n",
    "plt.rc('figure', titlesize=fontsize)  # fontsize of the figure title\n",
    "\n",
    "\n",
    "# StandardScale all x-variables - improves performance and robustness of fitted models\n",
    "from sklearn.preprocessing import StandardScaler\n",
    "\n",
    "# All subsets need their own scaler in order to call the inverse_transform method\n",
    "scaler_train = StandardScaler()\n",
    "scaler_test = StandardScaler()\n",
    "scaler_all = StandardScaler()\n",
    "\n",
    "\n",
    "def printf(text, value, pct=False):\n",
    "    if pct == True:\n",
    "        print(text, f\"{value*100:.4f}%\")\n",
    "    else:\n",
    "        print(text, f\"{value:.4f}\")"
   ]
  },
  {
   "cell_type": "code",
   "execution_count": 343,
   "metadata": {},
   "outputs": [
    {
     "name": "stdout",
     "output_type": "stream",
     "text": [
      "/home/math/PycharmProjects/hmm-master\n"
     ]
    }
   ],
   "source": [
    "import os \n",
    "cwd = os.getcwd()\n",
    "print(os.getcwd())\n",
    "os.chdir('/home/math/PycharmProjects/hmm-master')"
   ]
  },
  {
   "cell_type": "code",
   "execution_count": 344,
   "metadata": {
    "pycharm": {
     "name": "#%%\n"
    }
   },
   "outputs": [
    {
     "data": {
      "text/html": [
       "<div>\n",
       "<style scoped>\n",
       "    .dataframe tbody tr th:only-of-type {\n",
       "        vertical-align: middle;\n",
       "    }\n",
       "\n",
       "    .dataframe tbody tr th {\n",
       "        vertical-align: top;\n",
       "    }\n",
       "\n",
       "    .dataframe thead th {\n",
       "        text-align: right;\n",
       "    }\n",
       "</style>\n",
       "<table border=\"1\" class=\"dataframe\">\n",
       "  <thead>\n",
       "    <tr style=\"text-align: right;\">\n",
       "      <th></th>\n",
       "      <th>MSCI World</th>\n",
       "      <th>Index prices</th>\n",
       "    </tr>\n",
       "    <tr>\n",
       "      <th>Time / Name</th>\n",
       "      <th></th>\n",
       "      <th></th>\n",
       "    </tr>\n",
       "  </thead>\n",
       "  <tbody>\n",
       "    <tr>\n",
       "      <th>1980-01-01</th>\n",
       "      <td>7.0217</td>\n",
       "      <td>100.0000</td>\n",
       "    </tr>\n",
       "    <tr>\n",
       "      <th>1980-01-02</th>\n",
       "      <td>6.9258</td>\n",
       "      <td>98.6337</td>\n",
       "    </tr>\n",
       "    <tr>\n",
       "      <th>1980-01-03</th>\n",
       "      <td>6.9075</td>\n",
       "      <td>98.3727</td>\n",
       "    </tr>\n",
       "    <tr>\n",
       "      <th>1980-01-04</th>\n",
       "      <td>6.9630</td>\n",
       "      <td>99.1631</td>\n",
       "    </tr>\n",
       "    <tr>\n",
       "      <th>1980-01-07</th>\n",
       "      <td>6.9889</td>\n",
       "      <td>99.5330</td>\n",
       "    </tr>\n",
       "  </tbody>\n",
       "</table>\n",
       "</div>"
      ],
      "text/plain": [
       "             MSCI World  Index prices\n",
       "Time / Name                          \n",
       "1980-01-01       7.0217      100.0000\n",
       "1980-01-02       6.9258       98.6337\n",
       "1980-01-03       6.9075       98.3727\n",
       "1980-01-04       6.9630       99.1631\n",
       "1980-01-07       6.9889       99.5330"
      ]
     },
     "execution_count": 344,
     "metadata": {},
     "output_type": "execute_result"
    }
   ],
   "source": [
    "df = pd.read_excel('data/Adjusted Close Price Series Load.xlsx', header = 2, index_col = 'Time / Name')\n",
    "df_MSCI = df[['MSCI World']]\n",
    "df_MSCI['Index prices'] = df['MSCI World'] / df.iloc[0, 1] * 100\n",
    "df_MSCI.head()"
   ]
  },
  {
   "cell_type": "code",
   "execution_count": 345,
   "metadata": {},
   "outputs": [
    {
     "data": {
      "text/html": [
       "<div>\n",
       "<style scoped>\n",
       "    .dataframe tbody tr th:only-of-type {\n",
       "        vertical-align: middle;\n",
       "    }\n",
       "\n",
       "    .dataframe tbody tr th {\n",
       "        vertical-align: top;\n",
       "    }\n",
       "\n",
       "    .dataframe thead th {\n",
       "        text-align: right;\n",
       "    }\n",
       "</style>\n",
       "<table border=\"1\" class=\"dataframe\">\n",
       "  <thead>\n",
       "    <tr style=\"text-align: right;\">\n",
       "      <th></th>\n",
       "      <th>MSCI World</th>\n",
       "      <th>Index prices</th>\n",
       "      <th>Returns</th>\n",
       "      <th>Log returns</th>\n",
       "    </tr>\n",
       "    <tr>\n",
       "      <th>Time / Name</th>\n",
       "      <th></th>\n",
       "      <th></th>\n",
       "      <th></th>\n",
       "      <th></th>\n",
       "    </tr>\n",
       "  </thead>\n",
       "  <tbody>\n",
       "    <tr>\n",
       "      <th>1980-01-01</th>\n",
       "      <td>7.0217</td>\n",
       "      <td>100.0000</td>\n",
       "      <td>NaN</td>\n",
       "      <td>NaN</td>\n",
       "    </tr>\n",
       "    <tr>\n",
       "      <th>1980-01-02</th>\n",
       "      <td>6.9258</td>\n",
       "      <td>98.6337</td>\n",
       "      <td>-0.0137</td>\n",
       "      <td>-0.0138</td>\n",
       "    </tr>\n",
       "    <tr>\n",
       "      <th>1980-01-03</th>\n",
       "      <td>6.9075</td>\n",
       "      <td>98.3727</td>\n",
       "      <td>-0.0026</td>\n",
       "      <td>-0.0027</td>\n",
       "    </tr>\n",
       "    <tr>\n",
       "      <th>1980-01-04</th>\n",
       "      <td>6.9630</td>\n",
       "      <td>99.1631</td>\n",
       "      <td>0.0080</td>\n",
       "      <td>0.0080</td>\n",
       "    </tr>\n",
       "    <tr>\n",
       "      <th>1980-01-07</th>\n",
       "      <td>6.9889</td>\n",
       "      <td>99.5330</td>\n",
       "      <td>0.0037</td>\n",
       "      <td>0.0037</td>\n",
       "    </tr>\n",
       "    <tr>\n",
       "      <th>...</th>\n",
       "      <td>...</td>\n",
       "      <td>...</td>\n",
       "      <td>...</td>\n",
       "      <td>...</td>\n",
       "    </tr>\n",
       "    <tr>\n",
       "      <th>2021-01-19</th>\n",
       "      <td>167.7060</td>\n",
       "      <td>2388.3908</td>\n",
       "      <td>0.0033</td>\n",
       "      <td>0.0033</td>\n",
       "    </tr>\n",
       "    <tr>\n",
       "      <th>2021-01-20</th>\n",
       "      <td>169.6573</td>\n",
       "      <td>2416.1799</td>\n",
       "      <td>0.0116</td>\n",
       "      <td>0.0116</td>\n",
       "    </tr>\n",
       "    <tr>\n",
       "      <th>2021-01-21</th>\n",
       "      <td>169.3605</td>\n",
       "      <td>2411.9531</td>\n",
       "      <td>-0.0017</td>\n",
       "      <td>-0.0018</td>\n",
       "    </tr>\n",
       "    <tr>\n",
       "      <th>2021-01-22</th>\n",
       "      <td>168.4895</td>\n",
       "      <td>2399.5488</td>\n",
       "      <td>-0.0051</td>\n",
       "      <td>-0.0052</td>\n",
       "    </tr>\n",
       "    <tr>\n",
       "      <th>2021-01-25</th>\n",
       "      <td>168.8636</td>\n",
       "      <td>2404.8768</td>\n",
       "      <td>0.0022</td>\n",
       "      <td>0.0022</td>\n",
       "    </tr>\n",
       "  </tbody>\n",
       "</table>\n",
       "<p>10715 rows × 4 columns</p>\n",
       "</div>"
      ],
      "text/plain": [
       "             MSCI World  Index prices  Returns  Log returns\n",
       "Time / Name                                                \n",
       "1980-01-01       7.0217      100.0000      NaN          NaN\n",
       "1980-01-02       6.9258       98.6337  -0.0137      -0.0138\n",
       "1980-01-03       6.9075       98.3727  -0.0026      -0.0027\n",
       "1980-01-04       6.9630       99.1631   0.0080       0.0080\n",
       "1980-01-07       6.9889       99.5330   0.0037       0.0037\n",
       "...                 ...           ...      ...          ...\n",
       "2021-01-19     167.7060     2388.3908   0.0033       0.0033\n",
       "2021-01-20     169.6573     2416.1799   0.0116       0.0116\n",
       "2021-01-21     169.3605     2411.9531  -0.0017      -0.0018\n",
       "2021-01-22     168.4895     2399.5488  -0.0051      -0.0052\n",
       "2021-01-25     168.8636     2404.8768   0.0022       0.0022\n",
       "\n",
       "[10715 rows x 4 columns]"
      ]
     },
     "execution_count": 345,
     "metadata": {},
     "output_type": "execute_result"
    }
   ],
   "source": [
    "df_MSCI['Returns'] = df_MSCI['Index prices'].pct_change()\n",
    "df_MSCI['Log returns'] = np.log(df_MSCI['Index prices']) - np.log(df_MSCI['Index prices'].shift(1))\n",
    "#df_MSCI.dropna(inplace=True)\n",
    "df_MSCI"
   ]
  },
  {
   "cell_type": "markdown",
   "metadata": {},
   "source": [
    "### Train and Test period"
   ]
  },
  {
   "cell_type": "code",
   "execution_count": 346,
   "metadata": {},
   "outputs": [],
   "source": [
    "#start_train = '1980-01-01'\n",
    "#end_train = '2014-01-01'\n",
    "\n",
    "#start_test = '2014-01-02'\n",
    "#end_test = '2021-01-25'\n",
    "\n",
    "# Get train and test as datetimes - used for plotting\n",
    "start_train_dt = datetime.strptime(start_train, '%Y-%m-%d')\n",
    "end_train_dt = datetime.strptime(end_train, '%Y-%m-%d')\n",
    "start_test_dt = datetime.strptime(start_test, '%Y-%m-%d')\n",
    "end_test_dt = datetime.strptime(end_test, '%Y-%m-%d')\n",
    "\n",
    "df = df.loc[start_train:end_test]"
   ]
  },
  {
   "cell_type": "code",
   "execution_count": 347,
   "metadata": {},
   "outputs": [],
   "source": [
    "#Get train & test sets - keep as Dataframe as oppossed to pandas series.\n",
    "#x_train = pd.DataFrame(df_MSCI.loc[start_train:end_train, 'Log returns'])\n",
    "#x_test = pd.DataFrame(df_MSCI.loc[start_test:end_test, 'Log returns'])\n",
    "#x_all = pd.DataFrame(df_MSCI.loc[start_train:end_test, 'Log returns'])"
   ]
  },
  {
   "cell_type": "code",
   "execution_count": 348,
   "metadata": {},
   "outputs": [],
   "source": [
    "##Scale train & test sets\n",
    "#x_train_scaled = pd.DataFrame(scaler_train.fit_transform(x_train),\n",
    " #            columns = [\"Log returns\"],\n",
    "  #           index=x_train.index)\n",
    "#x_test_scaled = pd.DataFrame(scaler_test.fit_transform(x_test), columns =['Log returns'], index = x_test.index)\n",
    "\n",
    "#x_all_scaled = pd.DataFrame(scaler_all.fit_transform(x_all), columns = ['Log returns'], index = x_all.index)"
   ]
  },
  {
   "cell_type": "code",
   "execution_count": 349,
   "metadata": {},
   "outputs": [],
   "source": [
    "#Set variable for index prices and set index 100 to first obs - only used for plotting\n",
    "prices = df.loc[:,\"MSCI World\"] / df.iloc[0][\"MSCI World\"] * 100\n",
    "df_MSCI['Index prices'] = df.loc[:,\"MSCI World\"] / df.iloc[0][\"MSCI World\"] * 100"
   ]
  },
  {
   "cell_type": "markdown",
   "metadata": {},
   "source": [
    "### Data Exploration"
   ]
  },
  {
   "cell_type": "markdown",
   "metadata": {},
   "source": [
    "#### Overview of time series\n"
   ]
  },
  {
   "cell_type": "code",
   "execution_count": 350,
   "metadata": {},
   "outputs": [
    {
     "data": {
      "text/html": [
       "<div>\n",
       "<style scoped>\n",
       "    .dataframe tbody tr th:only-of-type {\n",
       "        vertical-align: middle;\n",
       "    }\n",
       "\n",
       "    .dataframe tbody tr th {\n",
       "        vertical-align: top;\n",
       "    }\n",
       "\n",
       "    .dataframe thead th {\n",
       "        text-align: right;\n",
       "    }\n",
       "</style>\n",
       "<table border=\"1\" class=\"dataframe\">\n",
       "  <thead>\n",
       "    <tr style=\"text-align: right;\">\n",
       "      <th></th>\n",
       "      <th>MSCI World</th>\n",
       "      <th>Index prices</th>\n",
       "      <th>Returns</th>\n",
       "      <th>Log returns</th>\n",
       "    </tr>\n",
       "    <tr>\n",
       "      <th>Time / Name</th>\n",
       "      <th></th>\n",
       "      <th></th>\n",
       "      <th></th>\n",
       "      <th></th>\n",
       "    </tr>\n",
       "  </thead>\n",
       "  <tbody>\n",
       "    <tr>\n",
       "      <th>1980-01-01</th>\n",
       "      <td>7.0217</td>\n",
       "      <td>100.0000</td>\n",
       "      <td>NaN</td>\n",
       "      <td>NaN</td>\n",
       "    </tr>\n",
       "    <tr>\n",
       "      <th>1980-01-02</th>\n",
       "      <td>6.9258</td>\n",
       "      <td>98.6337</td>\n",
       "      <td>-0.0137</td>\n",
       "      <td>-0.0138</td>\n",
       "    </tr>\n",
       "    <tr>\n",
       "      <th>1980-01-03</th>\n",
       "      <td>6.9075</td>\n",
       "      <td>98.3727</td>\n",
       "      <td>-0.0026</td>\n",
       "      <td>-0.0027</td>\n",
       "    </tr>\n",
       "    <tr>\n",
       "      <th>1980-01-04</th>\n",
       "      <td>6.9630</td>\n",
       "      <td>99.1631</td>\n",
       "      <td>0.0080</td>\n",
       "      <td>0.0080</td>\n",
       "    </tr>\n",
       "    <tr>\n",
       "      <th>1980-01-07</th>\n",
       "      <td>6.9889</td>\n",
       "      <td>99.5330</td>\n",
       "      <td>0.0037</td>\n",
       "      <td>0.0037</td>\n",
       "    </tr>\n",
       "    <tr>\n",
       "      <th>...</th>\n",
       "      <td>...</td>\n",
       "      <td>...</td>\n",
       "      <td>...</td>\n",
       "      <td>...</td>\n",
       "    </tr>\n",
       "    <tr>\n",
       "      <th>2021-01-19</th>\n",
       "      <td>167.7060</td>\n",
       "      <td>2388.3908</td>\n",
       "      <td>0.0033</td>\n",
       "      <td>0.0033</td>\n",
       "    </tr>\n",
       "    <tr>\n",
       "      <th>2021-01-20</th>\n",
       "      <td>169.6573</td>\n",
       "      <td>2416.1799</td>\n",
       "      <td>0.0116</td>\n",
       "      <td>0.0116</td>\n",
       "    </tr>\n",
       "    <tr>\n",
       "      <th>2021-01-21</th>\n",
       "      <td>169.3605</td>\n",
       "      <td>2411.9531</td>\n",
       "      <td>-0.0017</td>\n",
       "      <td>-0.0018</td>\n",
       "    </tr>\n",
       "    <tr>\n",
       "      <th>2021-01-22</th>\n",
       "      <td>168.4895</td>\n",
       "      <td>2399.5488</td>\n",
       "      <td>-0.0051</td>\n",
       "      <td>-0.0052</td>\n",
       "    </tr>\n",
       "    <tr>\n",
       "      <th>2021-01-25</th>\n",
       "      <td>168.8636</td>\n",
       "      <td>2404.8768</td>\n",
       "      <td>0.0022</td>\n",
       "      <td>0.0022</td>\n",
       "    </tr>\n",
       "  </tbody>\n",
       "</table>\n",
       "<p>10715 rows × 4 columns</p>\n",
       "</div>"
      ],
      "text/plain": [
       "             MSCI World  Index prices  Returns  Log returns\n",
       "Time / Name                                                \n",
       "1980-01-01       7.0217      100.0000      NaN          NaN\n",
       "1980-01-02       6.9258       98.6337  -0.0137      -0.0138\n",
       "1980-01-03       6.9075       98.3727  -0.0026      -0.0027\n",
       "1980-01-04       6.9630       99.1631   0.0080       0.0080\n",
       "1980-01-07       6.9889       99.5330   0.0037       0.0037\n",
       "...                 ...           ...      ...          ...\n",
       "2021-01-19     167.7060     2388.3908   0.0033       0.0033\n",
       "2021-01-20     169.6573     2416.1799   0.0116       0.0116\n",
       "2021-01-21     169.3605     2411.9531  -0.0017      -0.0018\n",
       "2021-01-22     168.4895     2399.5488  -0.0051      -0.0052\n",
       "2021-01-25     168.8636     2404.8768   0.0022       0.0022\n",
       "\n",
       "[10715 rows x 4 columns]"
      ]
     },
     "execution_count": 350,
     "metadata": {},
     "output_type": "execute_result"
    }
   ],
   "source": [
    "df_MSCI"
   ]
  },
  {
   "cell_type": "code",
   "execution_count": 351,
   "metadata": {
    "scrolled": false
   },
   "outputs": [
    {
     "data": {
      "image/png": "[encoded data removed]",
      "text/plain": [
       "<Figure size 1080x504 with 2 Axes>"
      ]
     },
     "metadata": {
      "needs_background": "light"
     },
     "output_type": "display_data"
    }
   ],
   "source": [
    "def plot_test_area(ax):\n",
    "    #Set grey background for in-sample data\n",
    "    ax.axvspan(start_train_dt, end_train_dt, alpha=0.5, color='white')\n",
    "    ax.axvspan(start_test_dt, end_test_dt, alpha=0.5, color='grey', label = \"Out of sample\")\n",
    "\n",
    "    \n",
    "#### Plot Index and Log Returns\n",
    "\n",
    "# Create a 2x1 grid to plot in:\n",
    "fig, (ax1, ax2) = plt.subplots(2,1,figsize=(15,7), sharex=True)\n",
    "plt.subplots_adjust(wspace = 0.2, hspace=0.1)\n",
    "labels = [\"Index Prices\",\" log $r_t$\"]\n",
    "variables = [df_MSCI['Index prices'], df_MSCI['Log returns']]\n",
    "    \n",
    "for (ax, labels, var) in zip([ax1, ax2], labels, variables):\n",
    "    ax.plot(df_MSCI.index.values, var, color=\"b\", alpha=0.4)\n",
    "    ax.set_ylabel(labels)\n",
    "    ax2.set_xlabel(\"Time\")\n",
    "    ax.set_xlim(start_train_dt, end_test_dt)\n",
    "    ax1.set_ylim(0,2700)\n",
    "    \n",
    "#ax2.set_ylim(bottom=-0.15)\n",
    "plt.savefig(\"Index and return\")\n",
    "\n",
    "    \n",
    "#fig, ax = plt.subplots(figsize=(15,5))\n",
    "\n",
    "#plt.plot(prices)\n",
    "#plt.ylabel('Index Prices')\n",
    "#plt.xlim(start_train_dt, end_test_dt)\n",
    "#plt.grid()\n",
    "#plt.tight_layout()\n",
    "#plt.savefig(\"MSCI World\")"
   ]
  },
  {
   "cell_type": "code",
   "execution_count": 364,
   "metadata": {},
   "outputs": [
    {
     "data": {
      "text/html": [
       "<div>\n",
       "<style scoped>\n",
       "    .dataframe tbody tr th:only-of-type {\n",
       "        vertical-align: middle;\n",
       "    }\n",
       "\n",
       "    .dataframe tbody tr th {\n",
       "        vertical-align: top;\n",
       "    }\n",
       "\n",
       "    .dataframe thead th {\n",
       "        text-align: right;\n",
       "    }\n",
       "</style>\n",
       "<table border=\"1\" class=\"dataframe\">\n",
       "  <thead>\n",
       "    <tr style=\"text-align: right;\">\n",
       "      <th></th>\n",
       "      <th>MSCI World</th>\n",
       "      <th>Index prices</th>\n",
       "      <th>Returns</th>\n",
       "      <th>Log returns</th>\n",
       "    </tr>\n",
       "    <tr>\n",
       "      <th>Time / Name</th>\n",
       "      <th></th>\n",
       "      <th></th>\n",
       "      <th></th>\n",
       "      <th></th>\n",
       "    </tr>\n",
       "  </thead>\n",
       "  <tbody>\n",
       "    <tr>\n",
       "      <th>1980-01-01</th>\n",
       "      <td>7.0217</td>\n",
       "      <td>100.0000</td>\n",
       "      <td>NaN</td>\n",
       "      <td>NaN</td>\n",
       "    </tr>\n",
       "    <tr>\n",
       "      <th>1980-01-02</th>\n",
       "      <td>6.9258</td>\n",
       "      <td>98.6337</td>\n",
       "      <td>-0.0137</td>\n",
       "      <td>-0.0138</td>\n",
       "    </tr>\n",
       "    <tr>\n",
       "      <th>1980-01-03</th>\n",
       "      <td>6.9075</td>\n",
       "      <td>98.3727</td>\n",
       "      <td>-0.0026</td>\n",
       "      <td>-0.0027</td>\n",
       "    </tr>\n",
       "    <tr>\n",
       "      <th>1980-01-04</th>\n",
       "      <td>6.9630</td>\n",
       "      <td>99.1631</td>\n",
       "      <td>0.0080</td>\n",
       "      <td>0.0080</td>\n",
       "    </tr>\n",
       "    <tr>\n",
       "      <th>1980-01-07</th>\n",
       "      <td>6.9889</td>\n",
       "      <td>99.5330</td>\n",
       "      <td>0.0037</td>\n",
       "      <td>0.0037</td>\n",
       "    </tr>\n",
       "    <tr>\n",
       "      <th>...</th>\n",
       "      <td>...</td>\n",
       "      <td>...</td>\n",
       "      <td>...</td>\n",
       "      <td>...</td>\n",
       "    </tr>\n",
       "    <tr>\n",
       "      <th>2021-01-19</th>\n",
       "      <td>167.7060</td>\n",
       "      <td>2388.3908</td>\n",
       "      <td>0.0033</td>\n",
       "      <td>0.0033</td>\n",
       "    </tr>\n",
       "    <tr>\n",
       "      <th>2021-01-20</th>\n",
       "      <td>169.6573</td>\n",
       "      <td>2416.1799</td>\n",
       "      <td>0.0116</td>\n",
       "      <td>0.0116</td>\n",
       "    </tr>\n",
       "    <tr>\n",
       "      <th>2021-01-21</th>\n",
       "      <td>169.3605</td>\n",
       "      <td>2411.9531</td>\n",
       "      <td>-0.0017</td>\n",
       "      <td>-0.0018</td>\n",
       "    </tr>\n",
       "    <tr>\n",
       "      <th>2021-01-22</th>\n",
       "      <td>168.4895</td>\n",
       "      <td>2399.5488</td>\n",
       "      <td>-0.0051</td>\n",
       "      <td>-0.0052</td>\n",
       "    </tr>\n",
       "    <tr>\n",
       "      <th>2021-01-25</th>\n",
       "      <td>168.8636</td>\n",
       "      <td>2404.8768</td>\n",
       "      <td>0.0022</td>\n",
       "      <td>0.0022</td>\n",
       "    </tr>\n",
       "  </tbody>\n",
       "</table>\n",
       "<p>10715 rows × 4 columns</p>\n",
       "</div>"
      ],
      "text/plain": [
       "             MSCI World  Index prices  Returns  Log returns\n",
       "Time / Name                                                \n",
       "1980-01-01       7.0217      100.0000      NaN          NaN\n",
       "1980-01-02       6.9258       98.6337  -0.0137      -0.0138\n",
       "1980-01-03       6.9075       98.3727  -0.0026      -0.0027\n",
       "1980-01-04       6.9630       99.1631   0.0080       0.0080\n",
       "1980-01-07       6.9889       99.5330   0.0037       0.0037\n",
       "...                 ...           ...      ...          ...\n",
       "2021-01-19     167.7060     2388.3908   0.0033       0.0033\n",
       "2021-01-20     169.6573     2416.1799   0.0116       0.0116\n",
       "2021-01-21     169.3605     2411.9531  -0.0017      -0.0018\n",
       "2021-01-22     168.4895     2399.5488  -0.0051      -0.0052\n",
       "2021-01-25     168.8636     2404.8768   0.0022       0.0022\n",
       "\n",
       "[10715 rows x 4 columns]"
      ]
     },
     "execution_count": 364,
     "metadata": {},
     "output_type": "execute_result"
    }
   ],
   "source": [
    "df_MSCI"
   ]
  },
  {
   "cell_type": "code",
   "execution_count": 355,
   "metadata": {},
   "outputs": [
    {
     "data": {
      "text/html": [
       "<div>\n",
       "<style scoped>\n",
       "    .dataframe tbody tr th:only-of-type {\n",
       "        vertical-align: middle;\n",
       "    }\n",
       "\n",
       "    .dataframe tbody tr th {\n",
       "        vertical-align: top;\n",
       "    }\n",
       "\n",
       "    .dataframe thead th {\n",
       "        text-align: right;\n",
       "    }\n",
       "</style>\n",
       "<table border=\"1\" class=\"dataframe\">\n",
       "  <thead>\n",
       "    <tr style=\"text-align: right;\">\n",
       "      <th></th>\n",
       "      <th>count</th>\n",
       "      <th>mean</th>\n",
       "      <th>std</th>\n",
       "      <th>min</th>\n",
       "      <th>25%</th>\n",
       "      <th>50%</th>\n",
       "      <th>75%</th>\n",
       "      <th>max</th>\n",
       "    </tr>\n",
       "  </thead>\n",
       "  <tbody>\n",
       "    <tr>\n",
       "      <th>Log returns</th>\n",
       "      <td>10714.0</td>\n",
       "      <td>0.0003</td>\n",
       "      <td>0.01</td>\n",
       "      <td>-0.1134</td>\n",
       "      <td>-0.0045</td>\n",
       "      <td>0.0006</td>\n",
       "      <td>0.0055</td>\n",
       "      <td>0.0876</td>\n",
       "    </tr>\n",
       "  </tbody>\n",
       "</table>\n",
       "</div>"
      ],
      "text/plain": [
       "               count    mean   std     min     25%     50%     75%     max\n",
       "Log returns  10714.0  0.0003  0.01 -0.1134 -0.0045  0.0006  0.0055  0.0876"
      ]
     },
     "metadata": {},
     "output_type": "display_data"
    },
    {
     "name": "stdout",
     "output_type": "stream",
     "text": [
      "Skewness =  -1.2477\n",
      "Excess Kurtosis =  18.6880\n"
     ]
    }
   ],
   "source": [
    "# Summary statistics log returns\n",
    "\n",
    "display(pd.DataFrame(df_MSCI['Log returns'].describe(include='all')).T.round(4))\n",
    "\n",
    "printf(\"Skewness = \", stats.skew(data.dropna().round(4))[0])\n",
    "printf(\"Excess Kurtosis = \", stats.kurtosis(data.dropna())[0])"
   ]
  },
  {
   "cell_type": "code",
   "execution_count": 360,
   "metadata": {},
   "outputs": [
    {
     "data": {
      "text/plain": [
       "0.08760270641696177"
      ]
     },
     "execution_count": 360,
     "metadata": {},
     "output_type": "execute_result"
    }
   ],
   "source": [
    "np.max(df_MSCI['Log returns'].loc[start_train_dt:end_train_dt]) #Test function for the statistics above, out of sample"
   ]
  },
  {
   "cell_type": "markdown",
   "metadata": {},
   "source": [
    "### ACF and ACF^2 - Absence of Linear Autocorrelation and Volatility clustering\n"
   ]
  },
  {
   "cell_type": "code",
   "execution_count": 379,
   "metadata": {},
   "outputs": [],
   "source": [
    "#### Compute ACF for train set:\n",
    "n_lags = 100\n",
    "lags = [i for i in range(n_lags)]\n",
    "acf = sm.tsa.acf(df_MSCI['Log returns'].dropna(),nlags = n_lags)[1:] #The 1: excludes the first observation which obviouslyh is 1.\n",
    "\n",
    "#### Compute ACF2\n",
    "acf_abs = sm.tsa.acf(df_nlags=n_lags)[1:]"
   ]
  },
  {
   "cell_type": "code",
   "execution_count": 380,
   "metadata": {},
   "outputs": [
    {
     "data": {
      "text/plain": [
       "array([ 0.0305,  0.0065, -0.0024,  0.0003, -0.0003, -0.0515,  0.0272,\n",
       "       -0.0074,  0.0352,  0.0153,  0.0032,  0.0133, -0.004 ,  0.0233,\n",
       "       -0.0158,  0.009 ,  0.0116, -0.0306, -0.0033,  0.0034,  0.0061,\n",
       "       -0.0127,  0.0033, -0.0024,  0.0217, -0.0112, -0.0114,  0.0136,\n",
       "        0.0251,  0.0045,  0.009 , -0.0091, -0.0041, -0.0168, -0.0204,\n",
       "       -0.0062,  0.006 , -0.    ,  0.0037,  0.0111, -0.0063,  0.004 ,\n",
       "        0.0008, -0.0059,  0.0125,  0.0248, -0.0129,  0.0039,  0.0006,\n",
       "       -0.0021,  0.0068, -0.0134,  0.0235,  0.0133, -0.0038, -0.0063,\n",
       "       -0.0273,  0.0129,  0.0067, -0.0096, -0.0248, -0.0065,  0.0076,\n",
       "       -0.0048,  0.0106, -0.0283,  0.0129, -0.0017, -0.0123,  0.0216,\n",
       "       -0.0095,  0.025 , -0.0068,  0.0107,  0.0012,  0.0057,  0.0188,\n",
       "       -0.0102,  0.0147, -0.0048,  0.0091, -0.0037, -0.0089,  0.0091,\n",
       "        0.0122,  0.0182, -0.0103, -0.0014, -0.0046,  0.0039,  0.0007,\n",
       "       -0.0056, -0.0096, -0.0111, -0.0046, -0.0209,  0.0085,  0.016 ,\n",
       "        0.0089,  0.0147])"
      ]
     },
     "execution_count": 380,
     "metadata": {},
     "output_type": "execute_result"
    }
   ],
   "source": [
    "acf"
   ]
  },
  {
   "cell_type": "code",
   "execution_count": 381,
   "metadata": {},
   "outputs": [],
   "source": [
    "#### Confidence interval for ACF\n",
    "acf_conf = [1.96  / np.sqrt(len(x_train)), -1.96 / np.sqrt(len(x_train))]\n",
    "\n",
    "#### Confidence interval for ACF^2\n",
    "acf_squared_conf = [1.96 / np.sqrt(len(x_train**2)), - 1.96 / np.sqrt(len(x_train**2))]"
   ]
  },
  {
   "cell_type": "code",
   "execution_count": 382,
   "metadata": {},
   "outputs": [
    {
     "data": {
      "image/png": "[encoded data removed]",
      "text/plain": [
       "<Figure size 1080x504 with 2 Axes>"
      ]
     },
     "metadata": {
      "needs_background": "light"
     },
     "output_type": "display_data"
    }
   ],
   "source": [
    "# Create a 2x1 grid to plot in:\n",
    "fig, (ax1, ax2) = plt.subplots(2,1,figsize=(15,7))\n",
    "plt.subplots_adjust(wspace = 0.2, hspace=0.5)\n",
    "\n",
    "#Plot ACF & PACF\n",
    "labels = [\"ACF(log $r_t)$\",\"ACF(log $r^2_t$)\"]\n",
    "variables = [acf, acf_squared]\n",
    "confidence = [acf_conf, acf_squared_conf]\n",
    "\n",
    "for (ax, labels, var, conf) in zip([ax1, ax2], labels, variables, confidence):\n",
    "    ax.bar(lags, var, color=\"b\", alpha=0.4)\n",
    "    ax.axhline(conf[0], linestyle = 'dashed', color = 'black')\n",
    "    ax.axhline(conf[1], linestyle = 'dashed', color = 'black')\n",
    "    ax.set_ylabel(labels)\n",
    "    ax.set_xlabel(\"Lag\")\n",
    "    ax.set_xlim(left=-0.5, right = max(lags)+1)\n",
    "    \n",
    "ax2.set_ylim(bottom=0)\n",
    "plt.savefig(\"ACF\")\n"
   ]
  },
  {
   "cell_type": "code",
   "execution_count": null,
   "metadata": {},
   "outputs": [],
   "source": []
  }
 ],
 "metadata": {
  "kernelspec": {
   "display_name": "Python 3",
   "language": "python",
   "name": "python3"
  },
  "language_info": {
   "codemirror_mode": {
    "name": "ipython",
    "version": 3
   },
   "file_extension": ".py",
   "mimetype": "text/x-python",
   "name": "python",
   "nbconvert_exporter": "python",
   "pygments_lexer": "ipython3",
   "version": "3.8.5"
  }
 },
 "nbformat": 4,
 "nbformat_minor": 1
}