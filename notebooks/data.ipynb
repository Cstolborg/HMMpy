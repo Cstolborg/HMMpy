{
 "cells": [
  {
   "cell_type": "code",
   "execution_count": null,
   "metadata": {},
   "outputs": [],
   "source": []
  },
  {
   "cell_type": "code",
   "execution_count": 53,
   "metadata": {},
   "outputs": [],
   "source": [
    "import pandas as pd; pd.set_option('precision',4)\n",
    "pd.options.mode.chained_assignment = None  # default='warn'\n",
    "import numpy as np; np.set_printoptions(precision=4,suppress = True)\n",
    "import matplotlib.pyplot as plt\n",
    "import seaborn as sns\n",
    "from scipy import stats\n",
    "import statsmodels.api as sm\n",
    "from statsmodels.graphics.tsaplots import plot_acf, plot_pacf, acf, pacf\n",
    "import matplotlib.gridspec as gridspec\n",
    "from datetime import datetime\n",
    "\n",
    "fontsize = 15 # Set fontsize for all figures\n",
    "plt.rc('font', size=fontsize)          # controls default text sizes\n",
    "plt.rc('axes', titlesize=fontsize)     # fontsize of the axes title\n",
    "plt.rc('axes', labelsize=fontsize)    # fontsize of the x and y labels\n",
    "plt.rc('xtick', labelsize=fontsize)    # fontsize of the tick labels\n",
    "plt.rc('ytick', labelsize=fontsize)    # fontsize of the tick labels\n",
    "plt.rc('legend', fontsize=fontsize)    # legend fontsize\n",
    "plt.rc('figure', titlesize=fontsize)  # fontsize of the figure title\n",
    "\n",
    "\n",
    "# StandardScale all x-variables - improves performance and robustness of fitted models\n",
    "from sklearn.preprocessing import StandardScaler\n",
    "\n",
    "# All subsets need their own scaler in order to call the inverse_transform method\n",
    "scaler_train = StandardScaler()\n",
    "scaler_test = StandardScaler()\n",
    "scaler_all = StandardScaler()\n",
    "\n"
   ]
  },
  {
   "cell_type": "code",
   "execution_count": 54,
   "metadata": {},
   "outputs": [
    {
     "name": "stdout",
     "output_type": "stream",
     "text": [
      "/home/math/PycharmProjects/hmm-master\n"
     ]
    }
   ],
   "source": [
    "import os \n",
    "cwd = os.getcwd()\n",
    "print(os.getcwd())\n",
    "os.chdir('/home/math/PycharmProjects/hmm-master')"
   ]
  },
  {
   "cell_type": "code",
   "execution_count": 55,
   "metadata": {
    "pycharm": {
     "name": "#%%\n"
    }
   },
   "outputs": [
    {
     "data": {
      "text/html": [
       "<div>\n",
       "<style scoped>\n",
       "    .dataframe tbody tr th:only-of-type {\n",
       "        vertical-align: middle;\n",
       "    }\n",
       "\n",
       "    .dataframe tbody tr th {\n",
       "        vertical-align: top;\n",
       "    }\n",
       "\n",
       "    .dataframe thead th {\n",
       "        text-align: right;\n",
       "    }\n",
       "</style>\n",
       "<table border=\"1\" class=\"dataframe\">\n",
       "  <thead>\n",
       "    <tr style=\"text-align: right;\">\n",
       "      <th></th>\n",
       "      <th>MSCI World</th>\n",
       "    </tr>\n",
       "    <tr>\n",
       "      <th>Time / Name</th>\n",
       "      <th></th>\n",
       "    </tr>\n",
       "  </thead>\n",
       "  <tbody>\n",
       "    <tr>\n",
       "      <th>1980-01-01</th>\n",
       "      <td>7.0217</td>\n",
       "    </tr>\n",
       "    <tr>\n",
       "      <th>1980-01-02</th>\n",
       "      <td>6.9258</td>\n",
       "    </tr>\n",
       "    <tr>\n",
       "      <th>1980-01-03</th>\n",
       "      <td>6.9075</td>\n",
       "    </tr>\n",
       "    <tr>\n",
       "      <th>1980-01-04</th>\n",
       "      <td>6.9630</td>\n",
       "    </tr>\n",
       "    <tr>\n",
       "      <th>1980-01-07</th>\n",
       "      <td>6.9889</td>\n",
       "    </tr>\n",
       "  </tbody>\n",
       "</table>\n",
       "</div>"
      ],
      "text/plain": [
       "             MSCI World\n",
       "Time / Name            \n",
       "1980-01-01       7.0217\n",
       "1980-01-02       6.9258\n",
       "1980-01-03       6.9075\n",
       "1980-01-04       6.9630\n",
       "1980-01-07       6.9889"
      ]
     },
     "execution_count": 55,
     "metadata": {},
     "output_type": "execute_result"
    }
   ],
   "source": [
    "df = pd.read_excel('data/Adjusted Close Price Series Load.xlsx', header = 2, index_col = 'Time / Name')\n",
    "df_MSCI = df[['MSCI World']]\n",
    "df_MSCI.head()"
   ]
  },
  {
   "cell_type": "code",
   "execution_count": 57,
   "metadata": {},
   "outputs": [
    {
     "data": {
      "text/html": [
       "<div>\n",
       "<style scoped>\n",
       "    .dataframe tbody tr th:only-of-type {\n",
       "        vertical-align: middle;\n",
       "    }\n",
       "\n",
       "    .dataframe tbody tr th {\n",
       "        vertical-align: top;\n",
       "    }\n",
       "\n",
       "    .dataframe thead th {\n",
       "        text-align: right;\n",
       "    }\n",
       "</style>\n",
       "<table border=\"1\" class=\"dataframe\">\n",
       "  <thead>\n",
       "    <tr style=\"text-align: right;\">\n",
       "      <th></th>\n",
       "      <th>MSCI World</th>\n",
       "      <th>Returns</th>\n",
       "      <th>Log returns</th>\n",
       "    </tr>\n",
       "    <tr>\n",
       "      <th>Time / Name</th>\n",
       "      <th></th>\n",
       "      <th></th>\n",
       "      <th></th>\n",
       "    </tr>\n",
       "  </thead>\n",
       "  <tbody>\n",
       "    <tr>\n",
       "      <th>1980-01-02</th>\n",
       "      <td>6.9258</td>\n",
       "      <td>-0.0137</td>\n",
       "      <td>-0.0138</td>\n",
       "    </tr>\n",
       "    <tr>\n",
       "      <th>1980-01-03</th>\n",
       "      <td>6.9075</td>\n",
       "      <td>-0.0026</td>\n",
       "      <td>-0.0027</td>\n",
       "    </tr>\n",
       "    <tr>\n",
       "      <th>1980-01-04</th>\n",
       "      <td>6.9630</td>\n",
       "      <td>0.0080</td>\n",
       "      <td>0.0080</td>\n",
       "    </tr>\n",
       "    <tr>\n",
       "      <th>1980-01-07</th>\n",
       "      <td>6.9889</td>\n",
       "      <td>0.0037</td>\n",
       "      <td>0.0037</td>\n",
       "    </tr>\n",
       "    <tr>\n",
       "      <th>1980-01-08</th>\n",
       "      <td>7.0757</td>\n",
       "      <td>0.0124</td>\n",
       "      <td>0.0123</td>\n",
       "    </tr>\n",
       "    <tr>\n",
       "      <th>...</th>\n",
       "      <td>...</td>\n",
       "      <td>...</td>\n",
       "      <td>...</td>\n",
       "    </tr>\n",
       "    <tr>\n",
       "      <th>2021-01-12</th>\n",
       "      <td>167.0883</td>\n",
       "      <td>0.0012</td>\n",
       "      <td>0.0012</td>\n",
       "    </tr>\n",
       "    <tr>\n",
       "      <th>2021-01-13</th>\n",
       "      <td>167.5403</td>\n",
       "      <td>0.0027</td>\n",
       "      <td>0.0027</td>\n",
       "    </tr>\n",
       "    <tr>\n",
       "      <th>2021-01-14</th>\n",
       "      <td>167.4257</td>\n",
       "      <td>-0.0007</td>\n",
       "      <td>-0.0007</td>\n",
       "    </tr>\n",
       "    <tr>\n",
       "      <th>2021-01-15</th>\n",
       "      <td>166.9609</td>\n",
       "      <td>-0.0028</td>\n",
       "      <td>-0.0028</td>\n",
       "    </tr>\n",
       "    <tr>\n",
       "      <th>2021-01-18</th>\n",
       "      <td>167.1615</td>\n",
       "      <td>0.0012</td>\n",
       "      <td>0.0012</td>\n",
       "    </tr>\n",
       "  </tbody>\n",
       "</table>\n",
       "<p>10709 rows × 3 columns</p>\n",
       "</div>"
      ],
      "text/plain": [
       "             MSCI World  Returns  Log returns\n",
       "Time / Name                                  \n",
       "1980-01-02       6.9258  -0.0137      -0.0138\n",
       "1980-01-03       6.9075  -0.0026      -0.0027\n",
       "1980-01-04       6.9630   0.0080       0.0080\n",
       "1980-01-07       6.9889   0.0037       0.0037\n",
       "1980-01-08       7.0757   0.0124       0.0123\n",
       "...                 ...      ...          ...\n",
       "2021-01-12     167.0883   0.0012       0.0012\n",
       "2021-01-13     167.5403   0.0027       0.0027\n",
       "2021-01-14     167.4257  -0.0007      -0.0007\n",
       "2021-01-15     166.9609  -0.0028      -0.0028\n",
       "2021-01-18     167.1615   0.0012       0.0012\n",
       "\n",
       "[10709 rows x 3 columns]"
      ]
     },
     "execution_count": 57,
     "metadata": {},
     "output_type": "execute_result"
    }
   ],
   "source": [
    "df_MSCI['Returns'] = df_MSCI['MSCI World'].pct_change()\n",
    "df_MSCI['Log returns'] = np.log(df_MSCI['MSCI World']) - np.log(df_MSCI['MSCI World'].shift(1))\n",
    "df_MSCI.dropna(inplace=True)\n",
    "df_MSCI.head(-5)"
   ]
  },
  {
   "cell_type": "markdown",
   "metadata": {},
   "source": [
    "### Train and Test period"
   ]
  },
  {
   "cell_type": "code",
   "execution_count": 58,
   "metadata": {},
   "outputs": [],
   "source": [
    "start_train = '1980-01-01'\n",
    "end_train = '2014-01-01'\n",
    "\n",
    "start_test = '2014-01-02'\n",
    "end_test = '2021-01-18'\n",
    "\n",
    "# Get train and test as datetimes - used for plotting\n",
    "start_train_dt = datetime.strptime(start_train, '%Y-%m-%d')\n",
    "end_train_dt = datetime.strptime(end_train, '%Y-%m-%d')\n",
    "start_test_dt = datetime.strptime(start_test, '%Y-%m-%d')\n",
    "end_test_dt = datetime.strptime(end_test, '%Y-%m-%d')\n",
    "\n",
    "df = df.loc[start_train:end_test]"
   ]
  },
  {
   "cell_type": "code",
   "execution_count": 59,
   "metadata": {},
   "outputs": [],
   "source": [
    "#Get train & test sets - keep as Dataframe as oppossed to pandas series.\n",
    "x_train = pd.DataFrame(df_MSCI.loc[start_train:end_train, 'Log returns'])\n",
    "x_test = pd.DataFrame(df_MSCI.loc[start_test:end_test, 'Log returns'])\n",
    "x_all = pd.DataFrame(df_MSCI.loc[start_train:end_test, 'Log returns'])"
   ]
  },
  {
   "cell_type": "code",
   "execution_count": 60,
   "metadata": {},
   "outputs": [],
   "source": [
    "#Scale train & test sets\n",
    "x_train_scaled = pd.DataFrame(scaler_train.fit_transform(x_train),\n",
    "             columns = [\"Log returns\"],\n",
    "             index=x_train.index)\n",
    "x_test_scaled = pd.DataFrame(scaler_test.fit_transform(x_test), columns =['Log returns'], index = x_test.index)\n",
    "\n",
    "x_all_scaled = pd.DataFrame(scaler_all.fit_transform(x_all), columns = ['Log returns'], index = x_all.index)"
   ]
  },
  {
   "cell_type": "code",
   "execution_count": 65,
   "metadata": {},
   "outputs": [],
   "source": [
    "#Set variable for index prices and set index 100 to first obs - only used for plotting\n",
    "prices = df.loc[start_train:end_test , 'MSCI World']\n",
    "prices = df.loc[:,\"MSCI World\"] / df.iloc[0][\"MSCI World\"] * 100"
   ]
  },
  {
   "cell_type": "markdown",
   "metadata": {},
   "source": [
    "### Data Exploration"
   ]
  },
  {
   "cell_type": "code",
   "execution_count": null,
   "metadata": {},
   "outputs": [],
   "source": []
  }
 ],
 "metadata": {
  "kernelspec": {
   "display_name": "Python 3",
   "language": "python",
   "name": "python3"
  },
  "language_info": {
   "codemirror_mode": {
    "name": "ipython",
    "version": 3
   },
   "file_extension": ".py",
   "mimetype": "text/x-python",
   "name": "python",
   "nbconvert_exporter": "python",
   "pygments_lexer": "ipython3",
   "version": "3.8.5"
  }
 },
 "nbformat": 4,
 "nbformat_minor": 1
}