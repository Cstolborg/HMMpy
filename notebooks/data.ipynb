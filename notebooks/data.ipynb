{
 "cells": [
  {
   "cell_type": "code",
   "execution_count": 48,
   "metadata": {},
   "outputs": [],
   "source": [
    "import pandas as pd; pd.set_option('precision',4)\n",
    "pd.options.mode.chained_assignment = None  # default='warn'\n",
    "import numpy as np; np.set_printoptions(precision=4,suppress = True)\n",
    "import matplotlib.pyplot as plt\n",
    "import seaborn as sns\n",
    "from scipy import stats\n",
    "import statsmodels.api as sm\n",
    "from statsmodels.graphics.tsaplots import plot_acf, plot_pacf, acf, pacf\n",
    "import matplotlib.gridspec as gridspec\n",
    "\n",
    "\n",
    "fontsize = 15 # Set fontsize for all figures\n",
    "plt.rc('font', size=fontsize)          # controls default text sizes\n",
    "plt.rc('axes', titlesize=fontsize)     # fontsize of the axes title\n",
    "plt.rc('axes', labelsize=fontsize)    # fontsize of the x and y labels\n",
    "plt.rc('xtick', labelsize=fontsize)    # fontsize of the tick labels\n",
    "plt.rc('ytick', labelsize=fontsize)    # fontsize of the tick labels\n",
    "plt.rc('legend', fontsize=fontsize)    # legend fontsize\n",
    "plt.rc('figure', titlesize=fontsize)  # fontsize of the figure title\n",
    "\n",
    "\n",
    "# StandardScale all x-variables - improves performance and robustness of fitted models\n",
    "from sklearn.preprocessing import StandardScaler\n",
    "\n",
    "# All subsets need their own scaler in order to call the inverse_transform method\n",
    "scaler_train = StandardScaler()\n",
    "scaler_test = StandardScaler()\n",
    "scaler_all = StandardScaler()\n",
    "\n",
    "\n",
    "def printf(text, value, pct=False):\n",
    "    if pct == True:\n",
    "        print(text, f\"{value*100:.4f}%\")\n",
    "    else:\n",
    "        print(text, f\"{value:.4f}\")"
   ]
  },
  {
   "cell_type": "code",
   "execution_count": 49,
   "metadata": {},
   "outputs": [
    {
     "name": "stdout",
     "output_type": "stream",
     "text": [
      "/home/math/PycharmProjects/hmm-master\n"
     ]
    }
   ],
   "source": [
    "import os \n",
    "cwd = os.getcwd()\n",
    "print(os.getcwd())\n",
    "os.chdir('/home/math/PycharmProjects/hmm-master')"
   ]
  },
  {
   "cell_type": "code",
   "execution_count": 50,
   "metadata": {
    "pycharm": {
     "name": "#%%\n"
    }
   },
   "outputs": [],
   "source": [
    "df = pd.read_csv('data/price_series.csv', index_col = 'Time')\n",
    "\n",
    "df.index = pd.to_datetime(df.index)\n",
    "\n",
    "df_yield = pd.read_excel('data/BarCap_USCorpHY_10yearspread.xlsx', header = 2, index_col = 'date')\n",
    "df_yield.index = pd.to_datetime(df_yield.index)\n",
    "df_yield.rename(columns={'Unnamed: 1':'Yield Spread'}, inplace=True)"
   ]
  },
  {
   "cell_type": "code",
   "execution_count": 51,
   "metadata": {},
   "outputs": [],
   "source": [
    "df_MSCI = df[['MSCI World']]\n",
    "df_DAX = df[['DAX ']]\n",
    "df_SP500 = df[['S&P 500 ']]\n",
    "\n",
    "df_MSCI.dropna(inplace=True)\n",
    "df_DAX.dropna(inplace=True)\n",
    "df_SP500.dropna(inplace=True)\n",
    "\n",
    "df_MSCI['MSCI Index'] = df_MSCI / df_MSCI['MSCI World'][0] * 100\n",
    "\n",
    "df_DAX['DAX Index'] = df_DAX / df_DAX['DAX '][0]*100\n",
    "\n",
    "df_SP500['S&P 500 Index'] = df_SP500 / df_SP500['S&P 500 '][0]*100"
   ]
  },
  {
   "cell_type": "markdown",
   "metadata": {},
   "source": [
    "#### Returns MSCI "
   ]
  },
  {
   "cell_type": "code",
   "execution_count": 52,
   "metadata": {},
   "outputs": [
    {
     "data": {
      "text/html": [
       "<div>\n",
       "<style scoped>\n",
       "    .dataframe tbody tr th:only-of-type {\n",
       "        vertical-align: middle;\n",
       "    }\n",
       "\n",
       "    .dataframe tbody tr th {\n",
       "        vertical-align: top;\n",
       "    }\n",
       "\n",
       "    .dataframe thead th {\n",
       "        text-align: right;\n",
       "    }\n",
       "</style>\n",
       "<table border=\"1\" class=\"dataframe\">\n",
       "  <thead>\n",
       "    <tr style=\"text-align: right;\">\n",
       "      <th></th>\n",
       "      <th>MSCI World</th>\n",
       "      <th>MSCI Index</th>\n",
       "      <th>Returns</th>\n",
       "      <th>Log returns</th>\n",
       "    </tr>\n",
       "    <tr>\n",
       "      <th>Time</th>\n",
       "      <th></th>\n",
       "      <th></th>\n",
       "      <th></th>\n",
       "      <th></th>\n",
       "    </tr>\n",
       "  </thead>\n",
       "  <tbody>\n",
       "    <tr>\n",
       "      <th>1969-12-31</th>\n",
       "      <td>100.00</td>\n",
       "      <td>100.00</td>\n",
       "      <td>NaN</td>\n",
       "      <td>NaN</td>\n",
       "    </tr>\n",
       "    <tr>\n",
       "      <th>1970-01-07</th>\n",
       "      <td>100.67</td>\n",
       "      <td>100.67</td>\n",
       "      <td>0.0067</td>\n",
       "      <td>0.0067</td>\n",
       "    </tr>\n",
       "    <tr>\n",
       "      <th>1970-01-14</th>\n",
       "      <td>99.77</td>\n",
       "      <td>99.77</td>\n",
       "      <td>-0.0089</td>\n",
       "      <td>-0.0090</td>\n",
       "    </tr>\n",
       "    <tr>\n",
       "      <th>1970-01-21</th>\n",
       "      <td>98.38</td>\n",
       "      <td>98.38</td>\n",
       "      <td>-0.0139</td>\n",
       "      <td>-0.0140</td>\n",
       "    </tr>\n",
       "    <tr>\n",
       "      <th>1970-01-28</th>\n",
       "      <td>95.91</td>\n",
       "      <td>95.91</td>\n",
       "      <td>-0.0251</td>\n",
       "      <td>-0.0254</td>\n",
       "    </tr>\n",
       "    <tr>\n",
       "      <th>...</th>\n",
       "      <td>...</td>\n",
       "      <td>...</td>\n",
       "      <td>...</td>\n",
       "      <td>...</td>\n",
       "    </tr>\n",
       "    <tr>\n",
       "      <th>2021-02-08</th>\n",
       "      <td>2795.89</td>\n",
       "      <td>2795.89</td>\n",
       "      <td>0.0081</td>\n",
       "      <td>0.0081</td>\n",
       "    </tr>\n",
       "    <tr>\n",
       "      <th>2021-02-09</th>\n",
       "      <td>2798.55</td>\n",
       "      <td>2798.55</td>\n",
       "      <td>0.0010</td>\n",
       "      <td>0.0010</td>\n",
       "    </tr>\n",
       "    <tr>\n",
       "      <th>2021-02-10</th>\n",
       "      <td>2800.68</td>\n",
       "      <td>2800.68</td>\n",
       "      <td>0.0008</td>\n",
       "      <td>0.0008</td>\n",
       "    </tr>\n",
       "    <tr>\n",
       "      <th>2021-02-11</th>\n",
       "      <td>2807.16</td>\n",
       "      <td>2807.16</td>\n",
       "      <td>0.0023</td>\n",
       "      <td>0.0023</td>\n",
       "    </tr>\n",
       "    <tr>\n",
       "      <th>2021-02-12</th>\n",
       "      <td>2818.85</td>\n",
       "      <td>2818.85</td>\n",
       "      <td>0.0042</td>\n",
       "      <td>0.0042</td>\n",
       "    </tr>\n",
       "  </tbody>\n",
       "</table>\n",
       "<p>12941 rows × 4 columns</p>\n",
       "</div>"
      ],
      "text/plain": [
       "            MSCI World  MSCI Index  Returns  Log returns\n",
       "Time                                                    \n",
       "1969-12-31      100.00      100.00      NaN          NaN\n",
       "1970-01-07      100.67      100.67   0.0067       0.0067\n",
       "1970-01-14       99.77       99.77  -0.0089      -0.0090\n",
       "1970-01-21       98.38       98.38  -0.0139      -0.0140\n",
       "1970-01-28       95.91       95.91  -0.0251      -0.0254\n",
       "...                ...         ...      ...          ...\n",
       "2021-02-08     2795.89     2795.89   0.0081       0.0081\n",
       "2021-02-09     2798.55     2798.55   0.0010       0.0010\n",
       "2021-02-10     2800.68     2800.68   0.0008       0.0008\n",
       "2021-02-11     2807.16     2807.16   0.0023       0.0023\n",
       "2021-02-12     2818.85     2818.85   0.0042       0.0042\n",
       "\n",
       "[12941 rows x 4 columns]"
      ]
     },
     "execution_count": 52,
     "metadata": {},
     "output_type": "execute_result"
    }
   ],
   "source": [
    "df_MSCI['Returns'] = df_MSCI['MSCI Index'].pct_change()\n",
    "df_MSCI['Log returns'] = np.log(df_MSCI['MSCI Index']) - np.log(df_MSCI['MSCI Index'].shift(1))\n",
    "df_MSCI"
   ]
  },
  {
   "cell_type": "markdown",
   "metadata": {},
   "source": [
    "#### Returns DAX"
   ]
  },
  {
   "cell_type": "code",
   "execution_count": 53,
   "metadata": {},
   "outputs": [
    {
     "data": {
      "text/html": [
       "<div>\n",
       "<style scoped>\n",
       "    .dataframe tbody tr th:only-of-type {\n",
       "        vertical-align: middle;\n",
       "    }\n",
       "\n",
       "    .dataframe tbody tr th {\n",
       "        vertical-align: top;\n",
       "    }\n",
       "\n",
       "    .dataframe thead th {\n",
       "        text-align: right;\n",
       "    }\n",
       "</style>\n",
       "<table border=\"1\" class=\"dataframe\">\n",
       "  <thead>\n",
       "    <tr style=\"text-align: right;\">\n",
       "      <th></th>\n",
       "      <th>DAX</th>\n",
       "      <th>DAX Index</th>\n",
       "      <th>Returns</th>\n",
       "      <th>Log returns</th>\n",
       "    </tr>\n",
       "    <tr>\n",
       "      <th>Time</th>\n",
       "      <th></th>\n",
       "      <th></th>\n",
       "      <th></th>\n",
       "      <th></th>\n",
       "    </tr>\n",
       "  </thead>\n",
       "  <tbody>\n",
       "    <tr>\n",
       "      <th>1999-01-04</th>\n",
       "      <td>6208.8148</td>\n",
       "      <td>100.0000</td>\n",
       "      <td>NaN</td>\n",
       "      <td>NaN</td>\n",
       "    </tr>\n",
       "    <tr>\n",
       "      <th>1999-01-05</th>\n",
       "      <td>6181.7505</td>\n",
       "      <td>99.5641</td>\n",
       "      <td>-0.0044</td>\n",
       "      <td>-0.0044</td>\n",
       "    </tr>\n",
       "    <tr>\n",
       "      <th>1999-01-06</th>\n",
       "      <td>6323.8534</td>\n",
       "      <td>101.8528</td>\n",
       "      <td>0.0230</td>\n",
       "      <td>0.0227</td>\n",
       "    </tr>\n",
       "    <tr>\n",
       "      <th>1999-01-07</th>\n",
       "      <td>6218.5739</td>\n",
       "      <td>100.1572</td>\n",
       "      <td>-0.0166</td>\n",
       "      <td>-0.0168</td>\n",
       "    </tr>\n",
       "    <tr>\n",
       "      <th>1999-01-08</th>\n",
       "      <td>6240.5944</td>\n",
       "      <td>100.5118</td>\n",
       "      <td>0.0035</td>\n",
       "      <td>0.0035</td>\n",
       "    </tr>\n",
       "    <tr>\n",
       "      <th>...</th>\n",
       "      <td>...</td>\n",
       "      <td>...</td>\n",
       "      <td>...</td>\n",
       "      <td>...</td>\n",
       "    </tr>\n",
       "    <tr>\n",
       "      <th>2021-02-08</th>\n",
       "      <td>16937.9736</td>\n",
       "      <td>272.8053</td>\n",
       "      <td>0.0010</td>\n",
       "      <td>0.0010</td>\n",
       "    </tr>\n",
       "    <tr>\n",
       "      <th>2021-02-09</th>\n",
       "      <td>16961.2839</td>\n",
       "      <td>273.1807</td>\n",
       "      <td>0.0014</td>\n",
       "      <td>0.0014</td>\n",
       "    </tr>\n",
       "    <tr>\n",
       "      <th>2021-02-10</th>\n",
       "      <td>16911.8390</td>\n",
       "      <td>272.3843</td>\n",
       "      <td>-0.0029</td>\n",
       "      <td>-0.0029</td>\n",
       "    </tr>\n",
       "    <tr>\n",
       "      <th>2021-02-11</th>\n",
       "      <td>17027.4116</td>\n",
       "      <td>274.2458</td>\n",
       "      <td>0.0068</td>\n",
       "      <td>0.0068</td>\n",
       "    </tr>\n",
       "    <tr>\n",
       "      <th>2021-02-12</th>\n",
       "      <td>17032.6816</td>\n",
       "      <td>274.3306</td>\n",
       "      <td>0.0003</td>\n",
       "      <td>0.0003</td>\n",
       "    </tr>\n",
       "  </tbody>\n",
       "</table>\n",
       "<p>5613 rows × 4 columns</p>\n",
       "</div>"
      ],
      "text/plain": [
       "                  DAX   DAX Index  Returns  Log returns\n",
       "Time                                                   \n",
       "1999-01-04   6208.8148   100.0000      NaN          NaN\n",
       "1999-01-05   6181.7505    99.5641  -0.0044      -0.0044\n",
       "1999-01-06   6323.8534   101.8528   0.0230       0.0227\n",
       "1999-01-07   6218.5739   100.1572  -0.0166      -0.0168\n",
       "1999-01-08   6240.5944   100.5118   0.0035       0.0035\n",
       "...                ...        ...      ...          ...\n",
       "2021-02-08  16937.9736   272.8053   0.0010       0.0010\n",
       "2021-02-09  16961.2839   273.1807   0.0014       0.0014\n",
       "2021-02-10  16911.8390   272.3843  -0.0029      -0.0029\n",
       "2021-02-11  17027.4116   274.2458   0.0068       0.0068\n",
       "2021-02-12  17032.6816   274.3306   0.0003       0.0003\n",
       "\n",
       "[5613 rows x 4 columns]"
      ]
     },
     "execution_count": 53,
     "metadata": {},
     "output_type": "execute_result"
    }
   ],
   "source": [
    "df_DAX['Returns'] = df_DAX['DAX Index'].pct_change()\n",
    "df_DAX['Log returns'] = np.log(df_DAX['DAX Index']) - np.log(df_DAX['DAX Index'].shift(1))\n",
    "df_DAX"
   ]
  },
  {
   "cell_type": "markdown",
   "metadata": {},
   "source": [
    "#### Returns SP500 "
   ]
  },
  {
   "cell_type": "code",
   "execution_count": 54,
   "metadata": {},
   "outputs": [
    {
     "data": {
      "text/html": [
       "<div>\n",
       "<style scoped>\n",
       "    .dataframe tbody tr th:only-of-type {\n",
       "        vertical-align: middle;\n",
       "    }\n",
       "\n",
       "    .dataframe tbody tr th {\n",
       "        vertical-align: top;\n",
       "    }\n",
       "\n",
       "    .dataframe thead th {\n",
       "        text-align: right;\n",
       "    }\n",
       "</style>\n",
       "<table border=\"1\" class=\"dataframe\">\n",
       "  <thead>\n",
       "    <tr style=\"text-align: right;\">\n",
       "      <th></th>\n",
       "      <th>S&amp;P 500</th>\n",
       "      <th>S&amp;P 500 Index</th>\n",
       "      <th>Returns</th>\n",
       "      <th>Log returns</th>\n",
       "    </tr>\n",
       "    <tr>\n",
       "      <th>Time</th>\n",
       "      <th></th>\n",
       "      <th></th>\n",
       "      <th></th>\n",
       "      <th></th>\n",
       "    </tr>\n",
       "  </thead>\n",
       "  <tbody>\n",
       "    <tr>\n",
       "      <th>1960-01-04</th>\n",
       "      <td>59.91</td>\n",
       "      <td>100.0000</td>\n",
       "      <td>NaN</td>\n",
       "      <td>NaN</td>\n",
       "    </tr>\n",
       "    <tr>\n",
       "      <th>1960-01-05</th>\n",
       "      <td>60.39</td>\n",
       "      <td>100.8012</td>\n",
       "      <td>0.0080</td>\n",
       "      <td>0.0080</td>\n",
       "    </tr>\n",
       "    <tr>\n",
       "      <th>1960-01-06</th>\n",
       "      <td>60.13</td>\n",
       "      <td>100.3672</td>\n",
       "      <td>-0.0043</td>\n",
       "      <td>-0.0043</td>\n",
       "    </tr>\n",
       "    <tr>\n",
       "      <th>1960-01-07</th>\n",
       "      <td>59.69</td>\n",
       "      <td>99.6328</td>\n",
       "      <td>-0.0073</td>\n",
       "      <td>-0.0073</td>\n",
       "    </tr>\n",
       "    <tr>\n",
       "      <th>1960-01-08</th>\n",
       "      <td>59.50</td>\n",
       "      <td>99.3156</td>\n",
       "      <td>-0.0032</td>\n",
       "      <td>-0.0032</td>\n",
       "    </tr>\n",
       "    <tr>\n",
       "      <th>...</th>\n",
       "      <td>...</td>\n",
       "      <td>...</td>\n",
       "      <td>...</td>\n",
       "      <td>...</td>\n",
       "    </tr>\n",
       "    <tr>\n",
       "      <th>2021-02-08</th>\n",
       "      <td>3915.59</td>\n",
       "      <td>6535.7870</td>\n",
       "      <td>0.0074</td>\n",
       "      <td>0.0074</td>\n",
       "    </tr>\n",
       "    <tr>\n",
       "      <th>2021-02-09</th>\n",
       "      <td>3911.23</td>\n",
       "      <td>6528.5094</td>\n",
       "      <td>-0.0011</td>\n",
       "      <td>-0.0011</td>\n",
       "    </tr>\n",
       "    <tr>\n",
       "      <th>2021-02-10</th>\n",
       "      <td>3909.88</td>\n",
       "      <td>6526.2561</td>\n",
       "      <td>-0.0003</td>\n",
       "      <td>-0.0003</td>\n",
       "    </tr>\n",
       "    <tr>\n",
       "      <th>2021-02-11</th>\n",
       "      <td>3916.38</td>\n",
       "      <td>6537.1057</td>\n",
       "      <td>0.0017</td>\n",
       "      <td>0.0017</td>\n",
       "    </tr>\n",
       "    <tr>\n",
       "      <th>2021-02-12</th>\n",
       "      <td>3934.83</td>\n",
       "      <td>6567.9019</td>\n",
       "      <td>0.0047</td>\n",
       "      <td>0.0047</td>\n",
       "    </tr>\n",
       "  </tbody>\n",
       "</table>\n",
       "<p>15385 rows × 4 columns</p>\n",
       "</div>"
      ],
      "text/plain": [
       "            S&P 500   S&P 500 Index  Returns  Log returns\n",
       "Time                                                     \n",
       "1960-01-04     59.91       100.0000      NaN          NaN\n",
       "1960-01-05     60.39       100.8012   0.0080       0.0080\n",
       "1960-01-06     60.13       100.3672  -0.0043      -0.0043\n",
       "1960-01-07     59.69        99.6328  -0.0073      -0.0073\n",
       "1960-01-08     59.50        99.3156  -0.0032      -0.0032\n",
       "...              ...            ...      ...          ...\n",
       "2021-02-08   3915.59      6535.7870   0.0074       0.0074\n",
       "2021-02-09   3911.23      6528.5094  -0.0011      -0.0011\n",
       "2021-02-10   3909.88      6526.2561  -0.0003      -0.0003\n",
       "2021-02-11   3916.38      6537.1057   0.0017       0.0017\n",
       "2021-02-12   3934.83      6567.9019   0.0047       0.0047\n",
       "\n",
       "[15385 rows x 4 columns]"
      ]
     },
     "execution_count": 54,
     "metadata": {},
     "output_type": "execute_result"
    }
   ],
   "source": [
    "df_SP500['Returns'] = df_SP500['S&P 500 Index'].pct_change()\n",
    "df_SP500['Log returns'] = np.log(df_SP500['S&P 500 Index']) - np.log(df_SP500['S&P 500 Index'].shift(1))\n",
    "df_SP500"
   ]
  },
  {
   "cell_type": "markdown",
   "metadata": {},
   "source": [
    "### Yield Calculations"
   ]
  },
  {
   "cell_type": "code",
   "execution_count": 55,
   "metadata": {},
   "outputs": [],
   "source": [
    "df_yield['Yield Index'] = df_yield['Yield Spread'] / df_yield['Yield Spread'][0] * 100\n",
    "df_yield['Returns'] = df_yield['Yield Index'].pct_change() \n",
    "df_yield['Log returns'] = np.log(df_yield['Yield Index']) - np.log(df_yield['Yield Index'].shift(1))\n",
    "df_yield['Inverse yield'] = df_yield['Yield Spread'] * -1"
   ]
  },
  {
   "cell_type": "markdown",
   "metadata": {},
   "source": [
    "### Data Exploration MSCI World"
   ]
  },
  {
   "cell_type": "code",
   "execution_count": 56,
   "metadata": {},
   "outputs": [],
   "source": [
    "from datetime import datetime\n",
    "\n",
    "# Set train and test periods\n",
    "start_train = '1969-12-31'\n",
    "end_train = '2015-01-01'\n",
    "\n",
    "start_test = '2015-01-02'\n",
    "end_test = '2021-02-12'\n",
    "\n",
    "# Get train and test as datetimes - used for plotting\n",
    "start_train_dt = datetime.strptime(start_train, '%Y-%m-%d')\n",
    "end_train_dt = datetime.strptime(end_train, '%Y-%m-%d')\n",
    "start_test_dt = datetime.strptime(start_test, '%Y-%m-%d')\n",
    "end_test_dt = datetime.strptime(end_test, '%Y-%m-%d')\n",
    "\n",
    "df_MSCI = df_MSCI.loc[start_train:end_test]"
   ]
  },
  {
   "cell_type": "markdown",
   "metadata": {},
   "source": [
    "#### Overview of time series"
   ]
  },
  {
   "cell_type": "code",
   "execution_count": 57,
   "metadata": {},
   "outputs": [
    {
     "data": {
      "image/png": "[encoded data removed]",
      "text/plain": [
       "<Figure size 1080x360 with 1 Axes>"
      ]
     },
     "metadata": {
      "needs_background": "light"
     },
     "output_type": "display_data"
    },
    {
     "data": {
      "text/plain": [
       "<Figure size 432x288 with 0 Axes>"
      ]
     },
     "metadata": {},
     "output_type": "display_data"
    }
   ],
   "source": [
    "ig, ax = plt.subplots(figsize=(15,5))\n",
    "plt.subplots_adjust(wspace = 0.2, hspace=0.1)\n",
    "ax.plot(df_MSCI.index.values,df_MSCI['MSCI Index'], color=\"b\", alpha=0.4)\n",
    "ax.set_xlim(start_train_dt, end_test_dt)\n",
    "plt.show()\n",
    "save_results_to = '/home/math/PycharmProjects/hmm-master/analysis/data_description/'\n",
    "plt.savefig(save_results_to + 'MSCI_index.png', dpi=300)"
   ]
  },
  {
   "cell_type": "code",
   "execution_count": 11,
   "metadata": {},
   "outputs": [
    {
     "data": {
      "image/png": "[encoded data removed]",
      "text/plain": [
       "<Figure size 1080x360 with 1 Axes>"
      ]
     },
     "metadata": {
      "needs_background": "light"
     },
     "output_type": "display_data"
    },
    {
     "data": {
      "text/plain": [
       "<Figure size 432x288 with 0 Axes>"
      ]
     },
     "metadata": {},
     "output_type": "display_data"
    }
   ],
   "source": [
    "fig, ax1 = plt.subplots(figsize=(15,5))\n",
    "plt.subplots_adjust(wspace = 0.2, hspace=0.1)\n",
    "ax1.plot(df_MSCI.index.values,df_MSCI['Log returns'], color=\"b\", alpha=0.4)\n",
    "ax1.set_xlim(start_train_dt, end_test_dt)\n",
    "plt.show()\n",
    "plt.savefig(save_results_to + 'MSCI_log_returns.png', dpi = 300)"
   ]
  },
  {
   "cell_type": "code",
   "execution_count": 12,
   "metadata": {},
   "outputs": [
    {
     "name": "stdout",
     "output_type": "stream",
     "text": [
      "Mean MSCI = 0.00025803045543678645\n",
      "STD MSCI =  0.008717234647186005\n",
      "25% Quantile MSCI = -0.0037010212317714064\n",
      "75% Quantile MSCI 0.004532196755339779\n",
      "Min daily return MSCI -0.10441721632126022\n",
      "Max daily return MSCI 0.09096365880468049\n",
      "Skewness MSCI =  -0.6520842872916004\n",
      "Kurtosis MSCI =  13.881947735038839\n",
      "Annual Mean MSCI 0.06717533834887135\n",
      "Annual STD = 0.1383818099799003\n",
      "Annual Sharpe = 0.48543474289452093\n",
      "JB-test MSCI = Jarque_beraResult(statistic=nan, pvalue=nan)\n"
     ]
    }
   ],
   "source": [
    "# Summary statistics for MSCI Data.\n",
    "\n",
    "#Drop the first observation that is nan in order to obtain jarque bera test stat. \n",
    "print('Mean MSCI =', df_MSCI['Log returns'].mean())\n",
    "print('STD MSCI = ', df_MSCI['Log returns'].std())\n",
    "print('25% Quantile MSCI =', df_MSCI['Log returns'].quantile(q=0.25))\n",
    "print('75% Quantile MSCI', df_MSCI['Log returns'].quantile(q=0.75))\n",
    "print('Min daily return MSCI', df_MSCI['Log returns'].min())\n",
    "print('Max daily return MSCI', df_MSCI['Log returns'].max())\n",
    "print('Skewness MSCI = ', df_MSCI['Log returns'].skew())\n",
    "print('Kurtosis MSCI = ', df_MSCI['Log returns'].kurtosis())\n",
    "print('Annual Mean MSCI', (1+df_MSCI['Log returns'].mean())**252-1)\n",
    "print('Annual STD =', df_MSCI['Log returns'].std() * np.sqrt(252))\n",
    "print('Annual Sharpe =', ((1+df_MSCI['Log returns'].mean())**252-1)/(df_MSCI['Log returns'].std() * np.sqrt(252)))\n",
    "print('JB-test MSCI =', stats.jarque_bera(df_MSCI['Log returns']))"
   ]
  },
  {
   "cell_type": "markdown",
   "metadata": {},
   "source": [
    "#### Fitting of distribution"
   ]
  },
  {
   "cell_type": "code",
   "execution_count": 13,
   "metadata": {},
   "outputs": [
    {
     "data": {
      "image/png": "[encoded data removed]",
      "text/plain": [
       "<Figure size 1080x504 with 1 Axes>"
      ]
     },
     "metadata": {
      "needs_background": "light"
     },
     "output_type": "display_data"
    }
   ],
   "source": [
    "x = np.linspace(-0.05, 0.05, 10000)\n",
    "fig, ax = plt.subplots(figsize=(15,7))\n",
    "\n",
    "plt.hist(df_MSCI[\"Log returns\"], bins=100, density=True, color=\"b\", alpha=0.2, label=\"log $r_t$\")\n",
    "plt.plot(x, stats.norm.pdf(x, loc=df_MSCI[\"Log returns\"].mean(), scale =df_MSCI[\"Log returns\"].std()),\n",
    "             label=\"Fitted Normal distribution\", color=\"red\")\n",
    "plt.plot(x, stats.t.pdf(x, df=3, loc=df_MSCI['Log returns'].mean(), scale = df_MSCI['Log returns'].std())\n",
    "        , label = 'Fitted T distribution, 3 df', color = 'green')\n",
    "plt.xlim(-0.05, 0.05)\n",
    "plt.tight_layout()\n",
    "plt.legend()\n",
    "plt.savefig(save_results_to + 'MSCI_distribution.png', dpi = 300)"
   ]
  },
  {
   "cell_type": "code",
   "execution_count": 14,
   "metadata": {},
   "outputs": [
    {
     "data": {
      "text/plain": [
       "187"
      ]
     },
     "execution_count": 14,
     "metadata": {},
     "output_type": "execute_result"
    }
   ],
   "source": [
    "outliers_left = len(df_MSCI[df_MSCI['Log returns'] < -3*df_MSCI['Log returns'].std()+df_MSCI['Log returns'].mean()])\n",
    "outliers_left\n",
    "\n",
    "outliers_right = len(df_MSCI[df_MSCI['Log returns']>3*df_MSCI['Log returns'].std()+df_MSCI['Log returns'].mean()])\n",
    "outliers_right\n",
    "\n",
    "total_outliers = outliers_left + outliers_right\n",
    "total_outliers"
   ]
  },
  {
   "cell_type": "markdown",
   "metadata": {},
   "source": [
    "#### Drawdown Calculation"
   ]
  },
  {
   "cell_type": "code",
   "execution_count": 15,
   "metadata": {},
   "outputs": [],
   "source": [
    "#Previous_peaks = df_MSCI['MSCI Index'].cummax()\n",
    "#df_MSCI['drawdown'] = (df_MSCI['MSCI Index']-Previous_peaks)/Previous_peaks\n",
    "#df_MSCI.head()"
   ]
  },
  {
   "cell_type": "code",
   "execution_count": 16,
   "metadata": {},
   "outputs": [],
   "source": [
    "#fig, ax3 = plt.subplots(figsize=(15,7))\n",
    "#plt.subplots_adjust(wspace = 0.2, hspace=0.1)\n",
    "#ax3.plot(df_MSCI.index.values,df_MSCI['drawdown'], color=\"b\", alpha=0.4)\n",
    "#ax3.set_ylim(-0.8,0.05)\n",
    "#ax3.set_xlim(start_train_dt, end_test_dt)\n",
    "#plt.show()"
   ]
  },
  {
   "cell_type": "markdown",
   "metadata": {},
   "source": [
    "### ACF and absolute ACF - MSCI"
   ]
  },
  {
   "cell_type": "code",
   "execution_count": 17,
   "metadata": {},
   "outputs": [
    {
     "name": "stderr",
     "output_type": "stream",
     "text": [
      "/home/math/PycharmProjects/hmm-master/venv/lib/python3.8/site-packages/statsmodels/tsa/stattools.py:667: FutureWarning: fft=True will become the default after the release of the 0.12 release of statsmodels. To suppress this warning, explicitly set fft=False.\n",
      "  warnings.warn(\n"
     ]
    }
   ],
   "source": [
    "#### Compute ACF\n",
    "n_lags = 100\n",
    "lags = [i for i in range(n_lags)]\n",
    "acf = sm.tsa.acf(df_MSCI['Log returns'].dropna(),nlags = n_lags)[1:] #The 1: excludes the first observation which obviouslyh is 1.\n",
    "\n",
    "#### Compute ACF2\n",
    "acf_abs = sm.tsa.acf(np.abs(df_MSCI['Log returns'].dropna()), nlags=n_lags)[1:]"
   ]
  },
  {
   "cell_type": "code",
   "execution_count": 18,
   "metadata": {},
   "outputs": [],
   "source": [
    "#### Confidence interval for ACF\n",
    "acf_conf = [1.96  / np.sqrt(len(df_MSCI)), -1.96 / np.sqrt(len(df_MSCI))]\n",
    "\n",
    "#### Confidence interval for ACF^2\n",
    "acf_abs_conf = [1.96 / np.sqrt(len(np.abs(df_MSCI['Log returns']))), - 1.96 / np.sqrt(len(np.abs(df_MSCI['Log returns'])))]"
   ]
  },
  {
   "cell_type": "code",
   "execution_count": 19,
   "metadata": {},
   "outputs": [
    {
     "data": {
      "image/png": "[encoded data removed]",
      "text/plain": [
       "<Figure size 1080x504 with 2 Axes>"
      ]
     },
     "metadata": {
      "needs_background": "light"
     },
     "output_type": "display_data"
    }
   ],
   "source": [
    "# Create a 2x1 grid to plot in:\n",
    "fig, (ax1, ax2) = plt.subplots(2,1,figsize=(15,7))\n",
    "plt.subplots_adjust(wspace = 0.2, hspace=0.5)\n",
    "\n",
    "#Plot ACF & PACF\n",
    "labels = [\"ACF(log $r_t)$\",\"ACF absolute (log $r_t$)\"]\n",
    "variables = [acf, acf_abs]\n",
    "confidence = [acf_conf, acf_abs_conf]\n",
    "\n",
    "for (ax, labels, var, conf) in zip([ax1, ax2], labels, variables, confidence):\n",
    "    ax.bar(lags, var, color=\"b\", alpha=0.4)\n",
    "    ax.axhline(conf[0], linestyle = 'dashed', color = 'black')\n",
    "    ax.axhline(conf[1], linestyle = 'dashed', color = 'black')\n",
    "    ax.set_ylabel(labels)\n",
    "    ax.set_xlabel(\"Lag\")\n",
    "    ax.set_xlim(left=-0.5, right = max(lags)+1)\n",
    "    \n",
    "ax2.set_ylim(bottom=0)\n",
    "plt.savefig(save_results_to + 'MSCI_ACF.png', dpi = 300)\n"
   ]
  },
  {
   "cell_type": "markdown",
   "metadata": {},
   "source": [
    "### Data Exploration DAX"
   ]
  },
  {
   "cell_type": "code",
   "execution_count": 20,
   "metadata": {},
   "outputs": [],
   "source": [
    "# Set train and test periods\n",
    "start_train_dax = '1999-01-04'\n",
    "end_train_dax = '2015-01-01'\n",
    "\n",
    "start_test_dax = '2015-01-02'\n",
    "end_test_dax = '2021-02-12'\n",
    "\n",
    "# Get train and test as datetimes - used for plotting\n",
    "start_train_dt_dax = datetime.strptime(start_train_dax, '%Y-%m-%d')\n",
    "end_train_dt_dax = datetime.strptime(end_train_dax, '%Y-%m-%d')\n",
    "start_test_dt_dax = datetime.strptime(start_test_dax, '%Y-%m-%d')\n",
    "end_test_dt_dax = datetime.strptime(end_test_dax, '%Y-%m-%d')\n",
    "\n",
    "df_DAX = df_DAX.loc[start_train:end_test]"
   ]
  },
  {
   "cell_type": "code",
   "execution_count": 21,
   "metadata": {},
   "outputs": [
    {
     "data": {
      "image/png": "[encoded data removed]",
      "text/plain": [
       "<Figure size 1080x360 with 1 Axes>"
      ]
     },
     "metadata": {
      "needs_background": "light"
     },
     "output_type": "display_data"
    },
    {
     "data": {
      "text/plain": [
       "<Figure size 432x288 with 0 Axes>"
      ]
     },
     "metadata": {},
     "output_type": "display_data"
    }
   ],
   "source": [
    "fig, ax = plt.subplots(figsize=(15,5))\n",
    "plt.subplots_adjust(wspace = 0.2, hspace=0.1)\n",
    "ax.plot(df_DAX.index.values,df_DAX['DAX Index'], color=\"g\", alpha=0.4)\n",
    "ax.set_xlim(start_train_dt_dax, end_test_dt_dax)\n",
    "plt.show()\n",
    "plt.savefig(save_results_to + 'DAX_index.png', dpi = 300)"
   ]
  },
  {
   "cell_type": "code",
   "execution_count": 22,
   "metadata": {},
   "outputs": [
    {
     "data": {
      "image/png": "[encoded data removed]",
      "text/plain": [
       "<Figure size 1080x360 with 1 Axes>"
      ]
     },
     "metadata": {
      "needs_background": "light"
     },
     "output_type": "display_data"
    }
   ],
   "source": [
    "fig, ax = plt.subplots(figsize=(15,5))\n",
    "plt.subplots_adjust(wspace = 0.2, hspace=0.1)\n",
    "ax.plot(df_DAX.index.values,df_DAX['Log returns'], color=\"g\", alpha=0.4)\n",
    "ax.set_xlim(start_train_dt_dax, end_test_dt_dax)\n",
    "plt.savefig(save_results_to + 'DAX_log_returns.png', dpi = 300)\n",
    "plt.show()"
   ]
  },
  {
   "cell_type": "markdown",
   "metadata": {},
   "source": [
    "#### Calculation of summary statistics"
   ]
  },
  {
   "cell_type": "code",
   "execution_count": 23,
   "metadata": {},
   "outputs": [
    {
     "name": "stdout",
     "output_type": "stream",
     "text": [
      "Mean DAX = 0.00017982251081400703\n",
      "STD DAX =  0.015874249829185814\n",
      "25% Quantile DAX = -0.007143962503065371\n",
      "75% Quantile DAX 0.008154791205657874\n",
      "Min daily return DAX -0.13936001783108232\n",
      "Max daily return DAX 0.12572385310766165\n",
      "Skewness DAX =  -0.18689603728092744\n",
      "Kurtosis DAX =  5.811502720127117\n",
      "Annual STD = 0.25199590378641135\n",
      "Annual Sharpe = 0.18394518540433216\n",
      "JB-test DAX = Jarque_beraResult(statistic=nan, pvalue=nan)\n"
     ]
    }
   ],
   "source": [
    "# Summary statistics for DAX Data.\n",
    "\n",
    "#Drop the first observation that is nan in order to obtain jarque bera test stat. \n",
    "print('Mean DAX =', df_DAX['Log returns'].mean())\n",
    "print('STD DAX = ', df_DAX['Log returns'].std())\n",
    "print('25% Quantile DAX =', df_DAX['Log returns'].quantile(q=0.25))\n",
    "print('75% Quantile DAX', df_DAX['Log returns'].quantile(q=0.75))\n",
    "print('Min daily return DAX', df_DAX['Log returns'].min())\n",
    "print('Max daily return DAX', df_DAX['Log returns'].max())\n",
    "print('Skewness DAX = ', df_DAX['Log returns'].skew())\n",
    "print('Kurtosis DAX = ', df_DAX['Log returns'].kurtosis())\n",
    "print('Annual STD =', df_DAX['Log returns'].std() * np.sqrt(252))\n",
    "print('Annual Sharpe =', ((1+df_DAX['Log returns'].mean())**252-1)/(df_DAX['Log returns'].std() * np.sqrt(252)))\n",
    "print('JB-test DAX =', stats.jarque_bera(df_DAX['Log returns']))"
   ]
  },
  {
   "cell_type": "code",
   "execution_count": 24,
   "metadata": {},
   "outputs": [
    {
     "data": {
      "image/png": "[encoded data removed]",
      "text/plain": [
       "<Figure size 1080x504 with 1 Axes>"
      ]
     },
     "metadata": {
      "needs_background": "light"
     },
     "output_type": "display_data"
    }
   ],
   "source": [
    "x = np.linspace(-0.05, 0.05, 10000)\n",
    "fig, ax = plt.subplots(figsize=(15,7))\n",
    "\n",
    "plt.hist(df_DAX[\"Log returns\"], bins=100, density=True, color=\"g\", alpha=0.2, label=\"log $r_t$\")\n",
    "plt.plot(x, stats.norm.pdf(x, loc=df_DAX[\"Log returns\"].mean(), scale =df_DAX[\"Log returns\"].std()),\n",
    "             label=\"Fitted Normal distribution\", color=\"red\")\n",
    "plt.plot(x, stats.t.pdf(x, df=3, loc=df_DAX['Log returns'].mean(), scale = df_DAX['Log returns'].std())\n",
    "        , label = 'Fitted T distribution, 3 df', color = 'blue')\n",
    "plt.xlim(-0.07, 0.07)\n",
    "plt.tight_layout()\n",
    "plt.legend()\n",
    "plt.savefig(save_results_to + 'DAX_distribution.png', dpi = 300)"
   ]
  },
  {
   "cell_type": "markdown",
   "metadata": {},
   "source": [
    "#### ACF and Abs ACF"
   ]
  },
  {
   "cell_type": "code",
   "execution_count": 25,
   "metadata": {},
   "outputs": [
    {
     "name": "stderr",
     "output_type": "stream",
     "text": [
      "/home/math/PycharmProjects/hmm-master/venv/lib/python3.8/site-packages/statsmodels/tsa/stattools.py:667: FutureWarning: fft=True will become the default after the release of the 0.12 release of statsmodels. To suppress this warning, explicitly set fft=False.\n",
      "  warnings.warn(\n"
     ]
    }
   ],
   "source": [
    "### Compute ACF for train set:\n",
    "n_lags = 100\n",
    "lags = [i for i in range(n_lags)]\n",
    "acf = sm.tsa.acf(df_DAX['Log returns'].dropna(),nlags = n_lags)[1:] #The 1: excludes the first observation which obviouslyh is 1.\n",
    "\n",
    "#### Compute ACF2\n",
    "acf_abs = sm.tsa.acf(np.abs(df_DAX['Log returns'].dropna()), nlags=n_lags)[1:]"
   ]
  },
  {
   "cell_type": "code",
   "execution_count": null,
   "metadata": {
    "pycharm": {
     "is_executing": true
    }
   },
   "outputs": [],
   "source": [
    "# Create a 2x1 grid to plot in:\n",
    "fig, (ax1, ax2) = plt.subplots(2,1,figsize=(15,7))\n",
    "plt.subplots_adjust(wspace = 0.2, hspace=0.5)\n",
    "\n",
    "#Plot ACF & PACF\n",
    "labels = [\"ACF(log $r_t)$\",\"ACF absolute (log $r_t$)\"]\n",
    "variables = [acf, acf_abs]\n",
    "confidence = [acf_conf, acf_abs_conf]\n",
    "\n",
    "for (ax, labels, var, conf) in zip([ax1, ax2], labels, variables, confidence):\n",
    "    ax.bar(lags, var, color=\"g\", alpha=0.4)\n",
    "    ax.axhline(conf[0], linestyle = 'dashed', color = 'black')\n",
    "    ax.axhline(conf[1], linestyle = 'dashed', color = 'black')\n",
    "    ax.set_ylabel(labels)\n",
    "    ax.set_xlabel(\"Lag\")\n",
    "    ax.set_xlim(left=-0.5, right = max(lags)+1)\n",
    "    \n",
    "ax2.set_ylim(bottom=0)\n",
    "plt.savefig(save_results_to + 'DAX_ACF.png', dpi = 300)"
   ]
  },
  {
   "cell_type": "markdown",
   "metadata": {},
   "source": [
    "### Data Exploration S&P 500"
   ]
  },
  {
   "cell_type": "code",
   "execution_count": null,
   "metadata": {
    "pycharm": {
     "is_executing": true
    }
   },
   "outputs": [],
   "source": [
    "# Set train and test periods\n",
    "start_train_sp500 = '1960-01-04'\n",
    "end_train_sp500 = '2015-01-01'\n",
    "\n",
    "start_test_sp500 = '2015-01-02'\n",
    "end_test_sp500 = '2021-02-12'\n",
    "\n",
    "# Get train and test as datetimes - used for plotting\n",
    "start_train_dt_sp500 = datetime.strptime(start_train_sp500, '%Y-%m-%d')\n",
    "end_train_dt_sp500 = datetime.strptime(end_train_sp500, '%Y-%m-%d')\n",
    "start_test_dt_sp500 = datetime.strptime(start_test_sp500, '%Y-%m-%d')\n",
    "end_test_dt_sp500 = datetime.strptime(end_test_sp500, '%Y-%m-%d')\n",
    "\n",
    "df_SP500 = df_SP500.loc[start_train_sp500:end_test_sp500]"
   ]
  },
  {
   "cell_type": "code",
   "execution_count": null,
   "metadata": {
    "pycharm": {
     "is_executing": true
    }
   },
   "outputs": [],
   "source": [
    "fig, ax = plt.subplots(figsize=(15,5))\n",
    "plt.subplots_adjust(wspace = 0.2, hspace=0.1)\n",
    "ax.plot(df_SP500.index.values,df_SP500['S&P 500 Index'], color=\"r\", alpha=0.4)\n",
    "ax.set_xlim(start_train_dt_sp500, end_test_dt_sp500)\n",
    "plt.savefig(save_results_to + 'SP500_index.png', dpi = 300)\n",
    "plt.show()"
   ]
  },
  {
   "cell_type": "code",
   "execution_count": null,
   "metadata": {
    "pycharm": {
     "is_executing": true
    }
   },
   "outputs": [],
   "source": [
    "fig, ax = plt.subplots(figsize=(15,5))\n",
    "plt.subplots_adjust(wspace = 0.2, hspace=0.1)\n",
    "ax.plot(df_SP500.index.values,df_SP500['Log returns'], color=\"r\", alpha=0.4)\n",
    "ax.set_xlim(start_train_dt_sp500, end_test_dt_sp500)\n",
    "plt.show()\n",
    "plt.savefig(save_results_to + 'SP500_log_returns.png', dpi = 300)"
   ]
  },
  {
   "cell_type": "code",
   "execution_count": null,
   "metadata": {
    "pycharm": {
     "is_executing": true
    }
   },
   "outputs": [],
   "source": [
    "# Summary statistics for SP500 Data.\n",
    "\n",
    "#Drop the first observation that is nan in order to obtain jarque bera test stat. \n",
    "print('Mean S&P500 =', df_SP500['Log returns'].mean())\n",
    "print('STD S&P500 = ', df_SP500['Log returns'].std())\n",
    "print('25% Quantile S&P500 =', df_SP500['Log returns'].quantile(q=0.25))\n",
    "print('75% Quantile S&P500', df_SP500['Log returns'].quantile(q=0.75))\n",
    "print('Min daily return S&P500', df_SP500['Log returns'].min())\n",
    "print('Max daily return S&P500', df_SP500['Log returns'].max())\n",
    "print('Skewness S&P500 = ', df_SP500['Log returns'].skew())\n",
    "print('Kurtosis S&P500 = ', df_SP500['Log returns'].kurtosis())\n",
    "print('Annual STD =', df_SP500['Log returns'].std() * np.sqrt(252))\n",
    "print('Annual Sharpe =', ((1+df_SP500['Log returns'].mean())**252-1)/(df_SP500['Log returns'].std() * np.sqrt(252)))\n",
    "print('JB-test S&P500 =', stats.jarque_bera(df_SP500['Log returns']))"
   ]
  },
  {
   "cell_type": "code",
   "execution_count": null,
   "metadata": {
    "pycharm": {
     "is_executing": true
    }
   },
   "outputs": [],
   "source": [
    "x = np.linspace(-0.05, 0.05, 10000)\n",
    "fig, ax = plt.subplots(figsize=(15,7))\n",
    "\n",
    "plt.hist(df_SP500[\"Log returns\"], bins=100, density=True, color=\"r\", alpha=0.2, label=\"log $r_t$\")\n",
    "plt.plot(x, stats.norm.pdf(x, loc=df_SP500[\"Log returns\"].mean(), scale =df_SP500[\"Log returns\"].std()),\n",
    "             label=\"Fitted Normal distribution\", color=\"green\")\n",
    "plt.plot(x, stats.t.pdf(x, df=3, loc=df_SP500['Log returns'].mean(), scale = df_SP500['Log returns'].std())\n",
    "        , label = 'Fitted T distribution, 3 df', color = 'blue')\n",
    "plt.xlim(-0.07, 0.07)\n",
    "plt.tight_layout()\n",
    "plt.legend()\n",
    "plt.savefig(save_results_to + 'SP500_distribution.png', dpi = 300)"
   ]
  },
  {
   "cell_type": "code",
   "execution_count": null,
   "metadata": {
    "pycharm": {
     "is_executing": true
    }
   },
   "outputs": [],
   "source": [
    "### Compute ACF for train set:\n",
    "n_lags = 100\n",
    "lags = [i for i in range(n_lags)]\n",
    "acf = sm.tsa.acf(df_SP500['Log returns'].dropna(),nlags = n_lags)[1:] #The 1: excludes the first observation which obviouslyh is 1.\n",
    "\n",
    "#### Compute ACF2\n",
    "acf_abs = sm.tsa.acf(np.abs(df_SP500['Log returns'].dropna()), nlags=n_lags)[1:]"
   ]
  },
  {
   "cell_type": "code",
   "execution_count": null,
   "metadata": {
    "pycharm": {
     "is_executing": true
    }
   },
   "outputs": [],
   "source": [
    "# Create a 2x1 grid to plot in:\n",
    "fig, (ax1, ax2) = plt.subplots(2,1,figsize=(15,7))\n",
    "plt.subplots_adjust(wspace = 0.2, hspace=0.5)\n",
    "\n",
    "#Plot ACF & PACF\n",
    "labels = [\"ACF(log $r_t)$\",\"ACF absolute (log $r_t$)\"]\n",
    "variables = [acf, acf_abs]\n",
    "confidence = [acf_conf, acf_abs_conf]\n",
    "\n",
    "for (ax, labels, var, conf) in zip([ax1, ax2], labels, variables, confidence):\n",
    "    ax.bar(lags, var, color=\"r\", alpha=0.4)\n",
    "    ax.axhline(conf[0], linestyle = 'dashed', color = 'black')\n",
    "    ax.axhline(conf[1], linestyle = 'dashed', color = 'black')\n",
    "    ax.set_ylabel(labels)\n",
    "    ax.set_xlabel(\"Lag\")\n",
    "    ax.set_xlim(left=-0.5, right = max(lags)+1)\n",
    "    \n",
    "ax2.set_ylim(bottom=0)\n",
    "plt.savefig(save_results_to + 'SP500_ACF', dpi = 300)"
   ]
  },
  {
   "cell_type": "markdown",
   "metadata": {},
   "source": [
    "### Data Exploration: HY"
   ]
  },
  {
   "cell_type": "code",
   "execution_count": null,
   "metadata": {
    "pycharm": {
     "is_executing": true
    }
   },
   "outputs": [],
   "source": [
    "df_yield"
   ]
  },
  {
   "cell_type": "code",
   "execution_count": null,
   "metadata": {
    "pycharm": {
     "is_executing": true
    }
   },
   "outputs": [],
   "source": [
    "# Set train and test periods\n",
    "start_train_yield = '1987-01-30'\n",
    "end_train_yield = '2015-01-01'\n",
    "\n",
    "start_test_yield = '2015-01-02'\n",
    "end_test_yield = '2021-02-12'\n",
    "\n",
    "# Get train and test as datetimes - used for plotting\n",
    "start_train_dt_yield = datetime.strptime(start_train_yield, '%Y-%m-%d')\n",
    "end_train_dt_yield = datetime.strptime(end_train_yield, '%Y-%m-%d')\n",
    "start_test_dt_yield = datetime.strptime(start_test_yield, '%Y-%m-%d')\n",
    "end_test_dt_yield = datetime.strptime(end_test_yield, '%Y-%m-%d')\n",
    "\n",
    "df_yield = df_yield.loc[start_train:end_test]"
   ]
  },
  {
   "cell_type": "code",
   "execution_count": null,
   "metadata": {
    "pycharm": {
     "is_executing": true
    }
   },
   "outputs": [],
   "source": [
    "fig, ax = plt.subplots(figsize=(15,5))\n",
    "plt.subplots_adjust(wspace = 0.2, hspace=0.1)\n",
    "ax.plot(df_yield.index.values,df_yield['Yield Spread'], color=\"black\", alpha=0.4)\n",
    "ax.set_xlim(start_train_dt_yield, end_test_dt_yield)\n",
    "plt.ylabel('Yield spread, %')\n",
    "plt.xlabel('Year')\n",
    "plt.show()\n",
    "plt.savefig(save_results_to + 'yield_index.png', dpi = 300)"
   ]
  },
  {
   "cell_type": "code",
   "execution_count": null,
   "metadata": {
    "pycharm": {
     "is_executing": true
    }
   },
   "outputs": [],
   "source": [
    "fig, ax = plt.subplots(figsize=(15,5))\n",
    "plt.subplots_adjust(wspace = 0.2, hspace=0.1)\n",
    "ax.plot(df_yield.index.values,df_yield['Log returns'], color=\"black\", alpha=0.4)\n",
    "ax.set_xlim(start_train_dt_yield, end_test_dt_yield)\n",
    "plt.ylabel('$log r_t$, %')\n",
    "plt.xlabel('Year')\n",
    "plt.show()\n",
    "plt.savefig(save_results_to + 'yield_log_returns.png', dpi = 300)"
   ]
  },
  {
   "cell_type": "code",
   "execution_count": null,
   "metadata": {
    "pycharm": {
     "is_executing": true
    }
   },
   "outputs": [],
   "source": [
    "print('Mean yield =', df_yield['Log returns'].mean())\n",
    "print('STD yield = ', df_yield['Log returns'].std())\n",
    "print('25% Quantile yield =', df_yield['Log returns'].quantile(q=0.25))\n",
    "print('75% Quantile yield', df_yield['Log returns'].quantile(q=0.75))\n",
    "print('Min daily return yield', df_yield['Log returns'].min())\n",
    "print('Max daily return yield', df_yield['Log returns'].max())\n",
    "print('Skewness yield = ', df_yield['Log returns'].skew())\n",
    "print('Kurtosis yield = ', df_yield['Log returns'].kurtosis())\n",
    "print('Annual STD =', df_yield['Log returns'].std() * np.sqrt(252))\n",
    "print('JB-test yield =', stats.jarque_bera(df_yield['Log returns']))"
   ]
  },
  {
   "cell_type": "code",
   "execution_count": null,
   "metadata": {
    "pycharm": {
     "is_executing": true
    }
   },
   "outputs": [],
   "source": [
    "x = np.linspace(-0.10, 0.1, 10000)\n",
    "fig, ax = plt.subplots(figsize=(15,7))\n",
    "\n",
    "plt.hist(df_yield[\"Log returns\"], bins=100, density=True, color=\"black\", alpha=0.2, label=\"log $r_t$\")\n",
    "plt.plot(x, stats.norm.pdf(x, loc=df_yield[\"Log returns\"].mean(), scale =df_yield[\"Log returns\"].std()),\n",
    "             label=\"Fitted Normal distribution\", color=\"green\")\n",
    "plt.plot(x, stats.t.pdf(x, df=3, loc=df_yield['Log returns'].mean(), scale = df_yield['Log returns'].std())\n",
    "        , label = 'Fitted T distribution, 3 df', color = 'blue')\n",
    "plt.xlim(-0.10, 0.10)\n",
    "plt.tight_layout()\n",
    "plt.legend()\n",
    "plt.savefig(save_results_to + 'yield_distribution.png', dpi = 300)"
   ]
  },
  {
   "cell_type": "code",
   "execution_count": null,
   "metadata": {
    "pycharm": {
     "is_executing": true
    }
   },
   "outputs": [],
   "source": [
    "### Compute ACF for train set:\n",
    "n_lags = 100\n",
    "lags = [i for i in range(n_lags)]\n",
    "acf = sm.tsa.acf(df_yield['Log returns'].dropna(),nlags = n_lags)[1:] #The 1: excludes the first observation which obviouslyh is 1.\n",
    "\n",
    "#### Compute ACF2\n",
    "acf_abs = sm.tsa.acf(np.abs(df_yield['Log returns'].dropna()), nlags=n_lags)[1:]"
   ]
  },
  {
   "cell_type": "code",
   "execution_count": null,
   "metadata": {
    "pycharm": {
     "is_executing": true
    }
   },
   "outputs": [],
   "source": [
    "# Create a 2x1 grid to plot in:\n",
    "fig, (ax1, ax2) = plt.subplots(2,1,figsize=(15,7))\n",
    "plt.subplots_adjust(wspace = 0.2, hspace=0.5)\n",
    "\n",
    "#Plot ACF & PACF\n",
    "labels = [\"ACF(log $r_t)$\",\"ACF absolute (log $r_t$)\"]\n",
    "variables = [acf, acf_abs]\n",
    "confidence = [acf_conf, acf_abs_conf]\n",
    "\n",
    "for (ax, labels, var, conf) in zip([ax1, ax2], labels, variables, confidence):\n",
    "    ax.bar(lags, var, color=\"black\", alpha=0.4)\n",
    "    ax.axhline(conf[0], linestyle = 'dashed', color = 'black')\n",
    "    ax.axhline(conf[1], linestyle = 'dashed', color = 'black')\n",
    "    ax.set_ylabel(labels)\n",
    "    ax.set_xlabel(\"Lag\")\n",
    "    ax.set_xlim(left=-0.5, right = max(lags)+1)\n",
    "    \n",
    "ax2.set_ylim(bottom=0)\n",
    "plt.savefig(save_results_to + 'yield_ACF.png', dpi = 300)"
   ]
  },
  {
   "cell_type": "markdown",
   "metadata": {},
   "source": [
    "### Overview of combined indexes"
   ]
  },
  {
   "cell_type": "code",
   "execution_count": null,
   "metadata": {
    "pycharm": {
     "is_executing": true
    }
   },
   "outputs": [],
   "source": [
    "df_comb = df[['MSCI World', 'DAX ', 'S&P 500 ']]"
   ]
  },
  {
   "cell_type": "code",
   "execution_count": null,
   "metadata": {
    "pycharm": {
     "is_executing": true
    }
   },
   "outputs": [],
   "source": [
    "df_comb.dropna(inplace=True)"
   ]
  },
  {
   "cell_type": "code",
   "execution_count": null,
   "metadata": {
    "pycharm": {
     "is_executing": true
    }
   },
   "outputs": [],
   "source": [
    "df_comb.head(5)"
   ]
  },
  {
   "cell_type": "code",
   "execution_count": null,
   "metadata": {
    "pycharm": {
     "is_executing": true
    }
   },
   "outputs": [],
   "source": [
    "df_comb['MSCI Index'] = df_comb['MSCI World'] / df_comb['MSCI World'][0] * 100\n",
    "df_comb['DAX Index'] = df_comb['DAX '] / df_comb['DAX '][0]*100\n",
    "df_comb['S&P 500 Index'] = df_comb['S&P 500 '] / df_comb['S&P 500 '][0]*100\n"
   ]
  },
  {
   "cell_type": "code",
   "execution_count": null,
   "metadata": {
    "pycharm": {
     "is_executing": true
    }
   },
   "outputs": [],
   "source": [
    "#Set train and test periods\n",
    "start_train_comb = '1999-01-04'\n",
    "end_train_comb = '2015-01-01'\n",
    "\n",
    "start_test_comb = '2015-01-02'\n",
    "end_test_comb = '2021-02-12'\n",
    "\n",
    "# Get train and test as datetimes - used for plotting\n",
    "start_train_dt_comb = datetime.strptime(start_train_comb, '%Y-%m-%d')\n",
    "end_train_dt_comb = datetime.strptime(end_train_comb, '%Y-%m-%d')\n",
    "start_test_dt_comb = datetime.strptime(start_test_comb, '%Y-%m-%d')\n",
    "end_test_dt_comb = datetime.strptime(end_test_comb, '%Y-%m-%d')\n",
    "\n",
    "df_comb = df_comb.loc[start_train_comb:end_test_comb]"
   ]
  },
  {
   "cell_type": "code",
   "execution_count": null,
   "metadata": {
    "pycharm": {
     "is_executing": true
    }
   },
   "outputs": [],
   "source": [
    "fig, ax = plt.subplots(figsize=(15,7))\n",
    "plt.subplots_adjust(wspace = 0.2, hspace=0.1)\n",
    "\n",
    "ax2 = ax.twinx()\n",
    "\n",
    "ax.plot(df_comb.index.values,df_comb['MSCI Index'], color=\"b\", alpha=0.4, label='MSCI World')\n",
    "ax.plot(df_comb.index.values,df_comb['DAX Index'], color=\"g\", alpha=0.4, label = 'DAX')\n",
    "ax.plot(df_comb.index.values,df_comb['S&P 500 Index'], color=\"r\", alpha=0.4, label= 'S&P 500')\n",
    "ax2.plot(df_yield.index.values, df_yield['Yield Spread'], color='black', alpha=0.4, label='Yield Spread')\n",
    "ax2.set_ylabel(\"Yield Spread\")\n",
    "ax2\n",
    "ax.set_xlim(start_train_dt_comb, end_test_dt_comb)\n",
    "plt.xlabel('Year')\n",
    "ax.set_ylabel('Index')\n",
    "ax.legend()\n",
    "plt.legend()\n",
    "plt.show()\n",
    "plt.savefig(save_results_to + 'comb_index.png', dpi = 300)"
   ]
  },
  {
   "cell_type": "code",
   "execution_count": null,
   "metadata": {
    "pycharm": {
     "is_executing": true
    }
   },
   "outputs": [],
   "source": []
  }
 ],
 "metadata": {
  "kernelspec": {
   "display_name": "Python 3",
   "language": "python",
   "name": "python3"
  },
  "language_info": {
   "codemirror_mode": {
    "name": "ipython",
    "version": 3
   },
   "file_extension": ".py",
   "mimetype": "text/x-python",
   "name": "python",
   "nbconvert_exporter": "python",
   "pygments_lexer": "ipython3",
   "version": "3.8.5"
  }
 },
 "nbformat": 4,
 "nbformat_minor": 1
}